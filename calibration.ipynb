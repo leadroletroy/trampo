{
 "cells": [
  {
   "cell_type": "markdown",
   "metadata": {},
   "source": [
    "\n",
    "## Calibration tests\n",
    "### Pose2Sim calibration.py functions\n",
    "### KaggleHub dataset \"danielwe14/stereocamera-chessboard-pictures\"\n",
    "\n",
    "Auteurs : Léa Drolet-Roy\n",
    "\n",
    "Création : 2025-02-14\n",
    "\n",
    "Dernière modification :"
   ]
  },
  {
   "cell_type": "code",
   "execution_count": 37,
   "metadata": {},
   "outputs": [],
   "source": [
    "from pose2sim_trampo import calibration\n",
    "import os"
   ]
  },
  {
   "cell_type": "code",
   "execution_count": 38,
   "metadata": {},
   "outputs": [],
   "source": [
    "kaggle_dataset = 'kaggle/data'\n",
    "imgs = 'kaggle/data/imgs'\n",
    "rcam = r'kaggle\\data\\imgs\\rightcamera'\n",
    "lcam = r'kaggle\\data\\imgs\\leftcamera'"
   ]
  },
  {
   "cell_type": "code",
   "execution_count": 39,
   "metadata": {},
   "outputs": [
    {
     "ename": "error",
     "evalue": "OpenCV(4.11.0) :-1: error: (-5:Bad argument) in function 'solvePnP'\n> Overload resolution failed:\n>  - imagePoints is not a numerical tuple\n>  - Expected Ptr<cv::UMat> for argument 'imagePoints'\n",
     "output_type": "error",
     "traceback": [
      "\u001b[1;31m---------------------------------------------------------------------------\u001b[0m",
      "\u001b[1;31merror\u001b[0m                                     Traceback (most recent call last)",
      "Cell \u001b[1;32mIn[39], line 12\u001b[0m\n\u001b[0;32m      6\u001b[0m extrinsics_config_dict \u001b[38;5;241m=\u001b[39m {\u001b[38;5;124m'\u001b[39m\u001b[38;5;124mcalculate_extrinsics\u001b[39m\u001b[38;5;124m'\u001b[39m:\u001b[38;5;28;01mTrue\u001b[39;00m, \u001b[38;5;124m'\u001b[39m\u001b[38;5;124mshow_detection_extrinsics\u001b[39m\u001b[38;5;124m'\u001b[39m:\u001b[38;5;28;01mFalse\u001b[39;00m, \u001b[38;5;124m'\u001b[39m\u001b[38;5;124mextrinsics_method\u001b[39m\u001b[38;5;124m'\u001b[39m:\u001b[38;5;124m'\u001b[39m\u001b[38;5;124mboard\u001b[39m\u001b[38;5;124m'\u001b[39m,\n\u001b[0;32m      7\u001b[0m                           \u001b[38;5;124m'\u001b[39m\u001b[38;5;124mextrinsics_extension\u001b[39m\u001b[38;5;124m'\u001b[39m: \u001b[38;5;124m'\u001b[39m\u001b[38;5;124mpng\u001b[39m\u001b[38;5;124m'\u001b[39m, \u001b[38;5;124m'\u001b[39m\u001b[38;5;124mextrinsics_corners_nb\u001b[39m\u001b[38;5;124m'\u001b[39m:[\u001b[38;5;241m11\u001b[39m,\u001b[38;5;241m7\u001b[39m], \u001b[38;5;124m'\u001b[39m\u001b[38;5;124mextrinsics_square_size\u001b[39m\u001b[38;5;124m'\u001b[39m:\u001b[38;5;241m30\u001b[39m,\n\u001b[0;32m      8\u001b[0m                           \u001b[38;5;124m'\u001b[39m\u001b[38;5;124mboard\u001b[39m\u001b[38;5;124m'\u001b[39m: {\u001b[38;5;124m'\u001b[39m\u001b[38;5;124mextrinsics_extension\u001b[39m\u001b[38;5;124m'\u001b[39m: \u001b[38;5;124m'\u001b[39m\u001b[38;5;124mpng\u001b[39m\u001b[38;5;124m'\u001b[39m, \u001b[38;5;124m'\u001b[39m\u001b[38;5;124mshow_reprojection_error\u001b[39m\u001b[38;5;124m'\u001b[39m: \u001b[38;5;28;01mTrue\u001b[39;00m,\n\u001b[0;32m      9\u001b[0m                                     \u001b[38;5;124m'\u001b[39m\u001b[38;5;124mextrinsics_corners_nb\u001b[39m\u001b[38;5;124m'\u001b[39m: [\u001b[38;5;241m11\u001b[39m, \u001b[38;5;241m7\u001b[39m], \u001b[38;5;124m'\u001b[39m\u001b[38;5;124mextrinsics_square_size\u001b[39m\u001b[38;5;124m'\u001b[39m: \u001b[38;5;241m30\u001b[39m}}\n\u001b[0;32m     11\u001b[0m calib_dir \u001b[38;5;241m=\u001b[39m rcam\n\u001b[1;32m---> 12\u001b[0m \u001b[43mcalibration\u001b[49m\u001b[38;5;241;43m.\u001b[39;49m\u001b[43mcalib_calc_fun\u001b[49m\u001b[43m(\u001b[49m\u001b[43mcalib_dir\u001b[49m\u001b[43m,\u001b[49m\u001b[43m \u001b[49m\u001b[43mintrinsics_config_dict\u001b[49m\u001b[43m,\u001b[49m\u001b[43m \u001b[49m\u001b[43mextrinsics_config_dict\u001b[49m\u001b[43m)\u001b[49m\n",
      "File \u001b[1;32mc:\\Users\\LEA\\Desktop\\Poly\\Trampo\\code\\pose2sim_trampo\\calibration.py:532\u001b[0m, in \u001b[0;36mcalib_calc_fun\u001b[1;34m(calib_dir, intrinsics_config_dict, extrinsics_config_dict)\u001b[0m\n\u001b[0;32m    528\u001b[0m     \u001b[38;5;28;01mif\u001b[39;00m nb_cams_intrinsics \u001b[38;5;241m!=\u001b[39m nb_cams_extrinsics:\n\u001b[0;32m    529\u001b[0m         \u001b[38;5;28;01mraise\u001b[39;00m \u001b[38;5;167;01mException\u001b[39;00m(\u001b[38;5;124mf\u001b[39m\u001b[38;5;124m'\u001b[39m\u001b[38;5;124mError: The number of cameras is not consistent:\u001b[39m\u001b[38;5;130;01m\\\u001b[39;00m\n\u001b[0;32m    530\u001b[0m \u001b[38;5;124m                Found \u001b[39m\u001b[38;5;132;01m{\u001b[39;00mnb_cams_intrinsics\u001b[38;5;132;01m}\u001b[39;00m\u001b[38;5;124m cameras based on the number of intrinsic folders or on calibration file data,\u001b[39m\u001b[38;5;130;01m\\\u001b[39;00m\n\u001b[0;32m    531\u001b[0m \u001b[38;5;124m                and \u001b[39m\u001b[38;5;132;01m{\u001b[39;00mnb_cams_extrinsics\u001b[38;5;132;01m}\u001b[39;00m\u001b[38;5;124m cameras based on the number of extrinsic folders.\u001b[39m\u001b[38;5;124m'\u001b[39m)\n\u001b[1;32m--> 532\u001b[0m     ret, C, S, D, K, R, T \u001b[38;5;241m=\u001b[39m \u001b[43mcalibrate_extrinsics\u001b[49m\u001b[43m(\u001b[49m\u001b[43mcalib_dir\u001b[49m\u001b[43m,\u001b[49m\u001b[43m \u001b[49m\u001b[43mextrinsics_config_dict\u001b[49m\u001b[43m,\u001b[49m\u001b[43m \u001b[49m\u001b[43mC\u001b[49m\u001b[43m,\u001b[49m\u001b[43m \u001b[49m\u001b[43mS\u001b[49m\u001b[43m,\u001b[49m\u001b[43m \u001b[49m\u001b[43mK\u001b[49m\u001b[43m,\u001b[49m\u001b[43m \u001b[49m\u001b[43mD\u001b[49m\u001b[43m)\u001b[49m\n\u001b[0;32m    533\u001b[0m \u001b[38;5;28;01melse\u001b[39;00m:\n\u001b[0;32m    534\u001b[0m     logging\u001b[38;5;241m.\u001b[39minfo(\u001b[38;5;124mf\u001b[39m\u001b[38;5;124m'\u001b[39m\u001b[38;5;130;01m\\n\u001b[39;00m\u001b[38;5;124mExtrinsic parameters won\u001b[39m\u001b[38;5;130;01m\\'\u001b[39;00m\u001b[38;5;124mt be calculated. Set \u001b[39m\u001b[38;5;124m\"\u001b[39m\u001b[38;5;124mcalculate_extrinsics\u001b[39m\u001b[38;5;124m\"\u001b[39m\u001b[38;5;124m to true in Config.toml to calculate them.\u001b[39m\u001b[38;5;124m'\u001b[39m)\n",
      "File \u001b[1;32mc:\\Users\\LEA\\Desktop\\Poly\\Trampo\\code\\pose2sim_trampo\\calibration.py:712\u001b[0m, in \u001b[0;36mcalibrate_extrinsics\u001b[1;34m(calib_dir, extrinsics_config_dict, C, S, K, D)\u001b[0m\n\u001b[0;32m    710\u001b[0m \u001b[38;5;66;03m# Calculate extrinsics\u001b[39;00m\n\u001b[0;32m    711\u001b[0m mtx, dist \u001b[38;5;241m=\u001b[39m np\u001b[38;5;241m.\u001b[39marray(K[i]), np\u001b[38;5;241m.\u001b[39marray(D[i])\n\u001b[1;32m--> 712\u001b[0m _, r, t \u001b[38;5;241m=\u001b[39m \u001b[43mcv2\u001b[49m\u001b[38;5;241;43m.\u001b[39;49m\u001b[43msolvePnP\u001b[49m\u001b[43m(\u001b[49m\u001b[43mnp\u001b[49m\u001b[38;5;241;43m.\u001b[39;49m\u001b[43marray\u001b[49m\u001b[43m(\u001b[49m\u001b[43mobjp\u001b[49m\u001b[43m)\u001b[49m\u001b[38;5;241;43m*\u001b[39;49m\u001b[38;5;241;43m1000\u001b[39;49m\u001b[43m,\u001b[49m\u001b[43m \u001b[49m\u001b[43mimgp\u001b[49m\u001b[43m,\u001b[49m\u001b[43m \u001b[49m\u001b[43mmtx\u001b[49m\u001b[43m,\u001b[49m\u001b[43m \u001b[49m\u001b[43mdist\u001b[49m\u001b[43m)\u001b[49m\n\u001b[0;32m    713\u001b[0m r, t \u001b[38;5;241m=\u001b[39m r\u001b[38;5;241m.\u001b[39mflatten(), t\u001b[38;5;241m.\u001b[39mflatten()\n\u001b[0;32m    714\u001b[0m t \u001b[38;5;241m/\u001b[39m\u001b[38;5;241m=\u001b[39m \u001b[38;5;241m1000\u001b[39m \n",
      "\u001b[1;31merror\u001b[0m: OpenCV(4.11.0) :-1: error: (-5:Bad argument) in function 'solvePnP'\n> Overload resolution failed:\n>  - imagePoints is not a numerical tuple\n>  - Expected Ptr<cv::UMat> for argument 'imagePoints'\n"
     ]
    }
   ],
   "source": [
    "intrinsics_config_dict = {'calculate_intrinsics':True, 'overwrite_intrinsics':True, 'show_detection_intrinsics':False, 'intrinsics_method':'board',\n",
    "                          'intrinsics_extension': 'png', 'extract_every_N_sec':1, 'intrinsics_corners_nb':[11,7], 'intrinsics_square_size':30,\n",
    "                          'board': {'intrinsics_extension': 'png', 'show_reprojection_error': True,\n",
    "                                    'intrinsics_corners_nb': [11, 7], 'intrinsics_square_size': 30}}\n",
    "\n",
    "extrinsics_config_dict = {'calculate_extrinsics':True, 'show_detection_extrinsics':False, 'extrinsics_method':'board',\n",
    "                          'extrinsics_extension': 'png', 'extrinsics_corners_nb':[11,7], 'extrinsics_square_size':30,\n",
    "                          'board': {'extrinsics_extension': 'png', 'show_reprojection_error': True,\n",
    "                                    'extrinsics_corners_nb': [11, 7], 'extrinsics_square_size': 30}}\n",
    "\n",
    "calib_dir = rcam\n",
    "calibration.calib_calc_fun(calib_dir, intrinsics_config_dict, extrinsics_config_dict)"
   ]
  },
  {
   "cell_type": "code",
   "execution_count": 36,
   "metadata": {},
   "outputs": [
    {
     "ename": "ValueError",
     "evalue": "operands could not be broadcast together with shapes (77,1,2) (0,) ",
     "output_type": "error",
     "traceback": [
      "\u001b[1;31m---------------------------------------------------------------------------\u001b[0m",
      "\u001b[1;31mValueError\u001b[0m                                Traceback (most recent call last)",
      "Cell \u001b[1;32mIn[36], line 3\u001b[0m\n\u001b[0;32m      1\u001b[0m \u001b[38;5;28;01mimport\u001b[39;00m\u001b[38;5;250m \u001b[39m\u001b[38;5;21;01mnumpy\u001b[39;00m\u001b[38;5;250m \u001b[39m\u001b[38;5;28;01mas\u001b[39;00m\u001b[38;5;250m \u001b[39m\u001b[38;5;21;01mnp\u001b[39;00m\n\u001b[0;32m      2\u001b[0m imgp \u001b[38;5;241m=\u001b[39m np\u001b[38;5;241m.\u001b[39mzeros((\u001b[38;5;241m77\u001b[39m,\u001b[38;5;241m1\u001b[39m,\u001b[38;5;241m2\u001b[39m))\n\u001b[1;32m----> 3\u001b[0m \u001b[38;5;28mprint\u001b[39m(\u001b[43mimgp\u001b[49m\u001b[43m \u001b[49m\u001b[38;5;241;43m==\u001b[39;49m\u001b[43m \u001b[49m\u001b[43m[\u001b[49m\u001b[43m]\u001b[49m)\n",
      "\u001b[1;31mValueError\u001b[0m: operands could not be broadcast together with shapes (77,1,2) (0,) "
     ]
    }
   ],
   "source": [
    "import numpy as np\n",
    "imgp = np.zeros((77,1,2))\n",
    "print(imgp == [])"
   ]
  }
 ],
 "metadata": {
  "kernelspec": {
   "display_name": "trampo",
   "language": "python",
   "name": "python3"
  },
  "language_info": {
   "codemirror_mode": {
    "name": "ipython",
    "version": 3
   },
   "file_extension": ".py",
   "mimetype": "text/x-python",
   "name": "python",
   "nbconvert_exporter": "python",
   "pygments_lexer": "ipython3",
   "version": "3.13.1"
  }
 },
 "nbformat": 4,
 "nbformat_minor": 2
}
