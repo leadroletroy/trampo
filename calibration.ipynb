{
 "cells": [
  {
   "cell_type": "markdown",
   "metadata": {},
   "source": [
    "\n",
    "## Calibration tests\n",
    "### Pose2Sim calibration.py functions\n",
    "### KaggleHub dataset \"danielwe14/stereocamera-chessboard-pictures\"\n",
    "\n",
    "Auteurs : Léa Drolet-Roy\n",
    "\n",
    "Création : 2025-02-14\n",
    "\n",
    "Dernière modification :"
   ]
  },
  {
   "cell_type": "code",
   "execution_count": null,
   "metadata": {},
   "outputs": [],
   "source": [
    "import numpy as np\n",
    "import cv2"
   ]
  },
  {
   "cell_type": "code",
   "execution_count": null,
   "metadata": {},
   "outputs": [],
   "source": [
    "h, w = image_size\n",
    "camera_matrix_init = np.array([\n",
    "    [focal_length, 0, w / 2],\n",
    "    [0, focal_length, h / 2],\n",
    "    [0, 0, 1]], dtype=np.float32)\n",
    "\n",
    "ret, C, S, D, K = Board.calibrate_intrinsics(calib_dir, cams, image_size, camera_matrix_init)\n",
    "\n",
    "K = np.array(K)\n",
    "np.savez('Intrinsics_K_trampo.npz', K)\n",
    "D = np.array(D)\n",
    "np.savez('Intrinsics_D_trampo.npz', D)\n",
    "\n",
    "    "
   ]
  },
  {
   "cell_type": "code",
   "execution_count": null,
   "metadata": {},
   "outputs": [],
   "source": [
    "## PSO for extrinsic parameters (with Bundle adjustment)\n",
    "# Constants\n",
    "num_cameras = 7\n",
    "num_params_per_cam = 6\n",
    "total_params = num_cameras * num_params_per_cam\n",
    "n_particles = 60  # Number of particles\n",
    "options = {'c1': 1.5, 'c2': 1.5, 'w': 0.7} #{'c1': 2.05, 'c2': 2.05, 'w': 0.729} # PSO Hyperparameters\n",
    "\n",
    "projMat = np.load('Extrinsics_optimized_3.npz')['arr_0']\n",
    "\n",
    "init_params = []\n",
    "for mat in projMat:\n",
    "    rvec, _ = cv2.Rodrigues(mat[0:3,0:3])\n",
    "    rvec = rvec.squeeze()\n",
    "    params = [rvec[0], rvec[1], rvec[2], mat[0,3], mat[1,3], mat[2,3]]\n",
    "    init_params.extend(params)\n",
    "\n",
    "init_params = np.array(init_params, dtype=np.float64)\n",
    "init_pos = np.tile(init_params, (n_particles,1))\n",
    "print(init_params.shape)\n",
    "print(init_pos.shape)\n",
    "\n",
    "# Define parameter bounds\n",
    "lower_bounds = [-2*np.pi, -2*np.pi, -2*np.pi, -5000, -5000, -5000]\n",
    "upper_bounds = [2*np.pi, 2*np.pi, 2*np.pi, 5000, 5000, 6000]\n",
    "\n",
    "param_bounds = (np.tile(lower_bounds, num_cameras), np.tile(upper_bounds, num_cameras))\n",
    "print(param_bounds[0].shape)\n",
    "\n",
    "print(np.all(param_bounds[0] <= init_pos[0]))\n",
    "print(np.all(init_pos[0] <= param_bounds[1]))"
   ]
  }
 ],
 "metadata": {
  "kernelspec": {
   "display_name": "trampo",
   "language": "python",
   "name": "python3"
  },
  "language_info": {
   "codemirror_mode": {
    "name": "ipython",
    "version": 3
   },
   "file_extension": ".py",
   "mimetype": "text/x-python",
   "name": "python",
   "nbconvert_exporter": "python",
   "pygments_lexer": "ipython3",
   "version": "3.13.1"
  }
 },
 "nbformat": 4,
 "nbformat_minor": 2
}
