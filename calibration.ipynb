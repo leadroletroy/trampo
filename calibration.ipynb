{
 "cells": [
  {
   "cell_type": "markdown",
   "metadata": {},
   "source": [
    "\n",
    "## Calibration tests\n",
    "### Pose2Sim calibration.py functions\n",
    "### KaggleHub dataset \"danielwe14/stereocamera-chessboard-pictures\"\n",
    "\n",
    "Auteurs : Léa Drolet-Roy\n",
    "\n",
    "Création : 2025-02-14\n",
    "\n",
    "Dernière modification :"
   ]
  },
  {
   "cell_type": "code",
   "execution_count": 1,
   "metadata": {},
   "outputs": [],
   "source": [
    "from pose2sim_trampo import calibration\n",
    "import os"
   ]
  },
  {
   "cell_type": "code",
   "execution_count": 2,
   "metadata": {},
   "outputs": [],
   "source": [
    "rcam = r'C:\\Users\\LEA\\Desktop\\Poly\\Trampo\\kaggledata\\data\\imgs\\rightcamera'\n",
    "lcam = r'C:\\Users\\LEA\\Desktop\\Poly\\Trampo\\kaggledata\\data\\imgs\\leftcamera'"
   ]
  },
  {
   "cell_type": "code",
   "execution_count": null,
   "metadata": {},
   "outputs": [
    {
     "name": "stdout",
     "output_type": "stream",
     "text": [
      "reproj error (mm): [1.8528506] \n",
      " Cam: ['calibration'] \n",
      " Image Size: [[1024.0, 576.0]] \n",
      " Distorsions: [array([ 0.00171988, -0.05473393, -0.00141958,  0.00124846,  0.        ])] \n",
      " Intrinsics: [array([[722.16141241,   0.        , 513.55680097],\n",
      "       [  0.        , 732.82217137, 292.96790798],\n",
      "       [  0.        ,   0.        ,   1.        ]])] \n",
      "R: [array([-0.0076784 , -0.02694066,  0.01285051])] \n",
      "T: [array([-0.10418057, -0.13736485,  0.53347749])]\n"
     ]
    }
   ],
   "source": [
    "intrinsics_config_dict = {'calculate_intrinsics':True, 'overwrite_intrinsics':True, 'show_detection_intrinsics':False, 'intrinsics_method':'board',\n",
    "                          'intrinsics_extension': 'png', 'extract_every_N_sec':1, 'intrinsics_corners_nb':[11,7], 'intrinsics_square_size':30,\n",
    "                          'board': {'intrinsics_extension': 'png', 'show_reprojection_error': True,\n",
    "                                    'intrinsics_corners_nb': [11, 7], 'intrinsics_square_size': 30}}\n",
    "\n",
    "extrinsics_config_dict = {'calculate_extrinsics':True, 'show_detection_extrinsics':False, 'extrinsics_method':'board',\n",
    "                          'extrinsics_extension': 'png', 'extrinsics_corners_nb':[11,7], 'extrinsics_square_size':30,\n",
    "                          'board': {'extrinsics_extension': 'png', 'show_reprojection_error': True,\n",
    "                                    'extrinsics_corners_nb': [11, 7], 'extrinsics_square_size': 30}}\n",
    "\n",
    "calib_dir = rcam\n",
    "ret, C, S, D, K, R, T = calibration.calib_calc_fun(calib_dir, intrinsics_config_dict, extrinsics_config_dict)\n",
    "\n",
    "print(f'reproj error (mm): {ret} \\nCam: {C} \\nImage Size: {S} \\nDistorsions: {D} \\nIntrinsics: {K} \\nR: {R} \\nT (m): {T}')\n"
   ]
  },
  {
   "cell_type": "code",
   "execution_count": 9,
   "metadata": {},
   "outputs": [
    {
     "name": "stdout",
     "output_type": "stream",
     "text": [
      "reproj error (mm): [1.6600986] \n",
      "Cam: ['calibration'] \n",
      "Image Size: [[1024.0, 576.0]] \n",
      "Distorsions: [array([ 0.01308264, -0.06773213,  0.00083728,  0.00010534,  0.        ])] \n",
      "Intrinsics: [array([[718.20586072,   0.        , 524.24014514],\n",
      "       [  0.        , 729.25951051, 285.53750339],\n",
      "       [  0.        ,   0.        ,   1.        ]])] \n",
      "R: [array([-0.03799997,  0.00696002,  0.02125898])] \n",
      "T (m): [array([-0.27465367, -0.12081845,  0.54168781])]\n"
     ]
    }
   ],
   "source": [
    "calib_dir = lcam\n",
    "\n",
    "ret, C, S, D, K, R, T = calibration.calib_calc_fun(calib_dir, intrinsics_config_dict, extrinsics_config_dict)\n",
    "\n",
    "print(f'reproj error (mm): {ret} \\nCam: {C} \\nImage Size: {S} \\nDistorsions: {D} \\nIntrinsics: {K} \\nR: {R} \\nT (m): {T}')\n"
   ]
  }
 ],
 "metadata": {
  "kernelspec": {
   "display_name": "trampo",
   "language": "python",
   "name": "python3"
  },
  "language_info": {
   "codemirror_mode": {
    "name": "ipython",
    "version": 3
   },
   "file_extension": ".py",
   "mimetype": "text/x-python",
   "name": "python",
   "nbconvert_exporter": "python",
   "pygments_lexer": "ipython3",
   "version": "3.13.1"
  }
 },
 "nbformat": 4,
 "nbformat_minor": 2
}
