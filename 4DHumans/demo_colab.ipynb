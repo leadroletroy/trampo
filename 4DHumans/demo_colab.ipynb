{
 "cells": [
  {
   "cell_type": "code",
   "execution_count": 1,
   "id": "d53a3778",
   "metadata": {},
   "outputs": [
    {
     "name": "stdout",
     "output_type": "stream",
     "text": [
      "/home/lea/trampo/4DHumans/4D-Humans\n"
     ]
    }
   ],
   "source": [
    "# Clone the main repo\n",
    "# %%capture\n",
    "#! git clone https://github.com/shubham-goel/4D-Humans.git 4D-Humans\n",
    "%cd 4D-Humans"
   ]
  },
  {
   "cell_type": "code",
   "execution_count": 2,
   "id": "c205cea7",
   "metadata": {},
   "outputs": [
    {
     "name": "stdout",
     "output_type": "stream",
     "text": [
      "Requirement already satisfied: torch in /home/lea/anaconda3/envs/4D-humans/lib/python3.10/site-packages (2.1.0+cu118)\n",
      "Requirement already satisfied: filelock in /home/lea/anaconda3/envs/4D-humans/lib/python3.10/site-packages (from torch) (3.18.0)\n",
      "Requirement already satisfied: typing-extensions in /home/lea/anaconda3/envs/4D-humans/lib/python3.10/site-packages (from torch) (4.13.2)\n",
      "Requirement already satisfied: sympy in /home/lea/anaconda3/envs/4D-humans/lib/python3.10/site-packages (from torch) (1.14.0)\n",
      "Requirement already satisfied: networkx in /home/lea/anaconda3/envs/4D-humans/lib/python3.10/site-packages (from torch) (3.4.2)\n",
      "Requirement already satisfied: jinja2 in /home/lea/anaconda3/envs/4D-humans/lib/python3.10/site-packages (from torch) (3.1.6)\n",
      "Requirement already satisfied: fsspec in /home/lea/anaconda3/envs/4D-humans/lib/python3.10/site-packages (from torch) (2025.3.2)\n",
      "Requirement already satisfied: triton==2.1.0 in /home/lea/anaconda3/envs/4D-humans/lib/python3.10/site-packages (from torch) (2.1.0)\n",
      "Requirement already satisfied: MarkupSafe>=2.0 in /home/lea/anaconda3/envs/4D-humans/lib/python3.10/site-packages (from jinja2->torch) (3.0.2)\n",
      "Requirement already satisfied: mpmath<1.4,>=1.1.0 in /home/lea/anaconda3/envs/4D-humans/lib/python3.10/site-packages (from sympy->torch) (1.3.0)\n",
      "Obtaining file:///home/lea/4DHumans/4D-Humans\n",
      "  Preparing metadata (setup.py) ... \u001b[?25ldone\n",
      "\u001b[?25hRequirement already satisfied: gdown in /home/lea/anaconda3/envs/4D-humans/lib/python3.10/site-packages (from hmr2==0.0.0) (5.2.0)\n",
      "Requirement already satisfied: numpy in /home/lea/anaconda3/envs/4D-humans/lib/python3.10/site-packages (from hmr2==0.0.0) (1.26.4)\n",
      "Requirement already satisfied: torch in /home/lea/anaconda3/envs/4D-humans/lib/python3.10/site-packages (from hmr2==0.0.0) (2.1.0+cu118)\n",
      "Requirement already satisfied: torchvision in /home/lea/anaconda3/envs/4D-humans/lib/python3.10/site-packages (from hmr2==0.0.0) (0.16.0+cu118)\n",
      "Requirement already satisfied: pytorch-lightning in /home/lea/anaconda3/envs/4D-humans/lib/python3.10/site-packages (from hmr2==0.0.0) (2.5.1.post0)\n",
      "Requirement already satisfied: smplx==0.1.28 in /home/lea/anaconda3/envs/4D-humans/lib/python3.10/site-packages (from hmr2==0.0.0) (0.1.28)\n",
      "Requirement already satisfied: pyrender in /home/lea/anaconda3/envs/4D-humans/lib/python3.10/site-packages (from hmr2==0.0.0) (0.1.45)\n",
      "Requirement already satisfied: opencv-python in /home/lea/anaconda3/envs/4D-humans/lib/python3.10/site-packages (from hmr2==0.0.0) (4.11.0.86)\n",
      "Requirement already satisfied: yacs in /home/lea/anaconda3/envs/4D-humans/lib/python3.10/site-packages (from hmr2==0.0.0) (0.1.8)\n",
      "Requirement already satisfied: scikit-image in /home/lea/anaconda3/envs/4D-humans/lib/python3.10/site-packages (from hmr2==0.0.0) (0.25.2)\n",
      "Requirement already satisfied: einops in /home/lea/anaconda3/envs/4D-humans/lib/python3.10/site-packages (from hmr2==0.0.0) (0.8.1)\n",
      "Requirement already satisfied: timm in /home/lea/anaconda3/envs/4D-humans/lib/python3.10/site-packages (from hmr2==0.0.0) (1.0.15)\n",
      "Requirement already satisfied: webdataset in /home/lea/anaconda3/envs/4D-humans/lib/python3.10/site-packages (from hmr2==0.0.0) (0.2.111)\n",
      "Requirement already satisfied: dill in /home/lea/anaconda3/envs/4D-humans/lib/python3.10/site-packages (from hmr2==0.0.0) (0.4.0)\n",
      "Requirement already satisfied: pandas in /home/lea/anaconda3/envs/4D-humans/lib/python3.10/site-packages (from hmr2==0.0.0) (2.2.3)\n",
      "Collecting chumpy@ git+https://github.com/mattloper/chumpy (from hmr2==0.0.0)\n",
      "  Cloning https://github.com/mattloper/chumpy to /tmp/pip-install-755d8zpi/chumpy_b7d00711904a436e975a32f7a76e39ef\n",
      "  Running command git clone --filter=blob:none --quiet https://github.com/mattloper/chumpy /tmp/pip-install-755d8zpi/chumpy_b7d00711904a436e975a32f7a76e39ef\n",
      "  Resolved https://github.com/mattloper/chumpy to commit 51d5afd92a8ded3637553be8cef41f328a1c863a\n",
      "  Preparing metadata (setup.py) ... \u001b[?25ldone\n",
      "\u001b[?25hRequirement already satisfied: scipy>=0.13.0 in /home/lea/anaconda3/envs/4D-humans/lib/python3.10/site-packages (from chumpy@ git+https://github.com/mattloper/chumpy->hmr2==0.0.0) (1.15.3)\n",
      "Requirement already satisfied: six>=1.11.0 in /home/lea/anaconda3/envs/4D-humans/lib/python3.10/site-packages (from chumpy@ git+https://github.com/mattloper/chumpy->hmr2==0.0.0) (1.17.0)\n",
      "Collecting detectron2@ git+https://github.com/facebookresearch/detectron2 (from hmr2==0.0.0)\n",
      "  Cloning https://github.com/facebookresearch/detectron2 to /tmp/pip-install-755d8zpi/detectron2_e7a2b8506286430cb1e3e235647226f5\n",
      "  Running command git clone --filter=blob:none --quiet https://github.com/facebookresearch/detectron2 /tmp/pip-install-755d8zpi/detectron2_e7a2b8506286430cb1e3e235647226f5\n",
      "  Resolved https://github.com/facebookresearch/detectron2 to commit 536dc9d527074e3b15df5f6677ffe1f4e104a4ab\n",
      "  Preparing metadata (setup.py) ... \u001b[?25ldone\n",
      "\u001b[?25hRequirement already satisfied: Pillow>=7.1 in /home/lea/anaconda3/envs/4D-humans/lib/python3.10/site-packages (from detectron2@ git+https://github.com/facebookresearch/detectron2->hmr2==0.0.0) (11.2.1)\n",
      "Requirement already satisfied: matplotlib in /home/lea/anaconda3/envs/4D-humans/lib/python3.10/site-packages (from detectron2@ git+https://github.com/facebookresearch/detectron2->hmr2==0.0.0) (3.10.3)\n",
      "Requirement already satisfied: pycocotools>=2.0.2 in /home/lea/anaconda3/envs/4D-humans/lib/python3.10/site-packages (from detectron2@ git+https://github.com/facebookresearch/detectron2->hmr2==0.0.0) (2.0.8)\n",
      "Requirement already satisfied: termcolor>=1.1 in /home/lea/anaconda3/envs/4D-humans/lib/python3.10/site-packages (from detectron2@ git+https://github.com/facebookresearch/detectron2->hmr2==0.0.0) (3.1.0)\n",
      "Requirement already satisfied: tabulate in /home/lea/anaconda3/envs/4D-humans/lib/python3.10/site-packages (from detectron2@ git+https://github.com/facebookresearch/detectron2->hmr2==0.0.0) (0.9.0)\n",
      "Requirement already satisfied: cloudpickle in /home/lea/anaconda3/envs/4D-humans/lib/python3.10/site-packages (from detectron2@ git+https://github.com/facebookresearch/detectron2->hmr2==0.0.0) (3.1.1)\n",
      "Requirement already satisfied: tqdm>4.29.0 in /home/lea/anaconda3/envs/4D-humans/lib/python3.10/site-packages (from detectron2@ git+https://github.com/facebookresearch/detectron2->hmr2==0.0.0) (4.67.1)\n",
      "Requirement already satisfied: tensorboard in /home/lea/anaconda3/envs/4D-humans/lib/python3.10/site-packages (from detectron2@ git+https://github.com/facebookresearch/detectron2->hmr2==0.0.0) (2.19.0)\n",
      "Requirement already satisfied: fvcore<0.1.6,>=0.1.5 in /home/lea/anaconda3/envs/4D-humans/lib/python3.10/site-packages (from detectron2@ git+https://github.com/facebookresearch/detectron2->hmr2==0.0.0) (0.1.5.post20221221)\n",
      "Requirement already satisfied: iopath<0.1.10,>=0.1.7 in /home/lea/anaconda3/envs/4D-humans/lib/python3.10/site-packages (from detectron2@ git+https://github.com/facebookresearch/detectron2->hmr2==0.0.0) (0.1.9)\n",
      "Requirement already satisfied: omegaconf<2.4,>=2.1 in /home/lea/anaconda3/envs/4D-humans/lib/python3.10/site-packages (from detectron2@ git+https://github.com/facebookresearch/detectron2->hmr2==0.0.0) (2.3.0)\n",
      "Requirement already satisfied: hydra-core>=1.1 in /home/lea/anaconda3/envs/4D-humans/lib/python3.10/site-packages (from detectron2@ git+https://github.com/facebookresearch/detectron2->hmr2==0.0.0) (1.3.2)\n",
      "Requirement already satisfied: black in /home/lea/anaconda3/envs/4D-humans/lib/python3.10/site-packages (from detectron2@ git+https://github.com/facebookresearch/detectron2->hmr2==0.0.0) (25.1.0)\n",
      "Requirement already satisfied: packaging in /home/lea/anaconda3/envs/4D-humans/lib/python3.10/site-packages (from detectron2@ git+https://github.com/facebookresearch/detectron2->hmr2==0.0.0) (25.0)\n",
      "Requirement already satisfied: pyyaml>=5.1 in /home/lea/anaconda3/envs/4D-humans/lib/python3.10/site-packages (from fvcore<0.1.6,>=0.1.5->detectron2@ git+https://github.com/facebookresearch/detectron2->hmr2==0.0.0) (6.0.2)\n",
      "Requirement already satisfied: portalocker in /home/lea/anaconda3/envs/4D-humans/lib/python3.10/site-packages (from iopath<0.1.10,>=0.1.7->detectron2@ git+https://github.com/facebookresearch/detectron2->hmr2==0.0.0) (3.1.1)\n",
      "Requirement already satisfied: antlr4-python3-runtime==4.9.* in /home/lea/anaconda3/envs/4D-humans/lib/python3.10/site-packages (from omegaconf<2.4,>=2.1->detectron2@ git+https://github.com/facebookresearch/detectron2->hmr2==0.0.0) (4.9.3)\n",
      "Requirement already satisfied: contourpy>=1.0.1 in /home/lea/anaconda3/envs/4D-humans/lib/python3.10/site-packages (from matplotlib->detectron2@ git+https://github.com/facebookresearch/detectron2->hmr2==0.0.0) (1.3.2)\n",
      "Requirement already satisfied: cycler>=0.10 in /home/lea/anaconda3/envs/4D-humans/lib/python3.10/site-packages (from matplotlib->detectron2@ git+https://github.com/facebookresearch/detectron2->hmr2==0.0.0) (0.12.1)\n",
      "Requirement already satisfied: fonttools>=4.22.0 in /home/lea/anaconda3/envs/4D-humans/lib/python3.10/site-packages (from matplotlib->detectron2@ git+https://github.com/facebookresearch/detectron2->hmr2==0.0.0) (4.58.0)\n",
      "Requirement already satisfied: kiwisolver>=1.3.1 in /home/lea/anaconda3/envs/4D-humans/lib/python3.10/site-packages (from matplotlib->detectron2@ git+https://github.com/facebookresearch/detectron2->hmr2==0.0.0) (1.4.8)\n",
      "Requirement already satisfied: pyparsing>=2.3.1 in /home/lea/anaconda3/envs/4D-humans/lib/python3.10/site-packages (from matplotlib->detectron2@ git+https://github.com/facebookresearch/detectron2->hmr2==0.0.0) (3.2.3)\n",
      "Requirement already satisfied: python-dateutil>=2.7 in /home/lea/anaconda3/envs/4D-humans/lib/python3.10/site-packages (from matplotlib->detectron2@ git+https://github.com/facebookresearch/detectron2->hmr2==0.0.0) (2.9.0.post0)\n",
      "Requirement already satisfied: filelock in /home/lea/anaconda3/envs/4D-humans/lib/python3.10/site-packages (from torch->hmr2==0.0.0) (3.18.0)\n",
      "Requirement already satisfied: typing-extensions in /home/lea/anaconda3/envs/4D-humans/lib/python3.10/site-packages (from torch->hmr2==0.0.0) (4.13.2)\n",
      "Requirement already satisfied: sympy in /home/lea/anaconda3/envs/4D-humans/lib/python3.10/site-packages (from torch->hmr2==0.0.0) (1.14.0)\n",
      "Requirement already satisfied: networkx in /home/lea/anaconda3/envs/4D-humans/lib/python3.10/site-packages (from torch->hmr2==0.0.0) (3.4.2)\n",
      "Requirement already satisfied: jinja2 in /home/lea/anaconda3/envs/4D-humans/lib/python3.10/site-packages (from torch->hmr2==0.0.0) (3.1.6)\n",
      "Requirement already satisfied: fsspec in /home/lea/anaconda3/envs/4D-humans/lib/python3.10/site-packages (from torch->hmr2==0.0.0) (2025.3.2)\n",
      "Requirement already satisfied: triton==2.1.0 in /home/lea/anaconda3/envs/4D-humans/lib/python3.10/site-packages (from torch->hmr2==0.0.0) (2.1.0)\n",
      "Requirement already satisfied: click>=8.0.0 in /home/lea/anaconda3/envs/4D-humans/lib/python3.10/site-packages (from black->detectron2@ git+https://github.com/facebookresearch/detectron2->hmr2==0.0.0) (8.2.0)\n",
      "Requirement already satisfied: mypy-extensions>=0.4.3 in /home/lea/anaconda3/envs/4D-humans/lib/python3.10/site-packages (from black->detectron2@ git+https://github.com/facebookresearch/detectron2->hmr2==0.0.0) (1.1.0)\n",
      "Requirement already satisfied: pathspec>=0.9.0 in /home/lea/anaconda3/envs/4D-humans/lib/python3.10/site-packages (from black->detectron2@ git+https://github.com/facebookresearch/detectron2->hmr2==0.0.0) (0.12.1)\n",
      "Requirement already satisfied: platformdirs>=2 in /home/lea/anaconda3/envs/4D-humans/lib/python3.10/site-packages (from black->detectron2@ git+https://github.com/facebookresearch/detectron2->hmr2==0.0.0) (4.3.8)\n",
      "Requirement already satisfied: tomli>=1.1.0 in /home/lea/anaconda3/envs/4D-humans/lib/python3.10/site-packages (from black->detectron2@ git+https://github.com/facebookresearch/detectron2->hmr2==0.0.0) (2.2.1)\n",
      "Requirement already satisfied: beautifulsoup4 in /home/lea/anaconda3/envs/4D-humans/lib/python3.10/site-packages (from gdown->hmr2==0.0.0) (4.13.4)\n",
      "Requirement already satisfied: requests[socks] in /home/lea/anaconda3/envs/4D-humans/lib/python3.10/site-packages (from gdown->hmr2==0.0.0) (2.32.3)\n",
      "Requirement already satisfied: soupsieve>1.2 in /home/lea/anaconda3/envs/4D-humans/lib/python3.10/site-packages (from beautifulsoup4->gdown->hmr2==0.0.0) (2.7)\n",
      "Requirement already satisfied: MarkupSafe>=2.0 in /home/lea/anaconda3/envs/4D-humans/lib/python3.10/site-packages (from jinja2->torch->hmr2==0.0.0) (3.0.2)\n",
      "Requirement already satisfied: pytz>=2020.1 in /home/lea/anaconda3/envs/4D-humans/lib/python3.10/site-packages (from pandas->hmr2==0.0.0) (2025.2)\n",
      "Requirement already satisfied: tzdata>=2022.7 in /home/lea/anaconda3/envs/4D-humans/lib/python3.10/site-packages (from pandas->hmr2==0.0.0) (2025.2)\n",
      "Requirement already satisfied: freetype-py in /home/lea/anaconda3/envs/4D-humans/lib/python3.10/site-packages (from pyrender->hmr2==0.0.0) (2.5.1)\n",
      "Requirement already satisfied: imageio in /home/lea/anaconda3/envs/4D-humans/lib/python3.10/site-packages (from pyrender->hmr2==0.0.0) (2.37.0)\n",
      "Requirement already satisfied: pyglet>=1.4.10 in /home/lea/anaconda3/envs/4D-humans/lib/python3.10/site-packages (from pyrender->hmr2==0.0.0) (2.1.6)\n",
      "Requirement already satisfied: PyOpenGL==3.1.0 in /home/lea/anaconda3/envs/4D-humans/lib/python3.10/site-packages (from pyrender->hmr2==0.0.0) (3.1.0)\n",
      "Requirement already satisfied: trimesh in /home/lea/anaconda3/envs/4D-humans/lib/python3.10/site-packages (from pyrender->hmr2==0.0.0) (4.6.8)\n",
      "Requirement already satisfied: torchmetrics>=0.7.0 in /home/lea/anaconda3/envs/4D-humans/lib/python3.10/site-packages (from pytorch-lightning->hmr2==0.0.0) (1.7.1)\n",
      "Requirement already satisfied: lightning-utilities>=0.10.0 in /home/lea/anaconda3/envs/4D-humans/lib/python3.10/site-packages (from pytorch-lightning->hmr2==0.0.0) (0.14.3)\n",
      "Requirement already satisfied: aiohttp!=4.0.0a0,!=4.0.0a1 in /home/lea/anaconda3/envs/4D-humans/lib/python3.10/site-packages (from fsspec[http]>=2022.5.0->pytorch-lightning->hmr2==0.0.0) (3.11.18)\n",
      "Requirement already satisfied: aiohappyeyeballs>=2.3.0 in /home/lea/anaconda3/envs/4D-humans/lib/python3.10/site-packages (from aiohttp!=4.0.0a0,!=4.0.0a1->fsspec[http]>=2022.5.0->pytorch-lightning->hmr2==0.0.0) (2.6.1)\n",
      "Requirement already satisfied: aiosignal>=1.1.2 in /home/lea/anaconda3/envs/4D-humans/lib/python3.10/site-packages (from aiohttp!=4.0.0a0,!=4.0.0a1->fsspec[http]>=2022.5.0->pytorch-lightning->hmr2==0.0.0) (1.3.2)\n",
      "Requirement already satisfied: async-timeout<6.0,>=4.0 in /home/lea/anaconda3/envs/4D-humans/lib/python3.10/site-packages (from aiohttp!=4.0.0a0,!=4.0.0a1->fsspec[http]>=2022.5.0->pytorch-lightning->hmr2==0.0.0) (5.0.1)\n",
      "Requirement already satisfied: attrs>=17.3.0 in /home/lea/anaconda3/envs/4D-humans/lib/python3.10/site-packages (from aiohttp!=4.0.0a0,!=4.0.0a1->fsspec[http]>=2022.5.0->pytorch-lightning->hmr2==0.0.0) (25.3.0)\n",
      "Requirement already satisfied: frozenlist>=1.1.1 in /home/lea/anaconda3/envs/4D-humans/lib/python3.10/site-packages (from aiohttp!=4.0.0a0,!=4.0.0a1->fsspec[http]>=2022.5.0->pytorch-lightning->hmr2==0.0.0) (1.6.0)\n",
      "Requirement already satisfied: multidict<7.0,>=4.5 in /home/lea/anaconda3/envs/4D-humans/lib/python3.10/site-packages (from aiohttp!=4.0.0a0,!=4.0.0a1->fsspec[http]>=2022.5.0->pytorch-lightning->hmr2==0.0.0) (6.4.3)\n",
      "Requirement already satisfied: propcache>=0.2.0 in /home/lea/anaconda3/envs/4D-humans/lib/python3.10/site-packages (from aiohttp!=4.0.0a0,!=4.0.0a1->fsspec[http]>=2022.5.0->pytorch-lightning->hmr2==0.0.0) (0.3.1)\n",
      "Requirement already satisfied: yarl<2.0,>=1.17.0 in /home/lea/anaconda3/envs/4D-humans/lib/python3.10/site-packages (from aiohttp!=4.0.0a0,!=4.0.0a1->fsspec[http]>=2022.5.0->pytorch-lightning->hmr2==0.0.0) (1.20.0)\n",
      "Requirement already satisfied: idna>=2.0 in /home/lea/anaconda3/envs/4D-humans/lib/python3.10/site-packages (from yarl<2.0,>=1.17.0->aiohttp!=4.0.0a0,!=4.0.0a1->fsspec[http]>=2022.5.0->pytorch-lightning->hmr2==0.0.0) (3.10)\n",
      "Requirement already satisfied: setuptools in /home/lea/anaconda3/envs/4D-humans/lib/python3.10/site-packages (from lightning-utilities>=0.10.0->pytorch-lightning->hmr2==0.0.0) (80.1.0)\n",
      "Requirement already satisfied: charset_normalizer<4,>=2 in /home/lea/anaconda3/envs/4D-humans/lib/python3.10/site-packages (from requests[socks]->gdown->hmr2==0.0.0) (3.4.2)\n",
      "Requirement already satisfied: urllib3<3,>=1.21.1 in /home/lea/anaconda3/envs/4D-humans/lib/python3.10/site-packages (from requests[socks]->gdown->hmr2==0.0.0) (2.4.0)\n",
      "Requirement already satisfied: certifi>=2017.4.17 in /home/lea/anaconda3/envs/4D-humans/lib/python3.10/site-packages (from requests[socks]->gdown->hmr2==0.0.0) (2025.4.26)\n",
      "Requirement already satisfied: PySocks!=1.5.7,>=1.5.6 in /home/lea/anaconda3/envs/4D-humans/lib/python3.10/site-packages (from requests[socks]->gdown->hmr2==0.0.0) (1.7.1)\n",
      "Requirement already satisfied: tifffile>=2022.8.12 in /home/lea/anaconda3/envs/4D-humans/lib/python3.10/site-packages (from scikit-image->hmr2==0.0.0) (2025.5.10)\n",
      "Requirement already satisfied: lazy-loader>=0.4 in /home/lea/anaconda3/envs/4D-humans/lib/python3.10/site-packages (from scikit-image->hmr2==0.0.0) (0.4)\n",
      "Requirement already satisfied: mpmath<1.4,>=1.1.0 in /home/lea/anaconda3/envs/4D-humans/lib/python3.10/site-packages (from sympy->torch->hmr2==0.0.0) (1.3.0)\n",
      "Requirement already satisfied: absl-py>=0.4 in /home/lea/anaconda3/envs/4D-humans/lib/python3.10/site-packages (from tensorboard->detectron2@ git+https://github.com/facebookresearch/detectron2->hmr2==0.0.0) (2.2.2)\n",
      "Requirement already satisfied: grpcio>=1.48.2 in /home/lea/anaconda3/envs/4D-humans/lib/python3.10/site-packages (from tensorboard->detectron2@ git+https://github.com/facebookresearch/detectron2->hmr2==0.0.0) (1.71.0)\n",
      "Requirement already satisfied: markdown>=2.6.8 in /home/lea/anaconda3/envs/4D-humans/lib/python3.10/site-packages (from tensorboard->detectron2@ git+https://github.com/facebookresearch/detectron2->hmr2==0.0.0) (3.8)\n",
      "Requirement already satisfied: protobuf!=4.24.0,>=3.19.6 in /home/lea/anaconda3/envs/4D-humans/lib/python3.10/site-packages (from tensorboard->detectron2@ git+https://github.com/facebookresearch/detectron2->hmr2==0.0.0) (6.30.2)\n",
      "Requirement already satisfied: tensorboard-data-server<0.8.0,>=0.7.0 in /home/lea/anaconda3/envs/4D-humans/lib/python3.10/site-packages (from tensorboard->detectron2@ git+https://github.com/facebookresearch/detectron2->hmr2==0.0.0) (0.7.2)\n",
      "Requirement already satisfied: werkzeug>=1.0.1 in /home/lea/anaconda3/envs/4D-humans/lib/python3.10/site-packages (from tensorboard->detectron2@ git+https://github.com/facebookresearch/detectron2->hmr2==0.0.0) (3.1.3)\n",
      "Requirement already satisfied: huggingface_hub in /home/lea/anaconda3/envs/4D-humans/lib/python3.10/site-packages (from timm->hmr2==0.0.0) (0.31.2)\n",
      "Requirement already satisfied: safetensors in /home/lea/anaconda3/envs/4D-humans/lib/python3.10/site-packages (from timm->hmr2==0.0.0) (0.5.3)\n",
      "Requirement already satisfied: braceexpand in /home/lea/anaconda3/envs/4D-humans/lib/python3.10/site-packages (from webdataset->hmr2==0.0.0) (0.1.7)\n",
      "Installing collected packages: hmr2\n",
      "  Attempting uninstall: hmr2\n",
      "    Found existing installation: hmr2 0.0.0\n",
      "    Uninstalling hmr2-0.0.0:\n",
      "      Successfully uninstalled hmr2-0.0.0\n",
      "\u001b[33m  DEPRECATION: Legacy editable install of hmr2[all]==0.0.0 from file:///home/lea/4DHumans/4D-Humans (setup.py develop) is deprecated. pip 25.3 will enforce this behaviour change. A possible replacement is to add a pyproject.toml or enable --use-pep517, and use setuptools >= 64. If the resulting installation is not behaving as expected, try using --config-settings editable_mode=compat. Please consult the setuptools documentation for more information. Discussion can be found at https://github.com/pypa/pip/issues/11457\u001b[0m\u001b[33m\n",
      "\u001b[0m  Running setup.py develop for hmr2\n",
      "Successfully installed hmr2-0.0.0\n"
     ]
    }
   ],
   "source": [
    "!pip install torch\n",
    "!pip install -e .[all]"
   ]
  },
  {
   "cell_type": "code",
   "execution_count": 3,
   "id": "f5aa0cd9",
   "metadata": {},
   "outputs": [
    {
     "name": "stdout",
     "output_type": "stream",
     "text": [
      "[Errno 2] No such file or directory: '/content/4D-Humans'\n",
      "/home/lea/4DHumans/4D-Humans\n",
      "--2025-05-21 16:27:24--  https://github.com/classner/up/raw/821a390fbf87a522fb327fc46736eda0326e2a06/models/3D/basicModel_neutral_lbs_10_207_0_v1.0.0.pkl\n",
      "Résolution de github.com (github.com)… 140.82.114.3\n",
      "Connexion à github.com (github.com)|140.82.114.3|:443… connecté.\n",
      "requête HTTP transmise, en attente de la réponse… 302 Found\n",
      "Emplacement : https://raw.githubusercontent.com/classner/up/821a390fbf87a522fb327fc46736eda0326e2a06/models/3D/basicModel_neutral_lbs_10_207_0_v1.0.0.pkl [suivant]\n",
      "--2025-05-21 16:27:24--  https://raw.githubusercontent.com/classner/up/821a390fbf87a522fb327fc46736eda0326e2a06/models/3D/basicModel_neutral_lbs_10_207_0_v1.0.0.pkl\n",
      "Résolution de raw.githubusercontent.com (raw.githubusercontent.com)… 185.199.108.133, 185.199.109.133, 185.199.111.133, ...\n",
      "Connexion à raw.githubusercontent.com (raw.githubusercontent.com)|185.199.108.133|:443… connecté.\n",
      "requête HTTP transmise, en attente de la réponse… 200 OK\n",
      "Taille : 39001280 (37M) [application/octet-stream]\n",
      "Enregistre : ‘basicModel_neutral_lbs_10_207_0_v1.0.0.pkl.4’\n",
      "\n",
      "basicModel_neutral_ 100%[===================>]  37,19M  11,2MB/s    ds 3,3s    \n",
      "\n",
      "2025-05-21 16:27:28 (11,2 MB/s) - ‘basicModel_neutral_lbs_10_207_0_v1.0.0.pkl.4’ enregistré [39001280/39001280]\n",
      "\n",
      "mkdir: impossible de créer le répertoire «data/»: Le fichier existe\n"
     ]
    }
   ],
   "source": [
    "%cd /content/4D-Humans\n",
    "!wget https://github.com/classner/up/raw/821a390fbf87a522fb327fc46736eda0326e2a06/models/3D/basicModel_neutral_lbs_10_207_0_v1.0.0.pkl\n",
    "!mkdir data/\n",
    "!cp basicModel_neutral_lbs_10_207_0_v1.0.0.pkl ./data/"
   ]
  },
  {
   "cell_type": "markdown",
   "id": "174bcfd1",
   "metadata": {},
   "source": [
    "## Run demo"
   ]
  },
  {
   "cell_type": "code",
   "execution_count": 4,
   "id": "2847663b",
   "metadata": {},
   "outputs": [
    {
     "data": {
      "text/plain": [
       "' # run hmr2 on a folder of images\\n!python demo.py --img_folder example_data/images --out_folder demo_out --batch_size=48 --side_view --save_mesh '"
      ]
     },
     "execution_count": 4,
     "metadata": {},
     "output_type": "execute_result"
    }
   ],
   "source": [
    "\"\"\" # run hmr2 on a folder of images\n",
    "!python demo.py \\\n",
    "--img_folder example_data/images \\\n",
    "--out_folder demo_out \\\n",
    "--batch_size=48 --side_view --save_mesh \"\"\""
   ]
  },
  {
   "cell_type": "code",
   "execution_count": 5,
   "id": "3d0e5b65",
   "metadata": {},
   "outputs": [
    {
     "data": {
      "text/plain": [
       "' from IPython.display import Image, display\\nimport os\\n# https://colab.research.google.com/drive/1Ex4gE5v1bPR3evfhtG7sDHxQGsWwNwby?usp=sharing\\noutput_images = [\"demo_out/\" + i for i in os.listdir(\"demo_out/\") if \".png\" in i]\\nfor img in output_images:\\n  display(Image(img)) '"
      ]
     },
     "execution_count": 5,
     "metadata": {},
     "output_type": "execute_result"
    }
   ],
   "source": [
    "\"\"\" from IPython.display import Image, display\n",
    "import os\n",
    "# https://colab.research.google.com/drive/1Ex4gE5v1bPR3evfhtG7sDHxQGsWwNwby?usp=sharing\n",
    "output_images = [\"demo_out/\" + i for i in os.listdir(\"demo_out/\") if \".png\" in i]\n",
    "for img in output_images:\n",
    "  display(Image(img)) \"\"\""
   ]
  },
  {
   "cell_type": "markdown",
   "id": "323f3a35",
   "metadata": {},
   "source": [
    "## Video Demo"
   ]
  },
  {
   "cell_type": "code",
   "execution_count": 6,
   "id": "ee525b5b",
   "metadata": {},
   "outputs": [
    {
     "name": "stdout",
     "output_type": "stream",
     "text": [
      "Collecting git+https://github.com/brjathu/PHALP.git\n",
      "  Cloning https://github.com/brjathu/PHALP.git to /tmp/pip-req-build-mq2glvrl\n",
      "  Running command git clone --filter=blob:none --quiet https://github.com/brjathu/PHALP.git /tmp/pip-req-build-mq2glvrl\n",
      "  Resolved https://github.com/brjathu/PHALP.git to commit 677074a9bd7acac58c0b98a31b04ae54b93dcd2f\n",
      "  Preparing metadata (setup.py) ... \u001b[?25ldone\n",
      "\u001b[?25hRequirement already satisfied: opencv-python in /home/lea/anaconda3/envs/4D-humans/lib/python3.10/site-packages (from phalp==0.1.3) (4.11.0.86)\n",
      "Requirement already satisfied: joblib in /home/lea/anaconda3/envs/4D-humans/lib/python3.10/site-packages (from phalp==0.1.3) (1.5.0)\n",
      "Requirement already satisfied: scikit-learn in /home/lea/anaconda3/envs/4D-humans/lib/python3.10/site-packages (from phalp==0.1.3) (1.6.1)\n",
      "Requirement already satisfied: pyrender in /home/lea/anaconda3/envs/4D-humans/lib/python3.10/site-packages (from phalp==0.1.3) (0.1.45)\n",
      "Requirement already satisfied: dill in /home/lea/anaconda3/envs/4D-humans/lib/python3.10/site-packages (from phalp==0.1.3) (0.4.0)\n",
      "Requirement already satisfied: rich in /home/lea/anaconda3/envs/4D-humans/lib/python3.10/site-packages (from phalp==0.1.3) (14.0.0)\n",
      "Requirement already satisfied: einops in /home/lea/anaconda3/envs/4D-humans/lib/python3.10/site-packages (from phalp==0.1.3) (0.8.1)\n",
      "Requirement already satisfied: scenedetect[opencv] in /home/lea/anaconda3/envs/4D-humans/lib/python3.10/site-packages (from phalp==0.1.3) (0.6.6)\n",
      "Requirement already satisfied: hydra-core in /home/lea/anaconda3/envs/4D-humans/lib/python3.10/site-packages (from phalp==0.1.3) (1.3.2)\n",
      "Requirement already satisfied: timm in /home/lea/anaconda3/envs/4D-humans/lib/python3.10/site-packages (from phalp==0.1.3) (1.0.15)\n",
      "Requirement already satisfied: av in /home/lea/anaconda3/envs/4D-humans/lib/python3.10/site-packages (from phalp==0.1.3) (14.3.0)\n",
      "Requirement already satisfied: smplx==0.1.28 in /home/lea/anaconda3/envs/4D-humans/lib/python3.10/site-packages (from phalp==0.1.3) (0.1.28)\n",
      "Requirement already satisfied: numpy in /home/lea/anaconda3/envs/4D-humans/lib/python3.10/site-packages (from phalp==0.1.3) (1.26.4)\n",
      "Collecting detectron2@ git+https://github.com/facebookresearch/detectron2.git (from phalp==0.1.3)\n",
      "  Cloning https://github.com/facebookresearch/detectron2.git to /tmp/pip-install-fild8b3o/detectron2_b269ddcb1fd24c2e872873c0e499bd91\n",
      "  Running command git clone --filter=blob:none --quiet https://github.com/facebookresearch/detectron2.git /tmp/pip-install-fild8b3o/detectron2_b269ddcb1fd24c2e872873c0e499bd91\n",
      "  Resolved https://github.com/facebookresearch/detectron2.git to commit 536dc9d527074e3b15df5f6677ffe1f4e104a4ab\n",
      "  Preparing metadata (setup.py) ... \u001b[?25ldone\n",
      "\u001b[?25hCollecting pytube@ git+https://github.com/pytube/pytube.git (from phalp==0.1.3)\n",
      "  Cloning https://github.com/pytube/pytube.git to /tmp/pip-install-fild8b3o/pytube_9bf075e08fb94501b4a8c0b4e9362317\n",
      "  Running command git clone --filter=blob:none --quiet https://github.com/pytube/pytube.git /tmp/pip-install-fild8b3o/pytube_9bf075e08fb94501b4a8c0b4e9362317\n",
      "  Resolved https://github.com/pytube/pytube.git to commit a32fff39058a6f7e5e59ecd06a7467b71197ce35\n",
      "  Preparing metadata (setup.py) ... \u001b[?25ldone\n",
      "\u001b[?25hCollecting pyopengl@ git+https://github.com/mmatl/pyopengl.git (from phalp==0.1.3)\n",
      "  Cloning https://github.com/mmatl/pyopengl.git to /tmp/pip-install-fild8b3o/pyopengl_968257d532484fbab576915fb1f85bb9\n",
      "  Running command git clone --filter=blob:none --quiet https://github.com/mmatl/pyopengl.git /tmp/pip-install-fild8b3o/pyopengl_968257d532484fbab576915fb1f85bb9\n",
      "  Resolved https://github.com/mmatl/pyopengl.git to commit 76d1261adee2d3fd99b418e75b0416bb7d2865e6\n",
      "  Preparing metadata (setup.py) ... \u001b[?25ldone\n",
      "\u001b[?25hCollecting chumpy@ git+https://github.com/mattloper/chumpy (from phalp==0.1.3)\n",
      "  Cloning https://github.com/mattloper/chumpy to /tmp/pip-install-fild8b3o/chumpy_996c639107a64ea0895f29b42c86d82a\n",
      "  Running command git clone --filter=blob:none --quiet https://github.com/mattloper/chumpy /tmp/pip-install-fild8b3o/chumpy_996c639107a64ea0895f29b42c86d82a\n",
      "  Resolved https://github.com/mattloper/chumpy to commit 51d5afd92a8ded3637553be8cef41f328a1c863a\n",
      "  Preparing metadata (setup.py) ... \u001b[?25ldone\n",
      "\u001b[?25hCollecting neural-renderer-pytorch@ git+https://github.com/shubham-goel/NMR.git (from phalp==0.1.3)\n",
      "  Cloning https://github.com/shubham-goel/NMR.git to /tmp/pip-install-fild8b3o/neural-renderer-pytorch_7cb3646383fb4d5d9f1ea6f667e47822\n",
      "  Running command git clone --filter=blob:none --quiet https://github.com/shubham-goel/NMR.git /tmp/pip-install-fild8b3o/neural-renderer-pytorch_7cb3646383fb4d5d9f1ea6f667e47822\n",
      "  Resolved https://github.com/shubham-goel/NMR.git to commit e990b3c70f48d39231f607c79d76ce3db4bf7483\n",
      "  Preparing metadata (setup.py) ... \u001b[?25ldone\n",
      "\u001b[?25hRequirement already satisfied: scipy>=0.13.0 in /home/lea/anaconda3/envs/4D-humans/lib/python3.10/site-packages (from chumpy@ git+https://github.com/mattloper/chumpy->phalp==0.1.3) (1.15.3)\n",
      "Requirement already satisfied: six>=1.11.0 in /home/lea/anaconda3/envs/4D-humans/lib/python3.10/site-packages (from chumpy@ git+https://github.com/mattloper/chumpy->phalp==0.1.3) (1.17.0)\n",
      "Requirement already satisfied: Pillow>=7.1 in /home/lea/anaconda3/envs/4D-humans/lib/python3.10/site-packages (from detectron2@ git+https://github.com/facebookresearch/detectron2.git->phalp==0.1.3) (11.2.1)\n",
      "Requirement already satisfied: matplotlib in /home/lea/anaconda3/envs/4D-humans/lib/python3.10/site-packages (from detectron2@ git+https://github.com/facebookresearch/detectron2.git->phalp==0.1.3) (3.10.3)\n",
      "Requirement already satisfied: pycocotools>=2.0.2 in /home/lea/anaconda3/envs/4D-humans/lib/python3.10/site-packages (from detectron2@ git+https://github.com/facebookresearch/detectron2.git->phalp==0.1.3) (2.0.8)\n",
      "Requirement already satisfied: termcolor>=1.1 in /home/lea/anaconda3/envs/4D-humans/lib/python3.10/site-packages (from detectron2@ git+https://github.com/facebookresearch/detectron2.git->phalp==0.1.3) (3.1.0)\n",
      "Requirement already satisfied: yacs>=0.1.8 in /home/lea/anaconda3/envs/4D-humans/lib/python3.10/site-packages (from detectron2@ git+https://github.com/facebookresearch/detectron2.git->phalp==0.1.3) (0.1.8)\n",
      "Requirement already satisfied: tabulate in /home/lea/anaconda3/envs/4D-humans/lib/python3.10/site-packages (from detectron2@ git+https://github.com/facebookresearch/detectron2.git->phalp==0.1.3) (0.9.0)\n",
      "Requirement already satisfied: cloudpickle in /home/lea/anaconda3/envs/4D-humans/lib/python3.10/site-packages (from detectron2@ git+https://github.com/facebookresearch/detectron2.git->phalp==0.1.3) (3.1.1)\n",
      "Requirement already satisfied: tqdm>4.29.0 in /home/lea/anaconda3/envs/4D-humans/lib/python3.10/site-packages (from detectron2@ git+https://github.com/facebookresearch/detectron2.git->phalp==0.1.3) (4.67.1)\n",
      "Requirement already satisfied: tensorboard in /home/lea/anaconda3/envs/4D-humans/lib/python3.10/site-packages (from detectron2@ git+https://github.com/facebookresearch/detectron2.git->phalp==0.1.3) (2.19.0)\n",
      "Requirement already satisfied: fvcore<0.1.6,>=0.1.5 in /home/lea/anaconda3/envs/4D-humans/lib/python3.10/site-packages (from detectron2@ git+https://github.com/facebookresearch/detectron2.git->phalp==0.1.3) (0.1.5.post20221221)\n",
      "Requirement already satisfied: iopath<0.1.10,>=0.1.7 in /home/lea/anaconda3/envs/4D-humans/lib/python3.10/site-packages (from detectron2@ git+https://github.com/facebookresearch/detectron2.git->phalp==0.1.3) (0.1.9)\n",
      "Requirement already satisfied: omegaconf<2.4,>=2.1 in /home/lea/anaconda3/envs/4D-humans/lib/python3.10/site-packages (from detectron2@ git+https://github.com/facebookresearch/detectron2.git->phalp==0.1.3) (2.3.0)\n",
      "Requirement already satisfied: black in /home/lea/anaconda3/envs/4D-humans/lib/python3.10/site-packages (from detectron2@ git+https://github.com/facebookresearch/detectron2.git->phalp==0.1.3) (25.1.0)\n",
      "Requirement already satisfied: packaging in /home/lea/anaconda3/envs/4D-humans/lib/python3.10/site-packages (from detectron2@ git+https://github.com/facebookresearch/detectron2.git->phalp==0.1.3) (25.0)\n",
      "Requirement already satisfied: torch>=1.0.1.post2 in /home/lea/anaconda3/envs/4D-humans/lib/python3.10/site-packages (from smplx==0.1.28->phalp==0.1.3) (2.1.0+cu118)\n",
      "Requirement already satisfied: pyyaml>=5.1 in /home/lea/anaconda3/envs/4D-humans/lib/python3.10/site-packages (from fvcore<0.1.6,>=0.1.5->detectron2@ git+https://github.com/facebookresearch/detectron2.git->phalp==0.1.3) (6.0.2)\n",
      "Requirement already satisfied: portalocker in /home/lea/anaconda3/envs/4D-humans/lib/python3.10/site-packages (from iopath<0.1.10,>=0.1.7->detectron2@ git+https://github.com/facebookresearch/detectron2.git->phalp==0.1.3) (3.1.1)\n",
      "Requirement already satisfied: antlr4-python3-runtime==4.9.* in /home/lea/anaconda3/envs/4D-humans/lib/python3.10/site-packages (from omegaconf<2.4,>=2.1->detectron2@ git+https://github.com/facebookresearch/detectron2.git->phalp==0.1.3) (4.9.3)\n",
      "Requirement already satisfied: contourpy>=1.0.1 in /home/lea/anaconda3/envs/4D-humans/lib/python3.10/site-packages (from matplotlib->detectron2@ git+https://github.com/facebookresearch/detectron2.git->phalp==0.1.3) (1.3.2)\n",
      "Requirement already satisfied: cycler>=0.10 in /home/lea/anaconda3/envs/4D-humans/lib/python3.10/site-packages (from matplotlib->detectron2@ git+https://github.com/facebookresearch/detectron2.git->phalp==0.1.3) (0.12.1)\n",
      "Requirement already satisfied: fonttools>=4.22.0 in /home/lea/anaconda3/envs/4D-humans/lib/python3.10/site-packages (from matplotlib->detectron2@ git+https://github.com/facebookresearch/detectron2.git->phalp==0.1.3) (4.58.0)\n",
      "Requirement already satisfied: kiwisolver>=1.3.1 in /home/lea/anaconda3/envs/4D-humans/lib/python3.10/site-packages (from matplotlib->detectron2@ git+https://github.com/facebookresearch/detectron2.git->phalp==0.1.3) (1.4.8)\n",
      "Requirement already satisfied: pyparsing>=2.3.1 in /home/lea/anaconda3/envs/4D-humans/lib/python3.10/site-packages (from matplotlib->detectron2@ git+https://github.com/facebookresearch/detectron2.git->phalp==0.1.3) (3.2.3)\n",
      "Requirement already satisfied: python-dateutil>=2.7 in /home/lea/anaconda3/envs/4D-humans/lib/python3.10/site-packages (from matplotlib->detectron2@ git+https://github.com/facebookresearch/detectron2.git->phalp==0.1.3) (2.9.0.post0)\n",
      "Requirement already satisfied: filelock in /home/lea/anaconda3/envs/4D-humans/lib/python3.10/site-packages (from torch>=1.0.1.post2->smplx==0.1.28->phalp==0.1.3) (3.18.0)\n",
      "Requirement already satisfied: typing-extensions in /home/lea/anaconda3/envs/4D-humans/lib/python3.10/site-packages (from torch>=1.0.1.post2->smplx==0.1.28->phalp==0.1.3) (4.13.2)\n",
      "Requirement already satisfied: sympy in /home/lea/anaconda3/envs/4D-humans/lib/python3.10/site-packages (from torch>=1.0.1.post2->smplx==0.1.28->phalp==0.1.3) (1.14.0)\n",
      "Requirement already satisfied: networkx in /home/lea/anaconda3/envs/4D-humans/lib/python3.10/site-packages (from torch>=1.0.1.post2->smplx==0.1.28->phalp==0.1.3) (3.4.2)\n",
      "Requirement already satisfied: jinja2 in /home/lea/anaconda3/envs/4D-humans/lib/python3.10/site-packages (from torch>=1.0.1.post2->smplx==0.1.28->phalp==0.1.3) (3.1.6)\n",
      "Requirement already satisfied: fsspec in /home/lea/anaconda3/envs/4D-humans/lib/python3.10/site-packages (from torch>=1.0.1.post2->smplx==0.1.28->phalp==0.1.3) (2025.3.2)\n",
      "Requirement already satisfied: triton==2.1.0 in /home/lea/anaconda3/envs/4D-humans/lib/python3.10/site-packages (from torch>=1.0.1.post2->smplx==0.1.28->phalp==0.1.3) (2.1.0)\n",
      "Requirement already satisfied: click>=8.0.0 in /home/lea/anaconda3/envs/4D-humans/lib/python3.10/site-packages (from black->detectron2@ git+https://github.com/facebookresearch/detectron2.git->phalp==0.1.3) (8.2.0)\n",
      "Requirement already satisfied: mypy-extensions>=0.4.3 in /home/lea/anaconda3/envs/4D-humans/lib/python3.10/site-packages (from black->detectron2@ git+https://github.com/facebookresearch/detectron2.git->phalp==0.1.3) (1.1.0)\n",
      "Requirement already satisfied: pathspec>=0.9.0 in /home/lea/anaconda3/envs/4D-humans/lib/python3.10/site-packages (from black->detectron2@ git+https://github.com/facebookresearch/detectron2.git->phalp==0.1.3) (0.12.1)\n",
      "Requirement already satisfied: platformdirs>=2 in /home/lea/anaconda3/envs/4D-humans/lib/python3.10/site-packages (from black->detectron2@ git+https://github.com/facebookresearch/detectron2.git->phalp==0.1.3) (4.3.8)\n",
      "Requirement already satisfied: tomli>=1.1.0 in /home/lea/anaconda3/envs/4D-humans/lib/python3.10/site-packages (from black->detectron2@ git+https://github.com/facebookresearch/detectron2.git->phalp==0.1.3) (2.2.1)\n",
      "Requirement already satisfied: MarkupSafe>=2.0 in /home/lea/anaconda3/envs/4D-humans/lib/python3.10/site-packages (from jinja2->torch>=1.0.1.post2->smplx==0.1.28->phalp==0.1.3) (3.0.2)\n",
      "Requirement already satisfied: freetype-py in /home/lea/anaconda3/envs/4D-humans/lib/python3.10/site-packages (from pyrender->phalp==0.1.3) (2.5.1)\n",
      "Requirement already satisfied: imageio in /home/lea/anaconda3/envs/4D-humans/lib/python3.10/site-packages (from pyrender->phalp==0.1.3) (2.37.0)\n",
      "Requirement already satisfied: pyglet>=1.4.10 in /home/lea/anaconda3/envs/4D-humans/lib/python3.10/site-packages (from pyrender->phalp==0.1.3) (2.1.6)\n",
      "Requirement already satisfied: trimesh in /home/lea/anaconda3/envs/4D-humans/lib/python3.10/site-packages (from pyrender->phalp==0.1.3) (4.6.8)\n",
      "Requirement already satisfied: markdown-it-py>=2.2.0 in /home/lea/anaconda3/envs/4D-humans/lib/python3.10/site-packages (from rich->phalp==0.1.3) (3.0.0)\n",
      "Requirement already satisfied: pygments<3.0.0,>=2.13.0 in /home/lea/anaconda3/envs/4D-humans/lib/python3.10/site-packages (from rich->phalp==0.1.3) (2.19.1)\n",
      "Requirement already satisfied: mdurl~=0.1 in /home/lea/anaconda3/envs/4D-humans/lib/python3.10/site-packages (from markdown-it-py>=2.2.0->rich->phalp==0.1.3) (0.1.2)\n",
      "Requirement already satisfied: threadpoolctl>=3.1.0 in /home/lea/anaconda3/envs/4D-humans/lib/python3.10/site-packages (from scikit-learn->phalp==0.1.3) (3.6.0)\n",
      "Requirement already satisfied: mpmath<1.4,>=1.1.0 in /home/lea/anaconda3/envs/4D-humans/lib/python3.10/site-packages (from sympy->torch>=1.0.1.post2->smplx==0.1.28->phalp==0.1.3) (1.3.0)\n",
      "Requirement already satisfied: absl-py>=0.4 in /home/lea/anaconda3/envs/4D-humans/lib/python3.10/site-packages (from tensorboard->detectron2@ git+https://github.com/facebookresearch/detectron2.git->phalp==0.1.3) (2.2.2)\n",
      "Requirement already satisfied: grpcio>=1.48.2 in /home/lea/anaconda3/envs/4D-humans/lib/python3.10/site-packages (from tensorboard->detectron2@ git+https://github.com/facebookresearch/detectron2.git->phalp==0.1.3) (1.71.0)\n",
      "Requirement already satisfied: markdown>=2.6.8 in /home/lea/anaconda3/envs/4D-humans/lib/python3.10/site-packages (from tensorboard->detectron2@ git+https://github.com/facebookresearch/detectron2.git->phalp==0.1.3) (3.8)\n",
      "Requirement already satisfied: protobuf!=4.24.0,>=3.19.6 in /home/lea/anaconda3/envs/4D-humans/lib/python3.10/site-packages (from tensorboard->detectron2@ git+https://github.com/facebookresearch/detectron2.git->phalp==0.1.3) (6.30.2)\n",
      "Requirement already satisfied: setuptools>=41.0.0 in /home/lea/anaconda3/envs/4D-humans/lib/python3.10/site-packages (from tensorboard->detectron2@ git+https://github.com/facebookresearch/detectron2.git->phalp==0.1.3) (80.1.0)\n",
      "Requirement already satisfied: tensorboard-data-server<0.8.0,>=0.7.0 in /home/lea/anaconda3/envs/4D-humans/lib/python3.10/site-packages (from tensorboard->detectron2@ git+https://github.com/facebookresearch/detectron2.git->phalp==0.1.3) (0.7.2)\n",
      "Requirement already satisfied: werkzeug>=1.0.1 in /home/lea/anaconda3/envs/4D-humans/lib/python3.10/site-packages (from tensorboard->detectron2@ git+https://github.com/facebookresearch/detectron2.git->phalp==0.1.3) (3.1.3)\n",
      "Requirement already satisfied: torchvision in /home/lea/anaconda3/envs/4D-humans/lib/python3.10/site-packages (from timm->phalp==0.1.3) (0.16.0+cu118)\n",
      "Requirement already satisfied: huggingface_hub in /home/lea/anaconda3/envs/4D-humans/lib/python3.10/site-packages (from timm->phalp==0.1.3) (0.31.2)\n",
      "Requirement already satisfied: safetensors in /home/lea/anaconda3/envs/4D-humans/lib/python3.10/site-packages (from timm->phalp==0.1.3) (0.5.3)\n",
      "Requirement already satisfied: requests in /home/lea/anaconda3/envs/4D-humans/lib/python3.10/site-packages (from huggingface_hub->timm->phalp==0.1.3) (2.32.3)\n",
      "Requirement already satisfied: charset_normalizer<4,>=2 in /home/lea/anaconda3/envs/4D-humans/lib/python3.10/site-packages (from requests->huggingface_hub->timm->phalp==0.1.3) (3.4.2)\n",
      "Requirement already satisfied: idna<4,>=2.5 in /home/lea/anaconda3/envs/4D-humans/lib/python3.10/site-packages (from requests->huggingface_hub->timm->phalp==0.1.3) (3.10)\n",
      "Requirement already satisfied: urllib3<3,>=1.21.1 in /home/lea/anaconda3/envs/4D-humans/lib/python3.10/site-packages (from requests->huggingface_hub->timm->phalp==0.1.3) (2.4.0)\n",
      "Requirement already satisfied: certifi>=2017.4.17 in /home/lea/anaconda3/envs/4D-humans/lib/python3.10/site-packages (from requests->huggingface_hub->timm->phalp==0.1.3) (2025.4.26)\n"
     ]
    }
   ],
   "source": [
    "!pip install git+https://github.com/brjathu/PHALP.git\n",
    "\n",
    "#!pip install git+https://github.com/wangyida/neural_renderer.git\n"
   ]
  },
  {
   "cell_type": "code",
   "execution_count": null,
   "id": "b15a7c1f",
   "metadata": {},
   "outputs": [
    {
     "name": "stdout",
     "output_type": "stream",
     "text": [
      "\u001b[2;36m[06/20 15:08:25]\u001b[0m\u001b[2;36m \u001b[0m\u001b[34mINFO    \u001b[0m OpenGL_accelerate module       \u001b]8;id=687730;file:///home/lea/anaconda3/envs/4D-humans/lib/python3.10/site-packages/OpenGL/acceleratesupport.py\u001b\\\u001b[2macceleratesupport.py\u001b[0m\u001b]8;;\u001b\\\u001b[2m:\u001b[0m\u001b]8;id=208966;file:///home/lea/anaconda3/envs/4D-humans/lib/python3.10/site-packages/OpenGL/acceleratesupport.py#13\u001b\\\u001b[2m13\u001b[0m\u001b]8;;\u001b\\\n",
      "\u001b[2;36m                 \u001b[0m         loaded                         \u001b[2m                       \u001b[0m\n",
      "\u001b[2;36m                \u001b[0m\u001b[2;36m \u001b[0m\u001b[34mINFO    \u001b[0m Using accelerated ArrayDatatype   \u001b]8;id=889078;file:///home/lea/anaconda3/envs/4D-humans/lib/python3.10/site-packages/OpenGL/arrays/arraydatatype.py\u001b\\\u001b[2marraydatatype.py\u001b[0m\u001b]8;;\u001b\\\u001b[2m:\u001b[0m\u001b]8;id=563802;file:///home/lea/anaconda3/envs/4D-humans/lib/python3.10/site-packages/OpenGL/arrays/arraydatatype.py#270\u001b\\\u001b[2m270\u001b[0m\u001b]8;;\u001b\\\n",
      "WARNING: You are using a SMPL model, with only 10 shape coefficients.\n",
      "[2025-06-20 15:08:29,898][phalp.trackers.PHALP][INFO] - Loading Predictor model...\n",
      "[2025-06-20 15:08:29,998][phalp.trackers.PHALP][INFO] - Loading Detection model...\n",
      "[2025-06-20 15:08:33,723][detectron2.checkpoint.detection_checkpoint][INFO] - [DetectionCheckpointer] Loading from https://dl.fbaipublicfiles.com/detectron2/ViTDet/COCO/cascade_mask_rcnn_vitdet_h/f328730692/model_final_f05665.pkl ...\n",
      "[2025-06-20 15:08:35,505][detectron2.checkpoint.detection_checkpoint][INFO] - [DetectionCheckpointer] Loading from https://dl.fbaipublicfiles.com/detectron2/COCO-InstanceSegmentation/mask_rcnn_X_101_32x8d_FPN_3x/139653917/model_final_2d9806.pkl ...\n",
      "[2025-06-20 15:08:35,602][phalp.trackers.PHALP][INFO] - Setting up Visualizer...\n",
      "[2025-06-20 15:08:35,935][phalp.utils.io][INFO] - Number of frames: 1803\n"
     ]
    }
   ],
   "source": [
    "#%cd ..\n",
    "!python track.py video.source='/home/lea/trampo/4DHumans/video_data/1_partie_0429_000_Camera1_M11139.mp4' render.type=HUMAN_MESH render.show_keypoints=True\n",
    "#!python track.py video.source='/home/lea/trampo/4DHumans/video_data/1_partie_0429_000-Camera2_M11140.mp4' render.type=HUMAN_MESH render.show_keypoints=True"
   ]
  },
  {
   "cell_type": "code",
   "execution_count": null,
   "id": "cc3e4a7e",
   "metadata": {},
   "outputs": [],
   "source": [
    "!python track.py video.source='/home/lea/trampo/4DHumans/video_data/1_partie_0429_000-Camera3_M11141.mp4' render.type=HUMAN_MESH render.show_keypoints=True\n",
    "!python track.py video.source='/home/lea/trampo/4DHumans/video_data/1_partie_0429_000-Camera4_M11458.mp4' render.type=HUMAN_MESH render.show_keypoints=True"
   ]
  },
  {
   "cell_type": "code",
   "execution_count": null,
   "id": "ffea3096",
   "metadata": {},
   "outputs": [],
   "source": [
    "!python track.py video.source='/home/lea/trampo/4DHumans/video_data/1_partie_0429_000-Camera5_M11459.mp4' render.type=HUMAN_MESH render.show_keypoints=True\n",
    "!python track.py video.source='/home/lea/trampo/4DHumans/video_data/1_partie_0429_000-Camera6_M11461.mp4' render.type=HUMAN_MESH render.show_keypoints=True"
   ]
  },
  {
   "cell_type": "code",
   "execution_count": null,
   "id": "f777093d",
   "metadata": {},
   "outputs": [],
   "source": [
    "!python track.py video.source='/home/lea/trampo/4DHumans/video_data/1_partie_0429_000-Camera7_M11462.mp4' render.type=HUMAN_MESH render.show_keypoints=True\n",
    "!python track.py video.source='/home/lea/trampo/4DHumans/video_data/1_partie_0429_000-Camera8_M11463.mp4' render.type=HUMAN_MESH render.show_keypoints=True"
   ]
  }
 ],
 "metadata": {
  "kernelspec": {
   "display_name": "4D-humans",
   "language": "python",
   "name": "python3"
  },
  "language_info": {
   "codemirror_mode": {
    "name": "ipython",
    "version": 3
   },
   "file_extension": ".py",
   "mimetype": "text/x-python",
   "name": "python",
   "nbconvert_exporter": "python",
   "pygments_lexer": "ipython3",
   "version": "3.10.17"
  }
 },
 "nbformat": 4,
 "nbformat_minor": 5
}
