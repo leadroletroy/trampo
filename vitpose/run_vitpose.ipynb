{
 "cells": [
  {
   "cell_type": "code",
   "execution_count": 1,
   "metadata": {},
   "outputs": [
    {
     "name": "stderr",
     "output_type": "stream",
     "text": [
      "/home/lea/anaconda3/envs/vitpose/lib/python3.8/site-packages/requests/__init__.py:86: RequestsDependencyWarning: Unable to find acceptable character detection dependency (chardet or charset_normalizer).\n",
      "  warnings.warn(\n",
      "/home/lea/anaconda3/envs/vitpose/lib/python3.8/site-packages/albumentations/__init__.py:13: UserWarning: A new version of Albumentations is available: 2.0.8 (you have 1.4.18). Upgrade using: pip install -U albumentations. To disable automatic update checks, set the environment variable NO_ALBUMENTATIONS_UPDATE to 1.\n",
      "  check_for_updates()\n"
     ]
    },
    {
     "name": "stdout",
     "output_type": "stream",
     "text": [
      "apex is not installed\n",
      "apex is not installed\n",
      "apex is not installed\n"
     ]
    }
   ],
   "source": [
    "# Copyright (c) OpenMMLab. All rights reserved.\n",
    "import os\n",
    "import tempfile\n",
    "import warnings\n",
    "from argparse import ArgumentParser\n",
    "\n",
    "from mmpose.apis import (inference_top_down_pose_model, init_pose_model,\n",
    "                         process_mmdet_results, vis_pose_result)\n",
    "from mmpose.datasets import DatasetInfo\n",
    "\n",
    "try:\n",
    "    from mmdet.apis.inference import inference_detector, init_detector\n",
    "    has_mmdet = True\n",
    "except (ImportError, ModuleNotFoundError):\n",
    "    has_mmdet = False\n",
    "\n",
    "from tqdm.notebook import tqdm\n",
    "import cv2\n",
    "import pickle\n",
    "import json"
   ]
  },
  {
   "cell_type": "markdown",
   "metadata": {
    "vscode": {
     "languageId": "bat"
    }
   },
   "source": [
    "## Model config"
   ]
  },
  {
   "cell_type": "code",
   "execution_count": 2,
   "metadata": {},
   "outputs": [
    {
     "name": "stdout",
     "output_type": "stream",
     "text": [
      "load checkpoint from local path: checkpoints/faster_rcnn_r50_fpn_1x_coco_20200130-047c8118.pth\n",
      "load checkpoint from local path: checkpoints/vitpose-l.pth\n"
     ]
    }
   ],
   "source": [
    "det_config = \"demo/mmdetection_cfg/faster_rcnn_r50_fpn_coco.py\" \n",
    "det_checkpoint = \"checkpoints/faster_rcnn_r50_fpn_1x_coco_20200130-047c8118.pth\" \n",
    "pose_config = \"configs/body/2d_kpt_sview_rgb_img/topdown_heatmap/coco/ViTPose_large_coco_256x192.py\"  \n",
    "pose_checkpoint = \"checkpoints/vitpose-l.pth\"\n",
    "device = \"cuda:0\"\n",
    "\n",
    "det_cat_id = 1 # Category id for bounding box detection model\n",
    "bbox_thr = 0.5 # Bounding box score threshold\n",
    "kpt_thr = 0.5 # Keypoint score threshold\n",
    "radius = 4 # Keypoint radius for visualization\n",
    "thickness = 1 # Link thickness for visualization\n",
    "\n",
    "det_model = init_detector(det_config, det_checkpoint, device=device.lower())\n",
    "\n",
    "# build the pose model from a config file and a checkpoint file\n",
    "pose_model = init_pose_model(\n",
    "    pose_config, pose_checkpoint, device=device.lower())\n",
    "\n",
    "dataset = pose_model.cfg.data['test']['type']\n",
    "dataset_info = pose_model.cfg.data['test'].get('dataset_info', None)\n",
    "if dataset_info is None:\n",
    "    warnings.warn(\n",
    "        'Please set `dataset_info` in the config.'\n",
    "        'Check https://github.com/open-mmlab/mmpose/pull/663 for details.',\n",
    "        DeprecationWarning)\n",
    "else:\n",
    "    dataset_info = DatasetInfo(dataset_info)"
   ]
  },
  {
   "cell_type": "markdown",
   "metadata": {},
   "source": [
    "## Run model on frames"
   ]
  },
  {
   "cell_type": "markdown",
   "metadata": {},
   "source": [
    "### without rotation"
   ]
  },
  {
   "cell_type": "code",
   "execution_count": 3,
   "metadata": {},
   "outputs": [],
   "source": [
    "def run_no_rotate(img_name, frame_names, out_img_root):\n",
    "    drawn_frames = []\n",
    "    frame_paths = [os.path.join(img_name, frame_name) for frame_name in frame_names]\n",
    "    for i, path in tqdm(enumerate(frame_paths)):\n",
    "        out_file = os.path.join(out_img_root, f'vis_{frame_names[i]}')\n",
    "\n",
    "        # test a single image, the resulting box is (x1, y1, x2, y2)\n",
    "        mmdet_results = inference_detector(det_model, path)\n",
    "\n",
    "        # keep the person class bounding boxes.\n",
    "        person_results = process_mmdet_results(mmdet_results, det_cat_id)\n",
    "        pose_results, returned_outputs = inference_top_down_pose_model(\n",
    "            pose_model,\n",
    "            path,\n",
    "            person_results,\n",
    "            bbox_thr=bbox_thr,\n",
    "            format='xyxy',\n",
    "            dataset=dataset,\n",
    "            dataset_info=dataset_info,\n",
    "            return_heatmap=False,\n",
    "            outputs=None)\n",
    "        \n",
    "        vis_pose_result(\n",
    "            pose_model,\n",
    "            path,\n",
    "            pose_results,\n",
    "            dataset=dataset,\n",
    "            dataset_info=dataset_info,\n",
    "            kpt_score_thr=kpt_thr,\n",
    "            radius=radius,\n",
    "            thickness=thickness,\n",
    "            show=False,\n",
    "            out_file=out_file)  \n",
    "        \n",
    "        drawn_frame = cv2.imread(out_file)\n",
    "        drawn_frames.append(drawn_frame)\n",
    "    \n",
    "    return drawn_frames"
   ]
  },
  {
   "cell_type": "markdown",
   "metadata": {},
   "source": [
    "### with rotation"
   ]
  },
  {
   "cell_type": "code",
   "execution_count": null,
   "metadata": {},
   "outputs": [],
   "source": [
    "from Pose2Sim.poseEstimation import save_to_openpose\n",
    "\n",
    "def run_rotate(img_name, frame_names, out_img_root, keypoint_pkl_path, pose_dir):\n",
    "    drawn_frames = []\n",
    "    all_keypoints = {}  # frame_name → list of person dicts\n",
    "    frame_paths = [os.path.join(img_name, frame_name) for frame_name in frame_names]\n",
    "\n",
    "    for frame_idx, image_file in tqdm(enumerate(frame_paths)):\n",
    "        out_file = os.path.join(out_img_root, f'vis_{frame_names[frame_idx]}')\n",
    "\n",
    "        # rotate to portrait\n",
    "        \"\"\" img = cv2.imread(image_file)\n",
    "        rotated_img = cv2.rotate(img, cv2.ROTATE_90_COUNTERCLOCKWISE)\n",
    "\n",
    "        tmp_fd, tmp_img_path = tempfile.mkstemp(suffix=\".png\")\n",
    "        os.close(tmp_fd)\n",
    "        cv2.imwrite(tmp_img_path, rotated_img) \"\"\"\n",
    "\n",
    "        mmdet_results = inference_detector(det_model, image_file)\n",
    "        person_results = process_mmdet_results(mmdet_results, det_cat_id)\n",
    "\n",
    "        pose_results, returned_outputs = inference_top_down_pose_model(\n",
    "            pose_model,\n",
    "            image_file,\n",
    "            person_results,\n",
    "            bbox_thr=bbox_thr,\n",
    "            format='xyxy',\n",
    "            dataset=dataset,\n",
    "            dataset_info=dataset_info,\n",
    "            return_heatmap=False,\n",
    "            outputs=None)\n",
    "\n",
    "        keypoints = [r['keypoints'][:, :2] for r in pose_results]\n",
    "        scores = [r['keypoints'][:, 2] for r in pose_results]\n",
    "\n",
    "        json_output_dir = os.path.join(pose_dir, f'{os.path.basename(img_name)}_json')\n",
    "        json_file_path = os.path.join(json_output_dir, f\"{os.path.splitext(os.path.basename(image_file))[0]}_{frame_idx:06d}.json\")\n",
    "        \n",
    "        save_to_openpose(json_file_path, keypoints, scores)\n",
    "\n",
    "        # Collect keypoints with person ID\n",
    "        keypoints_per_frame = []\n",
    "        for pid, result in enumerate(pose_results):\n",
    "            keypoints_per_frame.append({\n",
    "                \"id\": pid,\n",
    "                \"bbox\": result['bbox'],  # [x1, y1, x2, y2]\n",
    "                \"keypoints\": result['keypoints'].tolist()\n",
    "            })\n",
    "\n",
    "        all_keypoints[frame_names[frame_idx]] = keypoints_per_frame\n",
    "\n",
    "        vis_pose_result(\n",
    "            pose_model,\n",
    "            image_file,\n",
    "            pose_results,\n",
    "            dataset=dataset,\n",
    "            dataset_info=dataset_info,\n",
    "            kpt_score_thr=kpt_thr,\n",
    "            radius=radius,\n",
    "            thickness=thickness,\n",
    "            show=False,\n",
    "            out_file=out_file)\n",
    "\n",
    "        drawn_frame = cv2.imread(out_file)\n",
    "        drawn_frames.append(drawn_frame)\n",
    "\n",
    "        #os.remove(tmp_img_path)\n",
    "\n",
    "    # Save all keypoints as .pkl\n",
    "    with open(keypoint_pkl_path, 'wb') as f:\n",
    "        pickle.dump(all_keypoints, f)\n",
    "\n",
    "    return drawn_frames\n"
   ]
  },
  {
   "cell_type": "markdown",
   "metadata": {},
   "source": [
    "## Convert results to video"
   ]
  },
  {
   "cell_type": "code",
   "execution_count": 5,
   "metadata": {},
   "outputs": [],
   "source": [
    "def convert_to_video(drawn_frames, out_img_root, img_name):\n",
    "    output_video_path = os.path.join(out_img_root, img_name.split('/')[-1].split('.')[0] + '_vit.mp4')\n",
    "    height, width, _ = drawn_frames[0].shape\n",
    "\n",
    "    fourcc = cv2.VideoWriter_fourcc(*\"mp4v\")\n",
    "    video_writer = cv2.VideoWriter(output_video_path, fourcc, fps=120.0, frameSize=(width, height))\n",
    "\n",
    "    for frame in drawn_frames:\n",
    "        video_writer.write(frame)\n",
    "\n",
    "    video_writer.release()"
   ]
  },
  {
   "cell_type": "markdown",
   "metadata": {},
   "source": [
    "## Data config"
   ]
  },
  {
   "cell_type": "code",
   "execution_count": 12,
   "metadata": {},
   "outputs": [
    {
     "data": {
      "application/vnd.jupyter.widget-view+json": {
       "model_id": "735270ba614b4ae794aaba313f23bdbb",
       "version_major": 2,
       "version_minor": 0
      },
      "text/plain": [
       "  0%|          | 0/712 [00:00<?, ?it/s]"
      ]
     },
     "metadata": {},
     "output_type": "display_data"
    },
    {
     "name": "stdout",
     "output_type": "stream",
     "text": [
      "1_partie_0429-Camera1_M11139\n",
      "1_partie_0429-Camera2_M11140\n",
      "1_partie_0429-Camera3_M11141\n",
      "1_partie_0429-Camera4_M11458\n",
      "1_partie_0429-Camera5_M11459\n",
      "1_partie_0429-Camera6_M11461\n",
      "1_partie_0429-Camera7_M11462\n",
      "1_partie_0429-Camera8_M11463\n",
      "1_partie_0429_000-Camera1_M11139\n",
      "1_partie_0429_000-Camera2_M11140\n",
      "1_partie_0429_000-Camera3_M11141\n",
      "1_partie_0429_000-Camera4_M11458\n",
      "1_partie_0429_000-Camera5_M11459\n",
      "1_partie_0429_000-Camera6_M11461\n",
      "1_partie_0429_000-Camera7_M11462\n",
      "1_partie_0429_000-Camera8_M11463\n",
      "1_partie_0429_001-Camera1_M11139\n",
      "1_partie_0429_001-Camera2_M11140\n",
      "1_partie_0429_001-Camera3_M11141\n",
      "1_partie_0429_001-Camera4_M11458\n",
      "1_partie_0429_001-Camera5_M11459\n",
      "1_partie_0429_001-Camera6_M11461\n",
      "1_partie_0429_001-Camera7_M11462\n",
      "1_partie_0429_001-Camera8_M11463\n",
      "1_partie_0429_002-Camera1_M11139\n",
      "1_partie_0429_002-Camera2_M11140\n",
      "1_partie_0429_002-Camera3_M11141\n",
      "1_partie_0429_002-Camera4_M11458\n",
      "1_partie_0429_002-Camera5_M11459\n",
      "1_partie_0429_002-Camera6_M11461\n",
      "1_partie_0429_002-Camera7_M11462\n",
      "1_partie_0429_002-Camera8_M11463\n",
      "1_partie_0429_003-Camera1_M11139\n",
      "1_partie_0429_003-Camera2_M11140\n",
      "1_partie_0429_003-Camera3_M11141\n",
      "1_partie_0429_003-Camera4_M11458\n",
      "1_partie_0429_003-Camera5_M11459\n",
      "1_partie_0429_003-Camera6_M11461\n",
      "1_partie_0429_003-Camera7_M11462\n",
      "1_partie_0429_003-Camera8_M11463\n",
      "1_partie_0429_004-Camera1_M11139\n",
      "1_partie_0429_004-Camera2_M11140\n",
      "1_partie_0429_004-Camera3_M11141\n",
      "1_partie_0429_004-Camera4_M11458\n",
      "1_partie_0429_004-Camera5_M11459\n",
      "1_partie_0429_004-Camera6_M11461\n",
      "1_partie_0429_004-Camera7_M11462\n",
      "1_partie_0429_004-Camera8_M11463\n",
      "1_partie_0429_005-Camera1_M11139\n",
      "1_partie_0429_005-Camera2_M11140\n",
      "1_partie_0429_005-Camera3_M11141\n",
      "1_partie_0429_005-Camera4_M11458\n",
      "1_partie_0429_005-Camera5_M11459\n",
      "1_partie_0429_005-Camera6_M11461\n",
      "1_partie_0429_005-Camera7_M11462\n",
      "1_partie_0429_005-Camera8_M11463\n",
      "1_partie_0429_006-Camera1_M11139\n",
      "1_partie_0429_006-Camera2_M11140\n",
      "1_partie_0429_006-Camera3_M11141\n",
      "1_partie_0429_006-Camera4_M11458\n",
      "1_partie_0429_006-Camera5_M11459\n",
      "1_partie_0429_006-Camera6_M11461\n",
      "1_partie_0429_006-Camera7_M11462\n",
      "1_partie_0429_006-Camera8_M11463\n",
      "1_partie_0429_007-Camera1_M11139\n",
      "1_partie_0429_007-Camera2_M11140\n",
      "1_partie_0429_007-Camera3_M11141\n",
      "1_partie_0429_007-Camera4_M11458\n",
      "1_partie_0429_007-Camera5_M11459\n",
      "1_partie_0429_007-Camera6_M11461\n",
      "1_partie_0429_007-Camera7_M11462\n",
      "1_partie_0429_007-Camera8_M11463\n",
      "1_partie_0429_008-Camera1_M11139\n",
      "1_partie_0429_008-Camera2_M11140\n",
      "1_partie_0429_008-Camera3_M11141\n",
      "1_partie_0429_008-Camera4_M11458\n",
      "1_partie_0429_008-Camera5_M11459\n",
      "1_partie_0429_008-Camera6_M11461\n",
      "1_partie_0429_008-Camera7_M11462\n",
      "1_partie_0429_008-Camera8_M11463\n",
      "1_partie_0429_009-Camera1_M11139\n",
      "1_partie_0429_009-Camera2_M11140\n",
      "1_partie_0429_009-Camera3_M11141\n",
      "1_partie_0429_009-Camera4_M11458\n",
      "1_partie_0429_009-Camera5_M11459\n",
      "1_partie_0429_009-Camera6_M11461\n",
      "1_partie_0429_009-Camera7_M11462\n",
      "1_partie_0429_009-Camera8_M11463\n",
      "1_partie_0429_010-Camera1_M11139\n",
      "1_partie_0429_010-Camera2_M11140\n",
      "1_partie_0429_010-Camera3_M11141\n",
      "1_partie_0429_010-Camera4_M11458\n",
      "1_partie_0429_010-Camera5_M11459\n",
      "1_partie_0429_010-Camera6_M11461\n",
      "1_partie_0429_010-Camera7_M11462\n",
      "1_partie_0429_010-Camera8_M11463\n",
      "1_partie_0429_011-Camera1_M11139\n",
      "1_partie_0429_011-Camera2_M11140\n",
      "1_partie_0429_011-Camera3_M11141\n",
      "1_partie_0429_011-Camera4_M11458\n",
      "1_partie_0429_011-Camera5_M11459\n",
      "1_partie_0429_011-Camera6_M11461\n",
      "1_partie_0429_011-Camera7_M11462\n",
      "1_partie_0429_011-Camera8_M11463\n",
      "1_partie_0429_013-Camera1_M11139\n",
      "1_partie_0429_013-Camera2_M11140\n",
      "1_partie_0429_013-Camera3_M11141\n",
      "1_partie_0429_013-Camera4_M11458\n",
      "1_partie_0429_013-Camera5_M11459\n",
      "1_partie_0429_013-Camera6_M11461\n",
      "1_partie_0429_013-Camera7_M11462\n",
      "1_partie_0429_013-Camera8_M11463\n",
      "1_partie_0429_014-Camera1_M11139\n",
      "1_partie_0429_014-Camera2_M11140\n",
      "1_partie_0429_014-Camera3_M11141\n",
      "1_partie_0429_014-Camera4_M11458\n",
      "1_partie_0429_014-Camera5_M11459\n",
      "1_partie_0429_014-Camera6_M11461\n",
      "1_partie_0429_014-Camera7_M11462\n",
      "1_partie_0429_014-Camera8_M11463\n",
      "1_partie_0429_015-Camera1_M11139\n",
      "1_partie_0429_015-Camera2_M11140\n",
      "1_partie_0429_015-Camera3_M11141\n",
      "1_partie_0429_015-Camera4_M11458\n",
      "1_partie_0429_015-Camera5_M11459\n",
      "1_partie_0429_015-Camera6_M11461\n",
      "1_partie_0429_015-Camera7_M11462\n",
      "1_partie_0429_015-Camera8_M11463\n",
      "1_partie_0429_016-Camera1_M11139\n",
      "1_partie_0429_016-Camera2_M11140\n",
      "1_partie_0429_016-Camera3_M11141\n",
      "1_partie_0429_016-Camera4_M11458\n",
      "1_partie_0429_016-Camera5_M11459\n",
      "1_partie_0429_016-Camera6_M11461\n",
      "1_partie_0429_016-Camera7_M11462\n",
      "1_partie_0429_016-Camera8_M11463\n",
      "1_partie_0429_017-Camera1_M11139\n",
      "1_partie_0429_017-Camera2_M11140\n",
      "1_partie_0429_017-Camera3_M11141\n",
      "1_partie_0429_017-Camera4_M11458\n",
      "1_partie_0429_017-Camera5_M11459\n",
      "1_partie_0429_017-Camera6_M11461\n",
      "1_partie_0429_017-Camera7_M11462\n",
      "1_partie_0429_017-Camera8_M11463\n",
      "1_partie_0429_018-Camera1_M11139\n",
      "1_partie_0429_018-Camera2_M11140\n",
      "1_partie_0429_018-Camera3_M11141\n",
      "1_partie_0429_018-Camera4_M11458\n",
      "1_partie_0429_018-Camera5_M11459\n",
      "1_partie_0429_018-Camera6_M11461\n",
      "1_partie_0429_018-Camera7_M11462\n",
      "1_partie_0429_018-Camera8_M11463\n",
      "1_partie_0429_019-Camera1_M11139\n",
      "1_partie_0429_019-Camera2_M11140\n",
      "1_partie_0429_019-Camera3_M11141\n",
      "1_partie_0429_019-Camera4_M11458\n",
      "1_partie_0429_019-Camera5_M11459\n",
      "1_partie_0429_019-Camera6_M11461\n",
      "1_partie_0429_019-Camera7_M11462\n",
      "1_partie_0429_019-Camera8_M11463\n",
      "1_partie_0429_020-Camera1_M11139\n",
      "1_partie_0429_020-Camera2_M11140\n",
      "1_partie_0429_020-Camera3_M11141\n",
      "1_partie_0429_020-Camera4_M11458\n",
      "1_partie_0429_020-Camera5_M11459\n",
      "1_partie_0429_020-Camera6_M11461\n",
      "1_partie_0429_020-Camera7_M11462\n",
      "1_partie_0429_020-Camera8_M11463\n",
      "1_partie_0429_021-Camera1_M11139\n",
      "1_partie_0429_021-Camera2_M11140\n",
      "1_partie_0429_021-Camera3_M11141\n",
      "1_partie_0429_021-Camera4_M11458\n",
      "1_partie_0429_021-Camera5_M11459\n",
      "1_partie_0429_021-Camera6_M11461\n",
      "1_partie_0429_021-Camera7_M11462\n",
      "1_partie_0429_021-Camera8_M11463\n",
      "1_partie_0429_022-Camera1_M11139\n",
      "1_partie_0429_022-Camera2_M11140\n",
      "1_partie_0429_022-Camera3_M11141\n",
      "1_partie_0429_022-Camera4_M11458\n",
      "1_partie_0429_022-Camera5_M11459\n",
      "1_partie_0429_022-Camera6_M11461\n",
      "1_partie_0429_022-Camera7_M11462\n",
      "1_partie_0429_022-Camera8_M11463\n",
      "1_partie_0429_023-Camera1_M11139\n",
      "1_partie_0429_023-Camera2_M11140\n",
      "1_partie_0429_023-Camera3_M11141\n",
      "1_partie_0429_023-Camera4_M11458\n",
      "1_partie_0429_023-Camera5_M11459\n",
      "1_partie_0429_023-Camera6_M11461\n",
      "1_partie_0429_023-Camera7_M11462\n",
      "1_partie_0429_023-Camera8_M11463\n",
      "1_partie_0429_024-Camera1_M11139\n",
      "1_partie_0429_024-Camera2_M11140\n",
      "1_partie_0429_024-Camera3_M11141\n",
      "1_partie_0429_024-Camera4_M11458\n",
      "1_partie_0429_024-Camera5_M11459\n",
      "1_partie_0429_024-Camera6_M11461\n",
      "1_partie_0429_024-Camera7_M11462\n",
      "1_partie_0429_024-Camera8_M11463\n",
      "1_partie_0429_025-Camera1_M11139\n",
      "1_partie_0429_025-Camera2_M11140\n",
      "1_partie_0429_025-Camera3_M11141\n",
      "1_partie_0429_025-Camera4_M11458\n",
      "1_partie_0429_025-Camera5_M11459\n",
      "1_partie_0429_025-Camera6_M11461\n",
      "1_partie_0429_025-Camera7_M11462\n",
      "1_partie_0429_025-Camera8_M11463\n",
      "1_partie_0429_026-Camera1_M11139\n",
      "1_partie_0429_026-Camera2_M11140\n",
      "1_partie_0429_026-Camera3_M11141\n",
      "1_partie_0429_026-Camera4_M11458\n",
      "1_partie_0429_026-Camera5_M11459\n",
      "1_partie_0429_026-Camera6_M11461\n",
      "1_partie_0429_026-Camera7_M11462\n",
      "1_partie_0429_026-Camera8_M11463\n",
      "1_partie_0429_027-Camera1_M11139\n",
      "1_partie_0429_027-Camera2_M11140\n",
      "1_partie_0429_027-Camera3_M11141\n",
      "1_partie_0429_027-Camera4_M11458\n",
      "1_partie_0429_027-Camera5_M11459\n",
      "1_partie_0429_027-Camera6_M11461\n",
      "1_partie_0429_027-Camera7_M11462\n",
      "1_partie_0429_027-Camera8_M11463\n",
      "2_partie_0429-Camera1_M11139\n",
      "2_partie_0429-Camera2_M11140\n",
      "2_partie_0429-Camera3_M11141\n",
      "2_partie_0429-Camera4_M11458\n",
      "2_partie_0429-Camera5_M11459\n",
      "2_partie_0429-Camera6_M11461\n",
      "2_partie_0429-Camera7_M11462\n",
      "2_partie_0429-Camera8_M11463\n",
      "2_partie_0429_000-Camera1_M11139\n",
      "2_partie_0429_000-Camera2_M11140\n",
      "2_partie_0429_000-Camera3_M11141\n",
      "2_partie_0429_000-Camera4_M11458\n",
      "2_partie_0429_000-Camera5_M11459\n",
      "2_partie_0429_000-Camera6_M11461\n",
      "2_partie_0429_000-Camera7_M11462\n",
      "2_partie_0429_000-Camera8_M11463\n",
      "2_partie_0429_001-Camera1_M11139\n",
      "2_partie_0429_001-Camera2_M11140\n",
      "2_partie_0429_001-Camera3_M11141\n",
      "2_partie_0429_001-Camera4_M11458\n",
      "2_partie_0429_001-Camera5_M11459\n",
      "2_partie_0429_001-Camera6_M11461\n",
      "2_partie_0429_001-Camera7_M11462\n",
      "2_partie_0429_001-Camera8_M11463\n",
      "2_partie_0429_002-Camera1_M11139\n",
      "2_partie_0429_002-Camera2_M11140\n",
      "2_partie_0429_002-Camera3_M11141\n",
      "2_partie_0429_002-Camera4_M11458\n",
      "2_partie_0429_002-Camera5_M11459\n",
      "2_partie_0429_002-Camera6_M11461\n",
      "2_partie_0429_002-Camera7_M11462\n",
      "2_partie_0429_002-Camera8_M11463\n",
      "2_partie_0429_003-Camera1_M11139\n",
      "2_partie_0429_003-Camera2_M11140\n",
      "2_partie_0429_003-Camera3_M11141\n",
      "2_partie_0429_003-Camera4_M11458\n",
      "2_partie_0429_003-Camera5_M11459\n",
      "2_partie_0429_003-Camera6_M11461\n",
      "2_partie_0429_003-Camera7_M11462\n",
      "2_partie_0429_003-Camera8_M11463\n",
      "2_partie_0429_004-Camera1_M11139\n",
      "2_partie_0429_004-Camera2_M11140\n",
      "2_partie_0429_004-Camera3_M11141\n",
      "2_partie_0429_004-Camera4_M11458\n",
      "2_partie_0429_004-Camera5_M11459\n",
      "2_partie_0429_004-Camera6_M11461\n",
      "2_partie_0429_004-Camera7_M11462\n",
      "2_partie_0429_004-Camera8_M11463\n",
      "2_partie_0429_005-Camera1_M11139\n",
      "2_partie_0429_005-Camera2_M11140\n",
      "2_partie_0429_005-Camera3_M11141\n",
      "2_partie_0429_005-Camera4_M11458\n",
      "2_partie_0429_005-Camera5_M11459\n",
      "2_partie_0429_005-Camera6_M11461\n",
      "2_partie_0429_005-Camera7_M11462\n",
      "2_partie_0429_005-Camera8_M11463\n",
      "2_partie_0429_006-Camera1_M11139\n",
      "2_partie_0429_006-Camera2_M11140\n",
      "2_partie_0429_006-Camera3_M11141\n",
      "2_partie_0429_006-Camera4_M11458\n",
      "2_partie_0429_006-Camera5_M11459\n",
      "2_partie_0429_006-Camera6_M11461\n",
      "2_partie_0429_006-Camera7_M11462\n",
      "2_partie_0429_006-Camera8_M11463\n",
      "2_partie_0429_007-Camera1_M11139\n",
      "2_partie_0429_007-Camera2_M11140\n",
      "2_partie_0429_007-Camera3_M11141\n",
      "2_partie_0429_007-Camera4_M11458\n",
      "2_partie_0429_007-Camera5_M11459\n",
      "2_partie_0429_007-Camera6_M11461\n",
      "2_partie_0429_007-Camera7_M11462\n",
      "2_partie_0429_007-Camera8_M11463\n",
      "2_partie_0429_008-Camera1_M11139\n",
      "2_partie_0429_008-Camera2_M11140\n",
      "2_partie_0429_008-Camera3_M11141\n",
      "2_partie_0429_008-Camera4_M11458\n",
      "2_partie_0429_008-Camera5_M11459\n",
      "2_partie_0429_008-Camera6_M11461\n",
      "2_partie_0429_008-Camera7_M11462\n",
      "2_partie_0429_008-Camera8_M11463\n",
      "2_partie_0429_009-Camera1_M11139\n",
      "2_partie_0429_009-Camera2_M11140\n",
      "2_partie_0429_009-Camera3_M11141\n",
      "2_partie_0429_009-Camera4_M11458\n",
      "2_partie_0429_009-Camera5_M11459\n",
      "2_partie_0429_009-Camera6_M11461\n",
      "2_partie_0429_009-Camera7_M11462\n",
      "2_partie_0429_009-Camera8_M11463\n",
      "2_partie_0429_010-Camera1_M11139\n",
      "2_partie_0429_010-Camera2_M11140\n",
      "2_partie_0429_010-Camera3_M11141\n",
      "2_partie_0429_010-Camera4_M11458\n",
      "2_partie_0429_010-Camera5_M11459\n",
      "2_partie_0429_010-Camera6_M11461\n",
      "2_partie_0429_010-Camera7_M11462\n",
      "2_partie_0429_010-Camera8_M11463\n",
      "2_partie_0429_011-Camera1_M11139\n",
      "2_partie_0429_011-Camera2_M11140\n",
      "2_partie_0429_011-Camera3_M11141\n",
      "2_partie_0429_011-Camera4_M11458\n",
      "2_partie_0429_011-Camera5_M11459\n",
      "2_partie_0429_011-Camera6_M11461\n",
      "2_partie_0429_011-Camera7_M11462\n",
      "2_partie_0429_011-Camera8_M11463\n",
      "2_partie_0429_012-Camera1_M11139\n",
      "2_partie_0429_012-Camera2_M11140\n",
      "2_partie_0429_012-Camera3_M11141\n",
      "2_partie_0429_012-Camera4_M11458\n",
      "2_partie_0429_012-Camera5_M11459\n",
      "2_partie_0429_012-Camera6_M11461\n",
      "2_partie_0429_012-Camera7_M11462\n",
      "2_partie_0429_012-Camera8_M11463\n",
      "2_partie_0429_013-Camera1_M11139\n",
      "2_partie_0429_013-Camera2_M11140\n",
      "2_partie_0429_013-Camera3_M11141\n",
      "2_partie_0429_013-Camera4_M11458\n",
      "2_partie_0429_013-Camera5_M11459\n",
      "2_partie_0429_013-Camera6_M11461\n",
      "2_partie_0429_013-Camera7_M11462\n",
      "2_partie_0429_013-Camera8_M11463\n",
      "2_partie_0429_014-Camera1_M11139\n",
      "2_partie_0429_014-Camera2_M11140\n",
      "2_partie_0429_014-Camera3_M11141\n",
      "2_partie_0429_014-Camera4_M11458\n",
      "2_partie_0429_014-Camera5_M11459\n",
      "2_partie_0429_014-Camera6_M11461\n",
      "2_partie_0429_014-Camera7_M11462\n",
      "2_partie_0429_014-Camera8_M11463\n",
      "2_partie_0429_015-Camera1_M11139\n",
      "2_partie_0429_015-Camera2_M11140\n",
      "2_partie_0429_015-Camera3_M11141\n",
      "2_partie_0429_015-Camera4_M11458\n",
      "2_partie_0429_015-Camera5_M11459\n",
      "2_partie_0429_015-Camera6_M11461\n",
      "2_partie_0429_015-Camera7_M11462\n",
      "2_partie_0429_015-Camera8_M11463\n",
      "2_partie_0429_016-Camera1_M11139\n",
      "2_partie_0429_016-Camera2_M11140\n",
      "2_partie_0429_016-Camera3_M11141\n",
      "2_partie_0429_016-Camera4_M11458\n",
      "2_partie_0429_016-Camera5_M11459\n",
      "2_partie_0429_016-Camera6_M11461\n",
      "2_partie_0429_016-Camera7_M11462\n",
      "2_partie_0429_016-Camera8_M11463\n",
      "2_partie_0429_017-Camera1_M11139\n",
      "2_partie_0429_017-Camera2_M11140\n",
      "2_partie_0429_017-Camera3_M11141\n",
      "2_partie_0429_017-Camera4_M11458\n",
      "2_partie_0429_017-Camera5_M11459\n",
      "2_partie_0429_017-Camera6_M11461\n",
      "2_partie_0429_017-Camera7_M11462\n",
      "2_partie_0429_017-Camera8_M11463\n",
      "2_partie_0429_018-Camera1_M11139\n",
      "2_partie_0429_018-Camera2_M11140\n",
      "2_partie_0429_018-Camera3_M11141\n",
      "2_partie_0429_018-Camera4_M11458\n",
      "2_partie_0429_018-Camera5_M11459\n",
      "2_partie_0429_018-Camera6_M11461\n",
      "2_partie_0429_018-Camera7_M11462\n",
      "2_partie_0429_018-Camera8_M11463\n",
      "2_partie_0429_019-Camera1_M11139\n",
      "2_partie_0429_019-Camera2_M11140\n",
      "2_partie_0429_019-Camera3_M11141\n",
      "2_partie_0429_019-Camera4_M11458\n",
      "2_partie_0429_019-Camera5_M11459\n",
      "2_partie_0429_019-Camera6_M11461\n",
      "2_partie_0429_019-Camera7_M11462\n",
      "2_partie_0429_019-Camera8_M11463\n",
      "2_partie_0429_020-Camera1_M11139\n",
      "2_partie_0429_020-Camera2_M11140\n",
      "2_partie_0429_020-Camera3_M11141\n",
      "2_partie_0429_020-Camera4_M11458\n",
      "2_partie_0429_020-Camera5_M11459\n",
      "2_partie_0429_020-Camera6_M11461\n",
      "2_partie_0429_020-Camera7_M11462\n",
      "2_partie_0429_020-Camera8_M11463\n",
      "3_partie_0429-Camera1_M11139\n",
      "3_partie_0429-Camera2_M11140\n",
      "3_partie_0429-Camera3_M11141\n",
      "3_partie_0429-Camera4_M11458\n",
      "3_partie_0429-Camera5_M11459\n",
      "3_partie_0429-Camera6_M11461\n",
      "3_partie_0429-Camera7_M11462\n",
      "3_partie_0429-Camera8_M11463\n",
      "3_partie_0429_000-Camera1_M11139\n",
      "3_partie_0429_000-Camera2_M11140\n",
      "3_partie_0429_000-Camera3_M11141\n",
      "3_partie_0429_000-Camera4_M11458\n",
      "3_partie_0429_000-Camera5_M11459\n",
      "3_partie_0429_000-Camera6_M11461\n",
      "3_partie_0429_000-Camera7_M11462\n",
      "3_partie_0429_000-Camera8_M11463\n",
      "3_partie_0429_001-Camera1_M11139\n",
      "3_partie_0429_001-Camera2_M11140\n",
      "3_partie_0429_001-Camera3_M11141\n",
      "3_partie_0429_001-Camera4_M11458\n",
      "3_partie_0429_001-Camera5_M11459\n",
      "3_partie_0429_001-Camera6_M11461\n",
      "3_partie_0429_001-Camera7_M11462\n",
      "3_partie_0429_001-Camera8_M11463\n",
      "3_partie_0429_002-Camera1_M11139\n",
      "3_partie_0429_002-Camera2_M11140\n",
      "3_partie_0429_002-Camera3_M11141\n",
      "3_partie_0429_002-Camera4_M11458\n",
      "3_partie_0429_002-Camera5_M11459\n",
      "3_partie_0429_002-Camera6_M11461\n",
      "3_partie_0429_002-Camera7_M11462\n",
      "3_partie_0429_002-Camera8_M11463\n",
      "3_partie_0429_003-Camera1_M11139\n",
      "3_partie_0429_003-Camera2_M11140\n",
      "3_partie_0429_003-Camera3_M11141\n",
      "3_partie_0429_003-Camera4_M11458\n",
      "3_partie_0429_003-Camera5_M11459\n",
      "3_partie_0429_003-Camera6_M11461\n",
      "3_partie_0429_003-Camera7_M11462\n",
      "3_partie_0429_003-Camera8_M11463\n",
      "3_partie_0429_004-Camera1_M11139\n",
      "3_partie_0429_004-Camera2_M11140\n",
      "3_partie_0429_004-Camera3_M11141\n",
      "3_partie_0429_004-Camera4_M11458\n",
      "3_partie_0429_004-Camera5_M11459\n",
      "3_partie_0429_004-Camera6_M11461\n",
      "3_partie_0429_004-Camera7_M11462\n",
      "3_partie_0429_004-Camera8_M11463\n",
      "3_partie_0429_005-Camera1_M11139\n",
      "3_partie_0429_005-Camera2_M11140\n",
      "3_partie_0429_005-Camera3_M11141\n",
      "3_partie_0429_005-Camera4_M11458\n",
      "3_partie_0429_005-Camera5_M11459\n",
      "3_partie_0429_005-Camera6_M11461\n",
      "3_partie_0429_005-Camera7_M11462\n",
      "3_partie_0429_005-Camera8_M11463\n",
      "3_partie_0429_006-Camera1_M11139\n",
      "3_partie_0429_006-Camera2_M11140\n",
      "3_partie_0429_006-Camera3_M11141\n",
      "3_partie_0429_006-Camera4_M11458\n",
      "3_partie_0429_006-Camera5_M11459\n",
      "3_partie_0429_006-Camera6_M11461\n",
      "3_partie_0429_006-Camera7_M11462\n",
      "3_partie_0429_006-Camera8_M11463\n",
      "3_partie_0429_007-Camera1_M11139\n",
      "3_partie_0429_007-Camera2_M11140\n",
      "3_partie_0429_007-Camera3_M11141\n",
      "3_partie_0429_007-Camera4_M11458\n",
      "3_partie_0429_007-Camera5_M11459\n",
      "3_partie_0429_007-Camera6_M11461\n",
      "3_partie_0429_007-Camera7_M11462\n",
      "3_partie_0429_007-Camera8_M11463\n",
      "3_partie_0429_008-Camera1_M11139\n",
      "3_partie_0429_008-Camera2_M11140\n",
      "3_partie_0429_008-Camera3_M11141\n",
      "3_partie_0429_008-Camera4_M11458\n",
      "3_partie_0429_008-Camera5_M11459\n",
      "3_partie_0429_008-Camera6_M11461\n",
      "3_partie_0429_008-Camera7_M11462\n",
      "3_partie_0429_008-Camera8_M11463\n",
      "3_partie_0429_009-Camera1_M11139\n",
      "3_partie_0429_009-Camera2_M11140\n",
      "3_partie_0429_009-Camera3_M11141\n",
      "3_partie_0429_009-Camera4_M11458\n",
      "3_partie_0429_009-Camera5_M11459\n",
      "3_partie_0429_009-Camera6_M11461\n",
      "3_partie_0429_009-Camera7_M11462\n",
      "3_partie_0429_009-Camera8_M11463\n",
      "3_partie_0429_010-Camera1_M11139\n",
      "3_partie_0429_010-Camera2_M11140\n",
      "3_partie_0429_010-Camera3_M11141\n",
      "3_partie_0429_010-Camera4_M11458\n",
      "3_partie_0429_010-Camera5_M11459\n",
      "3_partie_0429_010-Camera6_M11461\n",
      "3_partie_0429_010-Camera7_M11462\n",
      "3_partie_0429_010-Camera8_M11463\n",
      "3_partie_0429_011-Camera1_M11139\n",
      "3_partie_0429_011-Camera2_M11140\n",
      "3_partie_0429_011-Camera3_M11141\n",
      "3_partie_0429_011-Camera4_M11458\n",
      "3_partie_0429_011-Camera5_M11459\n",
      "3_partie_0429_011-Camera6_M11461\n",
      "3_partie_0429_011-Camera7_M11462\n",
      "3_partie_0429_011-Camera8_M11463\n",
      "3_partie_0429_012-Camera1_M11139\n",
      "3_partie_0429_012-Camera2_M11140\n",
      "3_partie_0429_012-Camera3_M11141\n",
      "3_partie_0429_012-Camera4_M11458\n",
      "3_partie_0429_012-Camera5_M11459\n",
      "3_partie_0429_012-Camera6_M11461\n",
      "3_partie_0429_012-Camera7_M11462\n",
      "3_partie_0429_012-Camera8_M11463\n",
      "3_partie_0429_013-Camera1_M11139\n",
      "3_partie_0429_013-Camera2_M11140\n",
      "3_partie_0429_013-Camera3_M11141\n",
      "3_partie_0429_013-Camera4_M11458\n",
      "3_partie_0429_013-Camera5_M11459\n",
      "3_partie_0429_013-Camera6_M11461\n",
      "3_partie_0429_013-Camera7_M11462\n",
      "3_partie_0429_013-Camera8_M11463\n",
      "3_partie_0429_014-Camera1_M11139\n",
      "3_partie_0429_014-Camera2_M11140\n",
      "3_partie_0429_014-Camera3_M11141\n",
      "3_partie_0429_014-Camera4_M11458\n",
      "3_partie_0429_014-Camera5_M11459\n",
      "3_partie_0429_014-Camera6_M11461\n",
      "3_partie_0429_014-Camera7_M11462\n",
      "3_partie_0429_014-Camera8_M11463\n",
      "3_partie_0429_015-Camera1_M11139\n",
      "3_partie_0429_015-Camera2_M11140\n",
      "3_partie_0429_015-Camera3_M11141\n",
      "3_partie_0429_015-Camera4_M11458\n",
      "3_partie_0429_015-Camera5_M11459\n",
      "3_partie_0429_015-Camera6_M11461\n",
      "3_partie_0429_015-Camera7_M11462\n",
      "3_partie_0429_015-Camera8_M11463\n",
      "3_partie_0429_016-Camera1_M11139\n",
      "3_partie_0429_016-Camera2_M11140\n",
      "3_partie_0429_016-Camera3_M11141\n",
      "3_partie_0429_016-Camera4_M11458\n",
      "3_partie_0429_016-Camera5_M11459\n",
      "3_partie_0429_016-Camera6_M11461\n",
      "3_partie_0429_016-Camera7_M11462\n",
      "3_partie_0429_016-Camera8_M11463\n",
      "3_partie_0429_017-Camera1_M11139\n",
      "3_partie_0429_017-Camera2_M11140\n",
      "3_partie_0429_017-Camera3_M11141\n",
      "3_partie_0429_017-Camera4_M11458\n",
      "3_partie_0429_017-Camera5_M11459\n",
      "3_partie_0429_017-Camera6_M11461\n",
      "3_partie_0429_017-Camera7_M11462\n",
      "3_partie_0429_017-Camera8_M11463\n",
      "3_partie_0429_018-Camera1_M11139\n",
      "3_partie_0429_018-Camera2_M11140\n",
      "3_partie_0429_018-Camera3_M11141\n",
      "3_partie_0429_018-Camera4_M11458\n",
      "3_partie_0429_018-Camera5_M11459\n",
      "3_partie_0429_018-Camera6_M11461\n"
     ]
    },
    {
     "data": {
      "application/vnd.jupyter.widget-view+json": {
       "model_id": "d752dafe9aeb4bfba5097843d26fc2d6",
       "version_major": 2,
       "version_minor": 0
      },
      "text/plain": [
       "0it [00:00, ?it/s]"
      ]
     },
     "metadata": {},
     "output_type": "display_data"
    },
    {
     "name": "stdout",
     "output_type": "stream",
     "text": [
      "3_partie_0429_018-Camera7_M11462\n"
     ]
    },
    {
     "data": {
      "application/vnd.jupyter.widget-view+json": {
       "model_id": "02f360aee53c4224ab7a57b120cb3465",
       "version_major": 2,
       "version_minor": 0
      },
      "text/plain": [
       "0it [00:00, ?it/s]"
      ]
     },
     "metadata": {},
     "output_type": "display_data"
    },
    {
     "name": "stdout",
     "output_type": "stream",
     "text": [
      "3_partie_0429_018-Camera8_M11463\n"
     ]
    },
    {
     "data": {
      "application/vnd.jupyter.widget-view+json": {
       "model_id": "f9e68b77a5b542b3abf47e72b17593c8",
       "version_major": 2,
       "version_minor": 0
      },
      "text/plain": [
       "0it [00:00, ?it/s]"
      ]
     },
     "metadata": {},
     "output_type": "display_data"
    },
    {
     "name": "stdout",
     "output_type": "stream",
     "text": [
      "3_partie_0429_019-Camera1_M11139\n"
     ]
    },
    {
     "data": {
      "application/vnd.jupyter.widget-view+json": {
       "model_id": "e65822e2d0d44e8f9ef755b3b014657e",
       "version_major": 2,
       "version_minor": 0
      },
      "text/plain": [
       "0it [00:00, ?it/s]"
      ]
     },
     "metadata": {},
     "output_type": "display_data"
    },
    {
     "name": "stdout",
     "output_type": "stream",
     "text": [
      "3_partie_0429_019-Camera2_M11140\n"
     ]
    },
    {
     "data": {
      "application/vnd.jupyter.widget-view+json": {
       "model_id": "728701468a864e00843c1b5d912ae183",
       "version_major": 2,
       "version_minor": 0
      },
      "text/plain": [
       "0it [00:00, ?it/s]"
      ]
     },
     "metadata": {},
     "output_type": "display_data"
    },
    {
     "name": "stdout",
     "output_type": "stream",
     "text": [
      "3_partie_0429_019-Camera3_M11141\n"
     ]
    },
    {
     "data": {
      "application/vnd.jupyter.widget-view+json": {
       "model_id": "2cbdaa05757541edaf6afe154bbcf6ec",
       "version_major": 2,
       "version_minor": 0
      },
      "text/plain": [
       "0it [00:00, ?it/s]"
      ]
     },
     "metadata": {},
     "output_type": "display_data"
    },
    {
     "name": "stdout",
     "output_type": "stream",
     "text": [
      "3_partie_0429_019-Camera4_M11458\n"
     ]
    },
    {
     "data": {
      "application/vnd.jupyter.widget-view+json": {
       "model_id": "be682d5561f74548a07a9da3cac9a020",
       "version_major": 2,
       "version_minor": 0
      },
      "text/plain": [
       "0it [00:00, ?it/s]"
      ]
     },
     "metadata": {},
     "output_type": "display_data"
    },
    {
     "name": "stdout",
     "output_type": "stream",
     "text": [
      "3_partie_0429_019-Camera5_M11459\n"
     ]
    },
    {
     "data": {
      "application/vnd.jupyter.widget-view+json": {
       "model_id": "16e528a7a9f7419597b1902a0550071b",
       "version_major": 2,
       "version_minor": 0
      },
      "text/plain": [
       "0it [00:00, ?it/s]"
      ]
     },
     "metadata": {},
     "output_type": "display_data"
    },
    {
     "name": "stdout",
     "output_type": "stream",
     "text": [
      "3_partie_0429_019-Camera6_M11461\n",
      "3_partie_0429_019-Camera7_M11462\n"
     ]
    },
    {
     "data": {
      "application/vnd.jupyter.widget-view+json": {
       "model_id": "508b1cc7a3a644d2919e3ae4595eed71",
       "version_major": 2,
       "version_minor": 0
      },
      "text/plain": [
       "0it [00:00, ?it/s]"
      ]
     },
     "metadata": {},
     "output_type": "display_data"
    },
    {
     "name": "stdout",
     "output_type": "stream",
     "text": [
      "3_partie_0429_019-Camera8_M11463\n"
     ]
    },
    {
     "data": {
      "application/vnd.jupyter.widget-view+json": {
       "model_id": "55afc6a362994fe4b89edb6a5b35bf24",
       "version_major": 2,
       "version_minor": 0
      },
      "text/plain": [
       "0it [00:00, ?it/s]"
      ]
     },
     "metadata": {},
     "output_type": "display_data"
    },
    {
     "name": "stdout",
     "output_type": "stream",
     "text": [
      "3_partie_0429_020-Camera1_M11139\n"
     ]
    },
    {
     "data": {
      "application/vnd.jupyter.widget-view+json": {
       "model_id": "d4e6b678cac5464a9d39cea442fe6350",
       "version_major": 2,
       "version_minor": 0
      },
      "text/plain": [
       "0it [00:00, ?it/s]"
      ]
     },
     "metadata": {},
     "output_type": "display_data"
    },
    {
     "name": "stdout",
     "output_type": "stream",
     "text": [
      "3_partie_0429_020-Camera2_M11140\n"
     ]
    },
    {
     "data": {
      "application/vnd.jupyter.widget-view+json": {
       "model_id": "2a4446a46ae343c3a17217e18540143d",
       "version_major": 2,
       "version_minor": 0
      },
      "text/plain": [
       "0it [00:00, ?it/s]"
      ]
     },
     "metadata": {},
     "output_type": "display_data"
    },
    {
     "name": "stdout",
     "output_type": "stream",
     "text": [
      "3_partie_0429_020-Camera3_M11141\n"
     ]
    },
    {
     "data": {
      "application/vnd.jupyter.widget-view+json": {
       "model_id": "6048d9fd2be54e078544c1564f323d5b",
       "version_major": 2,
       "version_minor": 0
      },
      "text/plain": [
       "0it [00:00, ?it/s]"
      ]
     },
     "metadata": {},
     "output_type": "display_data"
    },
    {
     "name": "stdout",
     "output_type": "stream",
     "text": [
      "3_partie_0429_020-Camera4_M11458\n"
     ]
    },
    {
     "data": {
      "application/vnd.jupyter.widget-view+json": {
       "model_id": "71b31554252e4042b3504653fe1a177f",
       "version_major": 2,
       "version_minor": 0
      },
      "text/plain": [
       "0it [00:00, ?it/s]"
      ]
     },
     "metadata": {},
     "output_type": "display_data"
    },
    {
     "name": "stdout",
     "output_type": "stream",
     "text": [
      "3_partie_0429_020-Camera5_M11459\n"
     ]
    },
    {
     "data": {
      "application/vnd.jupyter.widget-view+json": {
       "model_id": "389410005cb7438ba4262111ec3c8826",
       "version_major": 2,
       "version_minor": 0
      },
      "text/plain": [
       "0it [00:00, ?it/s]"
      ]
     },
     "metadata": {},
     "output_type": "display_data"
    },
    {
     "name": "stdout",
     "output_type": "stream",
     "text": [
      "3_partie_0429_020-Camera6_M11461\n"
     ]
    },
    {
     "data": {
      "application/vnd.jupyter.widget-view+json": {
       "model_id": "7cf2eb04263e42c69d6aef62f8b1479f",
       "version_major": 2,
       "version_minor": 0
      },
      "text/plain": [
       "0it [00:00, ?it/s]"
      ]
     },
     "metadata": {},
     "output_type": "display_data"
    },
    {
     "name": "stdout",
     "output_type": "stream",
     "text": [
      "3_partie_0429_020-Camera7_M11462\n"
     ]
    },
    {
     "data": {
      "application/vnd.jupyter.widget-view+json": {
       "model_id": "afd28520d10a4f36bdffcde922de6a44",
       "version_major": 2,
       "version_minor": 0
      },
      "text/plain": [
       "0it [00:00, ?it/s]"
      ]
     },
     "metadata": {},
     "output_type": "display_data"
    },
    {
     "name": "stdout",
     "output_type": "stream",
     "text": [
      "3_partie_0429_020-Camera8_M11463\n"
     ]
    },
    {
     "data": {
      "application/vnd.jupyter.widget-view+json": {
       "model_id": "6ab85ec871634375a9a272aedabada1d",
       "version_major": 2,
       "version_minor": 0
      },
      "text/plain": [
       "0it [00:00, ?it/s]"
      ]
     },
     "metadata": {},
     "output_type": "display_data"
    },
    {
     "name": "stdout",
     "output_type": "stream",
     "text": [
      "7_partie_0429_000-Camera1_M11139\n"
     ]
    },
    {
     "data": {
      "application/vnd.jupyter.widget-view+json": {
       "model_id": "d7ab016f366c4015b934c566b488fe96",
       "version_major": 2,
       "version_minor": 0
      },
      "text/plain": [
       "0it [00:00, ?it/s]"
      ]
     },
     "metadata": {},
     "output_type": "display_data"
    },
    {
     "name": "stdout",
     "output_type": "stream",
     "text": [
      "7_partie_0429_000-Camera2_M11140\n"
     ]
    },
    {
     "data": {
      "application/vnd.jupyter.widget-view+json": {
       "model_id": "c644908c1c8746ee8d854f82df942116",
       "version_major": 2,
       "version_minor": 0
      },
      "text/plain": [
       "0it [00:00, ?it/s]"
      ]
     },
     "metadata": {},
     "output_type": "display_data"
    },
    {
     "name": "stdout",
     "output_type": "stream",
     "text": [
      "7_partie_0429_000-Camera3_M11141\n"
     ]
    },
    {
     "data": {
      "application/vnd.jupyter.widget-view+json": {
       "model_id": "548f05bb02c545f688c011ad88e12912",
       "version_major": 2,
       "version_minor": 0
      },
      "text/plain": [
       "0it [00:00, ?it/s]"
      ]
     },
     "metadata": {},
     "output_type": "display_data"
    },
    {
     "name": "stdout",
     "output_type": "stream",
     "text": [
      "7_partie_0429_000-Camera4_M11458\n"
     ]
    },
    {
     "data": {
      "application/vnd.jupyter.widget-view+json": {
       "model_id": "b3a0a3e4916b4ba0bae071b89bacf619",
       "version_major": 2,
       "version_minor": 0
      },
      "text/plain": [
       "0it [00:00, ?it/s]"
      ]
     },
     "metadata": {},
     "output_type": "display_data"
    },
    {
     "name": "stdout",
     "output_type": "stream",
     "text": [
      "7_partie_0429_000-Camera5_M11459\n"
     ]
    },
    {
     "data": {
      "application/vnd.jupyter.widget-view+json": {
       "model_id": "7c4b7595d787418da0459f3638439074",
       "version_major": 2,
       "version_minor": 0
      },
      "text/plain": [
       "0it [00:00, ?it/s]"
      ]
     },
     "metadata": {},
     "output_type": "display_data"
    },
    {
     "name": "stdout",
     "output_type": "stream",
     "text": [
      "7_partie_0429_000-Camera6_M11461\n"
     ]
    },
    {
     "data": {
      "application/vnd.jupyter.widget-view+json": {
       "model_id": "d1cc3e13fb7c490eab2f1f9a6bf86796",
       "version_major": 2,
       "version_minor": 0
      },
      "text/plain": [
       "0it [00:00, ?it/s]"
      ]
     },
     "metadata": {},
     "output_type": "display_data"
    },
    {
     "name": "stdout",
     "output_type": "stream",
     "text": [
      "7_partie_0429_000-Camera7_M11462\n"
     ]
    },
    {
     "data": {
      "application/vnd.jupyter.widget-view+json": {
       "model_id": "96f382e8f37445e39cfb7e0cf9952233",
       "version_major": 2,
       "version_minor": 0
      },
      "text/plain": [
       "0it [00:00, ?it/s]"
      ]
     },
     "metadata": {},
     "output_type": "display_data"
    },
    {
     "name": "stdout",
     "output_type": "stream",
     "text": [
      "7_partie_0429_000-Camera8_M11463\n"
     ]
    },
    {
     "data": {
      "application/vnd.jupyter.widget-view+json": {
       "model_id": "b656e1e850054664856b5a0aef4f4b54",
       "version_major": 2,
       "version_minor": 0
      },
      "text/plain": [
       "0it [00:00, ?it/s]"
      ]
     },
     "metadata": {},
     "output_type": "display_data"
    },
    {
     "name": "stdout",
     "output_type": "stream",
     "text": [
      "7_partie_0429_001-Camera1_M11139\n"
     ]
    },
    {
     "data": {
      "application/vnd.jupyter.widget-view+json": {
       "model_id": "645537968c9c4c4ca5487d21cc25aeb8",
       "version_major": 2,
       "version_minor": 0
      },
      "text/plain": [
       "0it [00:00, ?it/s]"
      ]
     },
     "metadata": {},
     "output_type": "display_data"
    },
    {
     "name": "stdout",
     "output_type": "stream",
     "text": [
      "7_partie_0429_001-Camera2_M11140\n"
     ]
    },
    {
     "data": {
      "application/vnd.jupyter.widget-view+json": {
       "model_id": "aca4ed45f28a4778a7d70830bf701295",
       "version_major": 2,
       "version_minor": 0
      },
      "text/plain": [
       "0it [00:00, ?it/s]"
      ]
     },
     "metadata": {},
     "output_type": "display_data"
    },
    {
     "name": "stdout",
     "output_type": "stream",
     "text": [
      "7_partie_0429_001-Camera3_M11141\n",
      "7_partie_0429_001-Camera4_M11458\n"
     ]
    },
    {
     "data": {
      "application/vnd.jupyter.widget-view+json": {
       "model_id": "fd94759735b7470b82d06383c3802fc5",
       "version_major": 2,
       "version_minor": 0
      },
      "text/plain": [
       "0it [00:00, ?it/s]"
      ]
     },
     "metadata": {},
     "output_type": "display_data"
    },
    {
     "name": "stdout",
     "output_type": "stream",
     "text": [
      "7_partie_0429_001-Camera5_M11459\n"
     ]
    },
    {
     "data": {
      "application/vnd.jupyter.widget-view+json": {
       "model_id": "b9088c304c704ae2b64cc5de5ac58feb",
       "version_major": 2,
       "version_minor": 0
      },
      "text/plain": [
       "0it [00:00, ?it/s]"
      ]
     },
     "metadata": {},
     "output_type": "display_data"
    },
    {
     "name": "stdout",
     "output_type": "stream",
     "text": [
      "7_partie_0429_001-Camera6_M11461\n"
     ]
    },
    {
     "data": {
      "application/vnd.jupyter.widget-view+json": {
       "model_id": "a71f55ecf45f49669a80164702882111",
       "version_major": 2,
       "version_minor": 0
      },
      "text/plain": [
       "0it [00:00, ?it/s]"
      ]
     },
     "metadata": {},
     "output_type": "display_data"
    },
    {
     "name": "stdout",
     "output_type": "stream",
     "text": [
      "7_partie_0429_001-Camera7_M11462\n"
     ]
    },
    {
     "data": {
      "application/vnd.jupyter.widget-view+json": {
       "model_id": "42e8db77c67243b6a9214a7c7350890b",
       "version_major": 2,
       "version_minor": 0
      },
      "text/plain": [
       "0it [00:00, ?it/s]"
      ]
     },
     "metadata": {},
     "output_type": "display_data"
    },
    {
     "name": "stdout",
     "output_type": "stream",
     "text": [
      "7_partie_0429_001-Camera8_M11463\n"
     ]
    },
    {
     "data": {
      "application/vnd.jupyter.widget-view+json": {
       "model_id": "44205c4f85f940b0a37f366990e6e9cc",
       "version_major": 2,
       "version_minor": 0
      },
      "text/plain": [
       "0it [00:00, ?it/s]"
      ]
     },
     "metadata": {},
     "output_type": "display_data"
    },
    {
     "name": "stdout",
     "output_type": "stream",
     "text": [
      "7_partie_0429_002-Camera1_M11139\n"
     ]
    },
    {
     "data": {
      "application/vnd.jupyter.widget-view+json": {
       "model_id": "34b950e4a1f44b9c91c435c9b344aa3e",
       "version_major": 2,
       "version_minor": 0
      },
      "text/plain": [
       "0it [00:00, ?it/s]"
      ]
     },
     "metadata": {},
     "output_type": "display_data"
    },
    {
     "name": "stdout",
     "output_type": "stream",
     "text": [
      "7_partie_0429_002-Camera2_M11140\n"
     ]
    },
    {
     "data": {
      "application/vnd.jupyter.widget-view+json": {
       "model_id": "08f1d01df9294026a706ee9849ca4655",
       "version_major": 2,
       "version_minor": 0
      },
      "text/plain": [
       "0it [00:00, ?it/s]"
      ]
     },
     "metadata": {},
     "output_type": "display_data"
    },
    {
     "name": "stdout",
     "output_type": "stream",
     "text": [
      "7_partie_0429_002-Camera3_M11141\n"
     ]
    },
    {
     "data": {
      "application/vnd.jupyter.widget-view+json": {
       "model_id": "c3791890e7fa4a39b739b760a788d9c2",
       "version_major": 2,
       "version_minor": 0
      },
      "text/plain": [
       "0it [00:00, ?it/s]"
      ]
     },
     "metadata": {},
     "output_type": "display_data"
    },
    {
     "name": "stdout",
     "output_type": "stream",
     "text": [
      "7_partie_0429_002-Camera4_M11458\n"
     ]
    },
    {
     "data": {
      "application/vnd.jupyter.widget-view+json": {
       "model_id": "44a574f45b2d4dad86b7c10c6da2a364",
       "version_major": 2,
       "version_minor": 0
      },
      "text/plain": [
       "0it [00:00, ?it/s]"
      ]
     },
     "metadata": {},
     "output_type": "display_data"
    },
    {
     "name": "stdout",
     "output_type": "stream",
     "text": [
      "7_partie_0429_002-Camera5_M11459\n"
     ]
    },
    {
     "data": {
      "application/vnd.jupyter.widget-view+json": {
       "model_id": "d23983fea95a4c74bbb8eaa9d0257bac",
       "version_major": 2,
       "version_minor": 0
      },
      "text/plain": [
       "0it [00:00, ?it/s]"
      ]
     },
     "metadata": {},
     "output_type": "display_data"
    },
    {
     "name": "stdout",
     "output_type": "stream",
     "text": [
      "7_partie_0429_002-Camera6_M11461\n"
     ]
    },
    {
     "data": {
      "application/vnd.jupyter.widget-view+json": {
       "model_id": "b11cb965b7604df3a0fb450f9ed3b89a",
       "version_major": 2,
       "version_minor": 0
      },
      "text/plain": [
       "0it [00:00, ?it/s]"
      ]
     },
     "metadata": {},
     "output_type": "display_data"
    },
    {
     "name": "stdout",
     "output_type": "stream",
     "text": [
      "7_partie_0429_002-Camera7_M11462\n"
     ]
    },
    {
     "data": {
      "application/vnd.jupyter.widget-view+json": {
       "model_id": "4d6e89be2e1248dcbff6e19f738ad9a5",
       "version_major": 2,
       "version_minor": 0
      },
      "text/plain": [
       "0it [00:00, ?it/s]"
      ]
     },
     "metadata": {},
     "output_type": "display_data"
    },
    {
     "name": "stdout",
     "output_type": "stream",
     "text": [
      "7_partie_0429_002-Camera8_M11463\n"
     ]
    },
    {
     "data": {
      "application/vnd.jupyter.widget-view+json": {
       "model_id": "0f19736991234159a83f1975a335222b",
       "version_major": 2,
       "version_minor": 0
      },
      "text/plain": [
       "0it [00:00, ?it/s]"
      ]
     },
     "metadata": {},
     "output_type": "display_data"
    },
    {
     "name": "stdout",
     "output_type": "stream",
     "text": [
      "7_partie_0429_003-Camera1_M11139\n"
     ]
    },
    {
     "data": {
      "application/vnd.jupyter.widget-view+json": {
       "model_id": "5d71033233644631a1297cd8cff127bc",
       "version_major": 2,
       "version_minor": 0
      },
      "text/plain": [
       "0it [00:00, ?it/s]"
      ]
     },
     "metadata": {},
     "output_type": "display_data"
    },
    {
     "name": "stdout",
     "output_type": "stream",
     "text": [
      "7_partie_0429_003-Camera2_M11140\n"
     ]
    },
    {
     "data": {
      "application/vnd.jupyter.widget-view+json": {
       "model_id": "86c08c90900c4f3ebef75b2bb7520c13",
       "version_major": 2,
       "version_minor": 0
      },
      "text/plain": [
       "0it [00:00, ?it/s]"
      ]
     },
     "metadata": {},
     "output_type": "display_data"
    },
    {
     "name": "stdout",
     "output_type": "stream",
     "text": [
      "7_partie_0429_003-Camera3_M11141\n"
     ]
    },
    {
     "data": {
      "application/vnd.jupyter.widget-view+json": {
       "model_id": "1d5f2244ef6543009f6a769f3568447f",
       "version_major": 2,
       "version_minor": 0
      },
      "text/plain": [
       "0it [00:00, ?it/s]"
      ]
     },
     "metadata": {},
     "output_type": "display_data"
    },
    {
     "name": "stdout",
     "output_type": "stream",
     "text": [
      "7_partie_0429_003-Camera4_M11458\n"
     ]
    },
    {
     "data": {
      "application/vnd.jupyter.widget-view+json": {
       "model_id": "9795e7610b794903ab24eeb5f65e6cfb",
       "version_major": 2,
       "version_minor": 0
      },
      "text/plain": [
       "0it [00:00, ?it/s]"
      ]
     },
     "metadata": {},
     "output_type": "display_data"
    },
    {
     "name": "stdout",
     "output_type": "stream",
     "text": [
      "7_partie_0429_003-Camera5_M11459\n"
     ]
    },
    {
     "data": {
      "application/vnd.jupyter.widget-view+json": {
       "model_id": "fab8711bb1374dd89805fb6f60444512",
       "version_major": 2,
       "version_minor": 0
      },
      "text/plain": [
       "0it [00:00, ?it/s]"
      ]
     },
     "metadata": {},
     "output_type": "display_data"
    },
    {
     "name": "stdout",
     "output_type": "stream",
     "text": [
      "7_partie_0429_003-Camera6_M11461\n"
     ]
    },
    {
     "data": {
      "application/vnd.jupyter.widget-view+json": {
       "model_id": "bb08123653074131ab250fc25973da9a",
       "version_major": 2,
       "version_minor": 0
      },
      "text/plain": [
       "0it [00:00, ?it/s]"
      ]
     },
     "metadata": {},
     "output_type": "display_data"
    },
    {
     "name": "stdout",
     "output_type": "stream",
     "text": [
      "7_partie_0429_003-Camera7_M11462\n"
     ]
    },
    {
     "data": {
      "application/vnd.jupyter.widget-view+json": {
       "model_id": "fbe70272eacf4d389876ce4efe3cd86f",
       "version_major": 2,
       "version_minor": 0
      },
      "text/plain": [
       "0it [00:00, ?it/s]"
      ]
     },
     "metadata": {},
     "output_type": "display_data"
    },
    {
     "name": "stdout",
     "output_type": "stream",
     "text": [
      "7_partie_0429_003-Camera8_M11463\n",
      "7_partie_0429_004-Camera1_M11139\n"
     ]
    },
    {
     "data": {
      "application/vnd.jupyter.widget-view+json": {
       "model_id": "56a0fe136e664707b0f51356e3922eb6",
       "version_major": 2,
       "version_minor": 0
      },
      "text/plain": [
       "0it [00:00, ?it/s]"
      ]
     },
     "metadata": {},
     "output_type": "display_data"
    },
    {
     "name": "stdout",
     "output_type": "stream",
     "text": [
      "7_partie_0429_004-Camera2_M11140\n"
     ]
    },
    {
     "data": {
      "application/vnd.jupyter.widget-view+json": {
       "model_id": "cee76009d3bf443f8e47216468b42b9e",
       "version_major": 2,
       "version_minor": 0
      },
      "text/plain": [
       "0it [00:00, ?it/s]"
      ]
     },
     "metadata": {},
     "output_type": "display_data"
    },
    {
     "name": "stdout",
     "output_type": "stream",
     "text": [
      "7_partie_0429_004-Camera3_M11141\n"
     ]
    },
    {
     "data": {
      "application/vnd.jupyter.widget-view+json": {
       "model_id": "3de8336ee80a4c93afc6ad3b215c073e",
       "version_major": 2,
       "version_minor": 0
      },
      "text/plain": [
       "0it [00:00, ?it/s]"
      ]
     },
     "metadata": {},
     "output_type": "display_data"
    },
    {
     "name": "stdout",
     "output_type": "stream",
     "text": [
      "7_partie_0429_004-Camera4_M11458\n"
     ]
    },
    {
     "data": {
      "application/vnd.jupyter.widget-view+json": {
       "model_id": "c5493ce8712a4b69a6a982fcd9b1398d",
       "version_major": 2,
       "version_minor": 0
      },
      "text/plain": [
       "0it [00:00, ?it/s]"
      ]
     },
     "metadata": {},
     "output_type": "display_data"
    },
    {
     "name": "stdout",
     "output_type": "stream",
     "text": [
      "7_partie_0429_004-Camera5_M11459\n"
     ]
    },
    {
     "data": {
      "application/vnd.jupyter.widget-view+json": {
       "model_id": "634d6e7f5d4740d88782808218bfc3a8",
       "version_major": 2,
       "version_minor": 0
      },
      "text/plain": [
       "0it [00:00, ?it/s]"
      ]
     },
     "metadata": {},
     "output_type": "display_data"
    },
    {
     "name": "stdout",
     "output_type": "stream",
     "text": [
      "7_partie_0429_004-Camera6_M11461\n"
     ]
    },
    {
     "data": {
      "application/vnd.jupyter.widget-view+json": {
       "model_id": "9a8f6dd0fafb42d08f5eff3ef51f17bc",
       "version_major": 2,
       "version_minor": 0
      },
      "text/plain": [
       "0it [00:00, ?it/s]"
      ]
     },
     "metadata": {},
     "output_type": "display_data"
    },
    {
     "name": "stdout",
     "output_type": "stream",
     "text": [
      "7_partie_0429_004-Camera7_M11462\n"
     ]
    },
    {
     "data": {
      "application/vnd.jupyter.widget-view+json": {
       "model_id": "e80dba03ad79474990e19238830d3861",
       "version_major": 2,
       "version_minor": 0
      },
      "text/plain": [
       "0it [00:00, ?it/s]"
      ]
     },
     "metadata": {},
     "output_type": "display_data"
    },
    {
     "name": "stdout",
     "output_type": "stream",
     "text": [
      "7_partie_0429_004-Camera8_M11463\n"
     ]
    },
    {
     "data": {
      "application/vnd.jupyter.widget-view+json": {
       "model_id": "3f4bf4d96d30408cbafaea6595ea3c04",
       "version_major": 2,
       "version_minor": 0
      },
      "text/plain": [
       "0it [00:00, ?it/s]"
      ]
     },
     "metadata": {},
     "output_type": "display_data"
    },
    {
     "name": "stdout",
     "output_type": "stream",
     "text": [
      "7_partie_0429_005-Camera1_M11139\n"
     ]
    },
    {
     "data": {
      "application/vnd.jupyter.widget-view+json": {
       "model_id": "17c32ca45a834a66ac42bb770d662477",
       "version_major": 2,
       "version_minor": 0
      },
      "text/plain": [
       "0it [00:00, ?it/s]"
      ]
     },
     "metadata": {},
     "output_type": "display_data"
    },
    {
     "name": "stdout",
     "output_type": "stream",
     "text": [
      "7_partie_0429_005-Camera2_M11140\n"
     ]
    },
    {
     "data": {
      "application/vnd.jupyter.widget-view+json": {
       "model_id": "865fe992bac0489a979d688786377b55",
       "version_major": 2,
       "version_minor": 0
      },
      "text/plain": [
       "0it [00:00, ?it/s]"
      ]
     },
     "metadata": {},
     "output_type": "display_data"
    },
    {
     "name": "stdout",
     "output_type": "stream",
     "text": [
      "7_partie_0429_005-Camera3_M11141\n"
     ]
    },
    {
     "data": {
      "application/vnd.jupyter.widget-view+json": {
       "model_id": "7a2663cf6a78409e9e4ff7618c428d39",
       "version_major": 2,
       "version_minor": 0
      },
      "text/plain": [
       "0it [00:00, ?it/s]"
      ]
     },
     "metadata": {},
     "output_type": "display_data"
    },
    {
     "name": "stdout",
     "output_type": "stream",
     "text": [
      "7_partie_0429_005-Camera4_M11458\n"
     ]
    },
    {
     "data": {
      "application/vnd.jupyter.widget-view+json": {
       "model_id": "5fbb2275177847d2aaee0bb59feb676f",
       "version_major": 2,
       "version_minor": 0
      },
      "text/plain": [
       "0it [00:00, ?it/s]"
      ]
     },
     "metadata": {},
     "output_type": "display_data"
    },
    {
     "name": "stdout",
     "output_type": "stream",
     "text": [
      "7_partie_0429_005-Camera5_M11459\n"
     ]
    },
    {
     "data": {
      "application/vnd.jupyter.widget-view+json": {
       "model_id": "604e20124eb947ae8d0bbfa13bcb7b63",
       "version_major": 2,
       "version_minor": 0
      },
      "text/plain": [
       "0it [00:00, ?it/s]"
      ]
     },
     "metadata": {},
     "output_type": "display_data"
    },
    {
     "name": "stdout",
     "output_type": "stream",
     "text": [
      "7_partie_0429_005-Camera6_M11461\n"
     ]
    },
    {
     "data": {
      "application/vnd.jupyter.widget-view+json": {
       "model_id": "c56f880806d74580af2feffb29928fd9",
       "version_major": 2,
       "version_minor": 0
      },
      "text/plain": [
       "0it [00:00, ?it/s]"
      ]
     },
     "metadata": {},
     "output_type": "display_data"
    },
    {
     "name": "stdout",
     "output_type": "stream",
     "text": [
      "7_partie_0429_005-Camera7_M11462\n"
     ]
    },
    {
     "data": {
      "application/vnd.jupyter.widget-view+json": {
       "model_id": "6ae81f1ee6414e8899da9ad14bd0ba7c",
       "version_major": 2,
       "version_minor": 0
      },
      "text/plain": [
       "0it [00:00, ?it/s]"
      ]
     },
     "metadata": {},
     "output_type": "display_data"
    },
    {
     "name": "stdout",
     "output_type": "stream",
     "text": [
      "7_partie_0429_005-Camera8_M11463\n"
     ]
    },
    {
     "data": {
      "application/vnd.jupyter.widget-view+json": {
       "model_id": "850b8d6651274584937cd0fa299c16b8",
       "version_major": 2,
       "version_minor": 0
      },
      "text/plain": [
       "0it [00:00, ?it/s]"
      ]
     },
     "metadata": {},
     "output_type": "display_data"
    },
    {
     "name": "stdout",
     "output_type": "stream",
     "text": [
      "7_partie_0429_006-Camera1_M11139\n"
     ]
    },
    {
     "data": {
      "application/vnd.jupyter.widget-view+json": {
       "model_id": "e21de45d68bb4846b2b2aeff59ace0c8",
       "version_major": 2,
       "version_minor": 0
      },
      "text/plain": [
       "0it [00:00, ?it/s]"
      ]
     },
     "metadata": {},
     "output_type": "display_data"
    },
    {
     "name": "stdout",
     "output_type": "stream",
     "text": [
      "7_partie_0429_006-Camera2_M11140\n"
     ]
    },
    {
     "data": {
      "application/vnd.jupyter.widget-view+json": {
       "model_id": "a7119bf84a314882ae85cf7040719098",
       "version_major": 2,
       "version_minor": 0
      },
      "text/plain": [
       "0it [00:00, ?it/s]"
      ]
     },
     "metadata": {},
     "output_type": "display_data"
    },
    {
     "name": "stdout",
     "output_type": "stream",
     "text": [
      "7_partie_0429_006-Camera3_M11141\n"
     ]
    },
    {
     "data": {
      "application/vnd.jupyter.widget-view+json": {
       "model_id": "b856fbadd5044c7081f59aec428b8f5f",
       "version_major": 2,
       "version_minor": 0
      },
      "text/plain": [
       "0it [00:00, ?it/s]"
      ]
     },
     "metadata": {},
     "output_type": "display_data"
    },
    {
     "name": "stdout",
     "output_type": "stream",
     "text": [
      "7_partie_0429_006-Camera4_M11458\n"
     ]
    },
    {
     "data": {
      "application/vnd.jupyter.widget-view+json": {
       "model_id": "5d666140861d46059fc954669a77e8e9",
       "version_major": 2,
       "version_minor": 0
      },
      "text/plain": [
       "0it [00:00, ?it/s]"
      ]
     },
     "metadata": {},
     "output_type": "display_data"
    },
    {
     "name": "stdout",
     "output_type": "stream",
     "text": [
      "7_partie_0429_006-Camera5_M11459\n",
      "7_partie_0429_006-Camera6_M11461\n"
     ]
    },
    {
     "data": {
      "application/vnd.jupyter.widget-view+json": {
       "model_id": "89009203520d4612a6bf2dbd16507966",
       "version_major": 2,
       "version_minor": 0
      },
      "text/plain": [
       "0it [00:00, ?it/s]"
      ]
     },
     "metadata": {},
     "output_type": "display_data"
    },
    {
     "name": "stdout",
     "output_type": "stream",
     "text": [
      "7_partie_0429_006-Camera7_M11462\n"
     ]
    },
    {
     "data": {
      "application/vnd.jupyter.widget-view+json": {
       "model_id": "5c0f0db5745b4ca79fe80cd9a60c1da3",
       "version_major": 2,
       "version_minor": 0
      },
      "text/plain": [
       "0it [00:00, ?it/s]"
      ]
     },
     "metadata": {},
     "output_type": "display_data"
    },
    {
     "name": "stdout",
     "output_type": "stream",
     "text": [
      "7_partie_0429_006-Camera8_M11463\n"
     ]
    },
    {
     "data": {
      "application/vnd.jupyter.widget-view+json": {
       "model_id": "c9a76fff7d5c4f9d86db86394407c5e6",
       "version_major": 2,
       "version_minor": 0
      },
      "text/plain": [
       "0it [00:00, ?it/s]"
      ]
     },
     "metadata": {},
     "output_type": "display_data"
    },
    {
     "name": "stdout",
     "output_type": "stream",
     "text": [
      "7_partie_0429_007-Camera1_M11139\n"
     ]
    },
    {
     "data": {
      "application/vnd.jupyter.widget-view+json": {
       "model_id": "f0da36b3c6d7405d8a139bddfff09999",
       "version_major": 2,
       "version_minor": 0
      },
      "text/plain": [
       "0it [00:00, ?it/s]"
      ]
     },
     "metadata": {},
     "output_type": "display_data"
    },
    {
     "name": "stdout",
     "output_type": "stream",
     "text": [
      "7_partie_0429_007-Camera2_M11140\n"
     ]
    },
    {
     "data": {
      "application/vnd.jupyter.widget-view+json": {
       "model_id": "7971f86bbf5c49cd8570332ed5262fcd",
       "version_major": 2,
       "version_minor": 0
      },
      "text/plain": [
       "0it [00:00, ?it/s]"
      ]
     },
     "metadata": {},
     "output_type": "display_data"
    },
    {
     "name": "stdout",
     "output_type": "stream",
     "text": [
      "7_partie_0429_007-Camera3_M11141\n"
     ]
    },
    {
     "data": {
      "application/vnd.jupyter.widget-view+json": {
       "model_id": "aa0abb33e59140f0876127d08f4c693e",
       "version_major": 2,
       "version_minor": 0
      },
      "text/plain": [
       "0it [00:00, ?it/s]"
      ]
     },
     "metadata": {},
     "output_type": "display_data"
    },
    {
     "name": "stdout",
     "output_type": "stream",
     "text": [
      "7_partie_0429_007-Camera4_M11458\n"
     ]
    },
    {
     "data": {
      "application/vnd.jupyter.widget-view+json": {
       "model_id": "19afd121b2e941d1bf2039be5a8074b8",
       "version_major": 2,
       "version_minor": 0
      },
      "text/plain": [
       "0it [00:00, ?it/s]"
      ]
     },
     "metadata": {},
     "output_type": "display_data"
    },
    {
     "name": "stdout",
     "output_type": "stream",
     "text": [
      "7_partie_0429_007-Camera5_M11459\n"
     ]
    },
    {
     "data": {
      "application/vnd.jupyter.widget-view+json": {
       "model_id": "a4c82449761045e2aca78d56cdbc0fba",
       "version_major": 2,
       "version_minor": 0
      },
      "text/plain": [
       "0it [00:00, ?it/s]"
      ]
     },
     "metadata": {},
     "output_type": "display_data"
    },
    {
     "name": "stdout",
     "output_type": "stream",
     "text": [
      "7_partie_0429_007-Camera6_M11461\n"
     ]
    },
    {
     "data": {
      "application/vnd.jupyter.widget-view+json": {
       "model_id": "e012e11c7c3049f8a6f3a9887c3c16bd",
       "version_major": 2,
       "version_minor": 0
      },
      "text/plain": [
       "0it [00:00, ?it/s]"
      ]
     },
     "metadata": {},
     "output_type": "display_data"
    },
    {
     "name": "stdout",
     "output_type": "stream",
     "text": [
      "7_partie_0429_007-Camera7_M11462\n"
     ]
    },
    {
     "data": {
      "application/vnd.jupyter.widget-view+json": {
       "model_id": "f372e0d6c59042cfb4448caefc7ab9e9",
       "version_major": 2,
       "version_minor": 0
      },
      "text/plain": [
       "0it [00:00, ?it/s]"
      ]
     },
     "metadata": {},
     "output_type": "display_data"
    },
    {
     "name": "stdout",
     "output_type": "stream",
     "text": [
      "7_partie_0429_007-Camera8_M11463\n"
     ]
    },
    {
     "data": {
      "application/vnd.jupyter.widget-view+json": {
       "model_id": "0e69684cab4a4016b57496524fb0e9a3",
       "version_major": 2,
       "version_minor": 0
      },
      "text/plain": [
       "0it [00:00, ?it/s]"
      ]
     },
     "metadata": {},
     "output_type": "display_data"
    },
    {
     "name": "stdout",
     "output_type": "stream",
     "text": [
      "7_partie_0429_008-Camera1_M11139\n"
     ]
    },
    {
     "data": {
      "application/vnd.jupyter.widget-view+json": {
       "model_id": "82f457d109ed4498a4c9b19458c690db",
       "version_major": 2,
       "version_minor": 0
      },
      "text/plain": [
       "0it [00:00, ?it/s]"
      ]
     },
     "metadata": {},
     "output_type": "display_data"
    },
    {
     "name": "stdout",
     "output_type": "stream",
     "text": [
      "7_partie_0429_008-Camera2_M11140\n"
     ]
    },
    {
     "data": {
      "application/vnd.jupyter.widget-view+json": {
       "model_id": "c246a646c2624018abbb9d60cabb5921",
       "version_major": 2,
       "version_minor": 0
      },
      "text/plain": [
       "0it [00:00, ?it/s]"
      ]
     },
     "metadata": {},
     "output_type": "display_data"
    },
    {
     "name": "stdout",
     "output_type": "stream",
     "text": [
      "7_partie_0429_008-Camera3_M11141\n"
     ]
    },
    {
     "data": {
      "application/vnd.jupyter.widget-view+json": {
       "model_id": "3016dc1e2fc04549a9fdfdcdba55cb16",
       "version_major": 2,
       "version_minor": 0
      },
      "text/plain": [
       "0it [00:00, ?it/s]"
      ]
     },
     "metadata": {},
     "output_type": "display_data"
    },
    {
     "name": "stdout",
     "output_type": "stream",
     "text": [
      "7_partie_0429_008-Camera4_M11458\n"
     ]
    },
    {
     "data": {
      "application/vnd.jupyter.widget-view+json": {
       "model_id": "8b246ed48c0f4f558de46fbc62fedd88",
       "version_major": 2,
       "version_minor": 0
      },
      "text/plain": [
       "0it [00:00, ?it/s]"
      ]
     },
     "metadata": {},
     "output_type": "display_data"
    },
    {
     "name": "stdout",
     "output_type": "stream",
     "text": [
      "7_partie_0429_008-Camera5_M11459\n"
     ]
    },
    {
     "data": {
      "application/vnd.jupyter.widget-view+json": {
       "model_id": "a80b8cd388d546c695c6e985c7e0ade9",
       "version_major": 2,
       "version_minor": 0
      },
      "text/plain": [
       "0it [00:00, ?it/s]"
      ]
     },
     "metadata": {},
     "output_type": "display_data"
    },
    {
     "name": "stdout",
     "output_type": "stream",
     "text": [
      "7_partie_0429_008-Camera6_M11461\n"
     ]
    },
    {
     "data": {
      "application/vnd.jupyter.widget-view+json": {
       "model_id": "ee4a1c04ad2f4d0db2a0da17ed10b3e4",
       "version_major": 2,
       "version_minor": 0
      },
      "text/plain": [
       "0it [00:00, ?it/s]"
      ]
     },
     "metadata": {},
     "output_type": "display_data"
    },
    {
     "name": "stdout",
     "output_type": "stream",
     "text": [
      "7_partie_0429_008-Camera7_M11462\n"
     ]
    },
    {
     "data": {
      "application/vnd.jupyter.widget-view+json": {
       "model_id": "bc0ed22dd1e745e9b58b68dafa2ae308",
       "version_major": 2,
       "version_minor": 0
      },
      "text/plain": [
       "0it [00:00, ?it/s]"
      ]
     },
     "metadata": {},
     "output_type": "display_data"
    },
    {
     "name": "stdout",
     "output_type": "stream",
     "text": [
      "7_partie_0429_008-Camera8_M11463\n"
     ]
    },
    {
     "data": {
      "application/vnd.jupyter.widget-view+json": {
       "model_id": "ab00d183e9d242cf99ee2c13d71d0158",
       "version_major": 2,
       "version_minor": 0
      },
      "text/plain": [
       "0it [00:00, ?it/s]"
      ]
     },
     "metadata": {},
     "output_type": "display_data"
    },
    {
     "name": "stdout",
     "output_type": "stream",
     "text": [
      "7_partie_0429_009-Camera1_M11139\n"
     ]
    },
    {
     "data": {
      "application/vnd.jupyter.widget-view+json": {
       "model_id": "9fce90e88de945ea9d1e6a73d7b2879d",
       "version_major": 2,
       "version_minor": 0
      },
      "text/plain": [
       "0it [00:00, ?it/s]"
      ]
     },
     "metadata": {},
     "output_type": "display_data"
    },
    {
     "name": "stdout",
     "output_type": "stream",
     "text": [
      "7_partie_0429_009-Camera2_M11140\n",
      "7_partie_0429_009-Camera3_M11141\n"
     ]
    },
    {
     "data": {
      "application/vnd.jupyter.widget-view+json": {
       "model_id": "6cd1b837dbeb4f27b73f82b8bd35fb20",
       "version_major": 2,
       "version_minor": 0
      },
      "text/plain": [
       "0it [00:00, ?it/s]"
      ]
     },
     "metadata": {},
     "output_type": "display_data"
    },
    {
     "name": "stdout",
     "output_type": "stream",
     "text": [
      "7_partie_0429_009-Camera4_M11458\n"
     ]
    },
    {
     "data": {
      "application/vnd.jupyter.widget-view+json": {
       "model_id": "69b2127b9fe54c2a884a9b80a1972c2d",
       "version_major": 2,
       "version_minor": 0
      },
      "text/plain": [
       "0it [00:00, ?it/s]"
      ]
     },
     "metadata": {},
     "output_type": "display_data"
    },
    {
     "name": "stdout",
     "output_type": "stream",
     "text": [
      "7_partie_0429_009-Camera5_M11459\n"
     ]
    },
    {
     "data": {
      "application/vnd.jupyter.widget-view+json": {
       "model_id": "f7cd4cc7592f4cb796f0f5a65be97849",
       "version_major": 2,
       "version_minor": 0
      },
      "text/plain": [
       "0it [00:00, ?it/s]"
      ]
     },
     "metadata": {},
     "output_type": "display_data"
    },
    {
     "name": "stdout",
     "output_type": "stream",
     "text": [
      "7_partie_0429_009-Camera6_M11461\n"
     ]
    },
    {
     "data": {
      "application/vnd.jupyter.widget-view+json": {
       "model_id": "22264f1e13124b9fa33de3c39a923373",
       "version_major": 2,
       "version_minor": 0
      },
      "text/plain": [
       "0it [00:00, ?it/s]"
      ]
     },
     "metadata": {},
     "output_type": "display_data"
    },
    {
     "name": "stdout",
     "output_type": "stream",
     "text": [
      "7_partie_0429_009-Camera7_M11462\n"
     ]
    },
    {
     "data": {
      "application/vnd.jupyter.widget-view+json": {
       "model_id": "7389cb7e06834ce48db9c523b8daf053",
       "version_major": 2,
       "version_minor": 0
      },
      "text/plain": [
       "0it [00:00, ?it/s]"
      ]
     },
     "metadata": {},
     "output_type": "display_data"
    },
    {
     "name": "stdout",
     "output_type": "stream",
     "text": [
      "7_partie_0429_009-Camera8_M11463\n"
     ]
    },
    {
     "data": {
      "application/vnd.jupyter.widget-view+json": {
       "model_id": "e5472186b2264d2ebfc045c5dcdb986c",
       "version_major": 2,
       "version_minor": 0
      },
      "text/plain": [
       "0it [00:00, ?it/s]"
      ]
     },
     "metadata": {},
     "output_type": "display_data"
    },
    {
     "name": "stdout",
     "output_type": "stream",
     "text": [
      "7_partie_0429_010-Camera1_M11139\n"
     ]
    },
    {
     "data": {
      "application/vnd.jupyter.widget-view+json": {
       "model_id": "e10c4541929b4779a6384139eacd7072",
       "version_major": 2,
       "version_minor": 0
      },
      "text/plain": [
       "0it [00:00, ?it/s]"
      ]
     },
     "metadata": {},
     "output_type": "display_data"
    },
    {
     "name": "stdout",
     "output_type": "stream",
     "text": [
      "7_partie_0429_010-Camera2_M11140\n"
     ]
    },
    {
     "data": {
      "application/vnd.jupyter.widget-view+json": {
       "model_id": "960e50268ed94de78d61a95754b165a0",
       "version_major": 2,
       "version_minor": 0
      },
      "text/plain": [
       "0it [00:00, ?it/s]"
      ]
     },
     "metadata": {},
     "output_type": "display_data"
    },
    {
     "name": "stdout",
     "output_type": "stream",
     "text": [
      "7_partie_0429_010-Camera3_M11141\n"
     ]
    },
    {
     "data": {
      "application/vnd.jupyter.widget-view+json": {
       "model_id": "4f86d77b408147d4a1c3c7d95c3ad46f",
       "version_major": 2,
       "version_minor": 0
      },
      "text/plain": [
       "0it [00:00, ?it/s]"
      ]
     },
     "metadata": {},
     "output_type": "display_data"
    },
    {
     "name": "stdout",
     "output_type": "stream",
     "text": [
      "7_partie_0429_010-Camera4_M11458\n"
     ]
    },
    {
     "data": {
      "application/vnd.jupyter.widget-view+json": {
       "model_id": "b335d7e468ce4ec7921f3cd6afcab980",
       "version_major": 2,
       "version_minor": 0
      },
      "text/plain": [
       "0it [00:00, ?it/s]"
      ]
     },
     "metadata": {},
     "output_type": "display_data"
    },
    {
     "name": "stdout",
     "output_type": "stream",
     "text": [
      "7_partie_0429_010-Camera5_M11459\n"
     ]
    },
    {
     "data": {
      "application/vnd.jupyter.widget-view+json": {
       "model_id": "53a8bed9d9b74cbe9e57c7ba3b87c6ef",
       "version_major": 2,
       "version_minor": 0
      },
      "text/plain": [
       "0it [00:00, ?it/s]"
      ]
     },
     "metadata": {},
     "output_type": "display_data"
    },
    {
     "name": "stdout",
     "output_type": "stream",
     "text": [
      "7_partie_0429_010-Camera6_M11461\n"
     ]
    },
    {
     "data": {
      "application/vnd.jupyter.widget-view+json": {
       "model_id": "7c330391f8c74f7c8412d6f19202ff94",
       "version_major": 2,
       "version_minor": 0
      },
      "text/plain": [
       "0it [00:00, ?it/s]"
      ]
     },
     "metadata": {},
     "output_type": "display_data"
    },
    {
     "name": "stdout",
     "output_type": "stream",
     "text": [
      "7_partie_0429_010-Camera7_M11462\n"
     ]
    },
    {
     "data": {
      "application/vnd.jupyter.widget-view+json": {
       "model_id": "5288c7f794c547f98025deb16bcdc9a5",
       "version_major": 2,
       "version_minor": 0
      },
      "text/plain": [
       "0it [00:00, ?it/s]"
      ]
     },
     "metadata": {},
     "output_type": "display_data"
    },
    {
     "name": "stdout",
     "output_type": "stream",
     "text": [
      "7_partie_0429_010-Camera8_M11463\n"
     ]
    },
    {
     "data": {
      "application/vnd.jupyter.widget-view+json": {
       "model_id": "691e73636bcf444884c47caf7889b1c2",
       "version_major": 2,
       "version_minor": 0
      },
      "text/plain": [
       "0it [00:00, ?it/s]"
      ]
     },
     "metadata": {},
     "output_type": "display_data"
    },
    {
     "name": "stdout",
     "output_type": "stream",
     "text": [
      "7_partie_0429_011-Camera1_M11139\n"
     ]
    },
    {
     "data": {
      "application/vnd.jupyter.widget-view+json": {
       "model_id": "b7cf56a60905424ba42f40b8c4d3f448",
       "version_major": 2,
       "version_minor": 0
      },
      "text/plain": [
       "0it [00:00, ?it/s]"
      ]
     },
     "metadata": {},
     "output_type": "display_data"
    },
    {
     "name": "stdout",
     "output_type": "stream",
     "text": [
      "7_partie_0429_011-Camera2_M11140\n"
     ]
    },
    {
     "data": {
      "application/vnd.jupyter.widget-view+json": {
       "model_id": "435d6a75b6e94bd9947f4b30742a4717",
       "version_major": 2,
       "version_minor": 0
      },
      "text/plain": [
       "0it [00:00, ?it/s]"
      ]
     },
     "metadata": {},
     "output_type": "display_data"
    },
    {
     "name": "stdout",
     "output_type": "stream",
     "text": [
      "7_partie_0429_011-Camera3_M11141\n"
     ]
    },
    {
     "data": {
      "application/vnd.jupyter.widget-view+json": {
       "model_id": "0da9348521494b0b990da7a46b27f9a3",
       "version_major": 2,
       "version_minor": 0
      },
      "text/plain": [
       "0it [00:00, ?it/s]"
      ]
     },
     "metadata": {},
     "output_type": "display_data"
    },
    {
     "name": "stdout",
     "output_type": "stream",
     "text": [
      "7_partie_0429_011-Camera4_M11458\n"
     ]
    },
    {
     "data": {
      "application/vnd.jupyter.widget-view+json": {
       "model_id": "646b917486084901b8bae185d6ae3e31",
       "version_major": 2,
       "version_minor": 0
      },
      "text/plain": [
       "0it [00:00, ?it/s]"
      ]
     },
     "metadata": {},
     "output_type": "display_data"
    },
    {
     "name": "stdout",
     "output_type": "stream",
     "text": [
      "7_partie_0429_011-Camera5_M11459\n"
     ]
    },
    {
     "data": {
      "application/vnd.jupyter.widget-view+json": {
       "model_id": "f84caec85c5442de88d48c14db76a3c9",
       "version_major": 2,
       "version_minor": 0
      },
      "text/plain": [
       "0it [00:00, ?it/s]"
      ]
     },
     "metadata": {},
     "output_type": "display_data"
    },
    {
     "name": "stdout",
     "output_type": "stream",
     "text": [
      "7_partie_0429_011-Camera6_M11461\n"
     ]
    },
    {
     "data": {
      "application/vnd.jupyter.widget-view+json": {
       "model_id": "98f4e8e2402e4559987ab373475b4f0e",
       "version_major": 2,
       "version_minor": 0
      },
      "text/plain": [
       "0it [00:00, ?it/s]"
      ]
     },
     "metadata": {},
     "output_type": "display_data"
    },
    {
     "name": "stdout",
     "output_type": "stream",
     "text": [
      "7_partie_0429_011-Camera7_M11462\n",
      "7_partie_0429_011-Camera8_M11463\n"
     ]
    },
    {
     "data": {
      "application/vnd.jupyter.widget-view+json": {
       "model_id": "cf228596e1ec478ca2a6c81de5eaf5e8",
       "version_major": 2,
       "version_minor": 0
      },
      "text/plain": [
       "0it [00:00, ?it/s]"
      ]
     },
     "metadata": {},
     "output_type": "display_data"
    },
    {
     "name": "stdout",
     "output_type": "stream",
     "text": [
      "7_partie_0429_012-Camera1_M11139\n"
     ]
    },
    {
     "data": {
      "application/vnd.jupyter.widget-view+json": {
       "model_id": "12cd2cae91dc4d088de3d6054d1ecaea",
       "version_major": 2,
       "version_minor": 0
      },
      "text/plain": [
       "0it [00:00, ?it/s]"
      ]
     },
     "metadata": {},
     "output_type": "display_data"
    },
    {
     "name": "stdout",
     "output_type": "stream",
     "text": [
      "7_partie_0429_012-Camera2_M11140\n"
     ]
    },
    {
     "data": {
      "application/vnd.jupyter.widget-view+json": {
       "model_id": "72c354b82bfb4b92a68bde9a0d5d1b51",
       "version_major": 2,
       "version_minor": 0
      },
      "text/plain": [
       "0it [00:00, ?it/s]"
      ]
     },
     "metadata": {},
     "output_type": "display_data"
    },
    {
     "name": "stdout",
     "output_type": "stream",
     "text": [
      "7_partie_0429_012-Camera3_M11141\n"
     ]
    },
    {
     "data": {
      "application/vnd.jupyter.widget-view+json": {
       "model_id": "65aad9d7c0b0476f8524db85bfe5fb73",
       "version_major": 2,
       "version_minor": 0
      },
      "text/plain": [
       "0it [00:00, ?it/s]"
      ]
     },
     "metadata": {},
     "output_type": "display_data"
    },
    {
     "name": "stdout",
     "output_type": "stream",
     "text": [
      "7_partie_0429_012-Camera4_M11458\n"
     ]
    },
    {
     "data": {
      "application/vnd.jupyter.widget-view+json": {
       "model_id": "762d6ffa6ea942d4a40a5a339c82ec61",
       "version_major": 2,
       "version_minor": 0
      },
      "text/plain": [
       "0it [00:00, ?it/s]"
      ]
     },
     "metadata": {},
     "output_type": "display_data"
    },
    {
     "name": "stdout",
     "output_type": "stream",
     "text": [
      "7_partie_0429_012-Camera5_M11459\n"
     ]
    },
    {
     "data": {
      "application/vnd.jupyter.widget-view+json": {
       "model_id": "d7876fb290f0477b807c8dbf1ebff1c7",
       "version_major": 2,
       "version_minor": 0
      },
      "text/plain": [
       "0it [00:00, ?it/s]"
      ]
     },
     "metadata": {},
     "output_type": "display_data"
    },
    {
     "name": "stdout",
     "output_type": "stream",
     "text": [
      "7_partie_0429_012-Camera6_M11461\n"
     ]
    },
    {
     "data": {
      "application/vnd.jupyter.widget-view+json": {
       "model_id": "fda943d12ed1413887298a4217cf5bd1",
       "version_major": 2,
       "version_minor": 0
      },
      "text/plain": [
       "0it [00:00, ?it/s]"
      ]
     },
     "metadata": {},
     "output_type": "display_data"
    },
    {
     "name": "stdout",
     "output_type": "stream",
     "text": [
      "7_partie_0429_012-Camera7_M11462\n"
     ]
    },
    {
     "data": {
      "application/vnd.jupyter.widget-view+json": {
       "model_id": "e3b75f5406384ea9ac523585fdb3f946",
       "version_major": 2,
       "version_minor": 0
      },
      "text/plain": [
       "0it [00:00, ?it/s]"
      ]
     },
     "metadata": {},
     "output_type": "display_data"
    },
    {
     "name": "stdout",
     "output_type": "stream",
     "text": [
      "7_partie_0429_012-Camera8_M11463\n"
     ]
    },
    {
     "data": {
      "application/vnd.jupyter.widget-view+json": {
       "model_id": "5ddb6594444d4e40b61b3d6347dd3646",
       "version_major": 2,
       "version_minor": 0
      },
      "text/plain": [
       "0it [00:00, ?it/s]"
      ]
     },
     "metadata": {},
     "output_type": "display_data"
    },
    {
     "name": "stdout",
     "output_type": "stream",
     "text": [
      "7_partie_0429_013-Camera1_M11139\n"
     ]
    },
    {
     "data": {
      "application/vnd.jupyter.widget-view+json": {
       "model_id": "4cc6b50f21dd47fcbf6b55b2f45fdb56",
       "version_major": 2,
       "version_minor": 0
      },
      "text/plain": [
       "0it [00:00, ?it/s]"
      ]
     },
     "metadata": {},
     "output_type": "display_data"
    },
    {
     "name": "stdout",
     "output_type": "stream",
     "text": [
      "7_partie_0429_013-Camera2_M11140\n"
     ]
    },
    {
     "data": {
      "application/vnd.jupyter.widget-view+json": {
       "model_id": "b7b4fe20c55447c9908bf8f0fc558d20",
       "version_major": 2,
       "version_minor": 0
      },
      "text/plain": [
       "0it [00:00, ?it/s]"
      ]
     },
     "metadata": {},
     "output_type": "display_data"
    },
    {
     "name": "stdout",
     "output_type": "stream",
     "text": [
      "7_partie_0429_013-Camera3_M11141\n"
     ]
    },
    {
     "data": {
      "application/vnd.jupyter.widget-view+json": {
       "model_id": "1cee34c0686f4d1482b7bfef89956ea2",
       "version_major": 2,
       "version_minor": 0
      },
      "text/plain": [
       "0it [00:00, ?it/s]"
      ]
     },
     "metadata": {},
     "output_type": "display_data"
    },
    {
     "name": "stdout",
     "output_type": "stream",
     "text": [
      "7_partie_0429_013-Camera4_M11458\n",
      "7_partie_0429_013-Camera5_M11459\n"
     ]
    },
    {
     "data": {
      "application/vnd.jupyter.widget-view+json": {
       "model_id": "b0595e9d5e344572936a0ae43d16b825",
       "version_major": 2,
       "version_minor": 0
      },
      "text/plain": [
       "0it [00:00, ?it/s]"
      ]
     },
     "metadata": {},
     "output_type": "display_data"
    },
    {
     "name": "stdout",
     "output_type": "stream",
     "text": [
      "7_partie_0429_013-Camera6_M11461\n"
     ]
    },
    {
     "data": {
      "application/vnd.jupyter.widget-view+json": {
       "model_id": "0363b6cf79e441a7802e74343ce4c164",
       "version_major": 2,
       "version_minor": 0
      },
      "text/plain": [
       "0it [00:00, ?it/s]"
      ]
     },
     "metadata": {},
     "output_type": "display_data"
    },
    {
     "name": "stdout",
     "output_type": "stream",
     "text": [
      "7_partie_0429_013-Camera7_M11462\n"
     ]
    },
    {
     "data": {
      "application/vnd.jupyter.widget-view+json": {
       "model_id": "e6bf082681484c179cb5d6c6e33d778b",
       "version_major": 2,
       "version_minor": 0
      },
      "text/plain": [
       "0it [00:00, ?it/s]"
      ]
     },
     "metadata": {},
     "output_type": "display_data"
    },
    {
     "name": "stdout",
     "output_type": "stream",
     "text": [
      "7_partie_0429_013-Camera8_M11463\n"
     ]
    },
    {
     "data": {
      "application/vnd.jupyter.widget-view+json": {
       "model_id": "475be5e5eae14206a0a0bb536011b5e3",
       "version_major": 2,
       "version_minor": 0
      },
      "text/plain": [
       "0it [00:00, ?it/s]"
      ]
     },
     "metadata": {},
     "output_type": "display_data"
    },
    {
     "name": "stdout",
     "output_type": "stream",
     "text": [
      "7_partie_0429_014-Camera1_M11139\n"
     ]
    },
    {
     "data": {
      "application/vnd.jupyter.widget-view+json": {
       "model_id": "23877e65ba324f52b27abf008c3254bd",
       "version_major": 2,
       "version_minor": 0
      },
      "text/plain": [
       "0it [00:00, ?it/s]"
      ]
     },
     "metadata": {},
     "output_type": "display_data"
    },
    {
     "name": "stdout",
     "output_type": "stream",
     "text": [
      "7_partie_0429_014-Camera2_M11140\n"
     ]
    },
    {
     "data": {
      "application/vnd.jupyter.widget-view+json": {
       "model_id": "960297d6a5584dceadec821bd2bdd443",
       "version_major": 2,
       "version_minor": 0
      },
      "text/plain": [
       "0it [00:00, ?it/s]"
      ]
     },
     "metadata": {},
     "output_type": "display_data"
    },
    {
     "name": "stdout",
     "output_type": "stream",
     "text": [
      "7_partie_0429_014-Camera3_M11141\n"
     ]
    },
    {
     "data": {
      "application/vnd.jupyter.widget-view+json": {
       "model_id": "bf7787ca0ccf4c828d574372d6267dde",
       "version_major": 2,
       "version_minor": 0
      },
      "text/plain": [
       "0it [00:00, ?it/s]"
      ]
     },
     "metadata": {},
     "output_type": "display_data"
    },
    {
     "name": "stdout",
     "output_type": "stream",
     "text": [
      "7_partie_0429_014-Camera4_M11458\n"
     ]
    },
    {
     "data": {
      "application/vnd.jupyter.widget-view+json": {
       "model_id": "78cbd6bbf1ff4997abac541bfcc104ba",
       "version_major": 2,
       "version_minor": 0
      },
      "text/plain": [
       "0it [00:00, ?it/s]"
      ]
     },
     "metadata": {},
     "output_type": "display_data"
    },
    {
     "name": "stdout",
     "output_type": "stream",
     "text": [
      "7_partie_0429_014-Camera5_M11459\n"
     ]
    },
    {
     "data": {
      "application/vnd.jupyter.widget-view+json": {
       "model_id": "1dee15d16a83458cb790b0660f96f760",
       "version_major": 2,
       "version_minor": 0
      },
      "text/plain": [
       "0it [00:00, ?it/s]"
      ]
     },
     "metadata": {},
     "output_type": "display_data"
    },
    {
     "name": "stdout",
     "output_type": "stream",
     "text": [
      "7_partie_0429_014-Camera6_M11461\n"
     ]
    },
    {
     "data": {
      "application/vnd.jupyter.widget-view+json": {
       "model_id": "052651c1904d453f9ed2e3dd0687089f",
       "version_major": 2,
       "version_minor": 0
      },
      "text/plain": [
       "0it [00:00, ?it/s]"
      ]
     },
     "metadata": {},
     "output_type": "display_data"
    },
    {
     "name": "stdout",
     "output_type": "stream",
     "text": [
      "7_partie_0429_014-Camera7_M11462\n"
     ]
    },
    {
     "data": {
      "application/vnd.jupyter.widget-view+json": {
       "model_id": "1372529e42db44c3a260ce257b38c9d0",
       "version_major": 2,
       "version_minor": 0
      },
      "text/plain": [
       "0it [00:00, ?it/s]"
      ]
     },
     "metadata": {},
     "output_type": "display_data"
    },
    {
     "name": "stdout",
     "output_type": "stream",
     "text": [
      "7_partie_0429_014-Camera8_M11463\n"
     ]
    },
    {
     "data": {
      "application/vnd.jupyter.widget-view+json": {
       "model_id": "63118e454a78450ab5b0b77cd3391b10",
       "version_major": 2,
       "version_minor": 0
      },
      "text/plain": [
       "0it [00:00, ?it/s]"
      ]
     },
     "metadata": {},
     "output_type": "display_data"
    },
    {
     "name": "stdout",
     "output_type": "stream",
     "text": [
      "7_partie_0429_015-Camera1_M11139\n",
      "7_partie_0429_015-Camera2_M11140\n",
      "7_partie_0429_015-Camera3_M11141\n",
      "7_partie_0429_015-Camera4_M11458\n",
      "7_partie_0429_015-Camera5_M11459\n",
      "7_partie_0429_015-Camera6_M11461\n",
      "7_partie_0429_015-Camera7_M11462\n",
      "7_partie_0429_015-Camera8_M11463\n",
      "7_partie_0429_016-Camera1_M11139\n",
      "7_partie_0429_016-Camera2_M11140\n",
      "7_partie_0429_016-Camera3_M11141\n",
      "7_partie_0429_016-Camera4_M11458\n",
      "7_partie_0429_016-Camera5_M11459\n",
      "7_partie_0429_016-Camera6_M11461\n",
      "7_partie_0429_016-Camera7_M11462\n",
      "7_partie_0429_016-Camera8_M11463\n"
     ]
    }
   ],
   "source": [
    "path_root = \"/mnt/D494C4CF94C4B4F0/Trampoline_avril2025/Images_trampo_avril2025/20250429\"\n",
    "out_root = path_root + \"_vitL\"\n",
    "keypoint_path = path_root+ \"_keypts\"\n",
    "pose_dir = path_root + \"_pose\"\n",
    "\n",
    "os.makedirs(out_root, exist_ok=True)\n",
    "#os.makedirs(keypoint_path, exist_ok=True)\n",
    "os.makedirs(pose_dir, exist_ok=True)\n",
    "\n",
    "files = os.listdir(path_root)\n",
    "sorted_files = sorted(files)\n",
    "\n",
    "for i in tqdm(sorted_files):\n",
    "    print(i)\n",
    "    if i + '_vis' not in os.listdir(out_root):\n",
    "        img_name = os.path.join(path_root, i)\n",
    "        out_img_root = os.path.join(out_root, i + '_vis')\n",
    "        frame_names = os.listdir(img_name)\n",
    "        frame_names.sort(key=lambda x: int(x.split('.')[0].split('_')[1]))\n",
    "        \n",
    "        drawn_frames = run_rotate(img_name, frame_names, out_img_root, keypoint_path+'/'+i+'.pkl', pose_dir)\n",
    "        #convert_to_video(drawn_frames, out_img_root, img_name)"
   ]
  }
 ],
 "metadata": {
  "kernelspec": {
   "display_name": "vitpose",
   "language": "python",
   "name": "python3"
  },
  "language_info": {
   "codemirror_mode": {
    "name": "ipython",
    "version": 3
   },
   "file_extension": ".py",
   "mimetype": "text/x-python",
   "name": "python",
   "nbconvert_exporter": "python",
   "pygments_lexer": "ipython3",
   "version": "3.8.20"
  }
 },
 "nbformat": 4,
 "nbformat_minor": 2
}
