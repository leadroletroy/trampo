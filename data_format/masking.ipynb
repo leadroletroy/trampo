{
 "cells": [
  {
   "cell_type": "markdown",
   "id": "c360feb1",
   "metadata": {},
   "source": [
    "### Prototype pour masquer 1 trampo / 2 dans les séquences à 2 athlètes"
   ]
  },
  {
   "cell_type": "code",
   "execution_count": null,
   "id": "4a6c9498",
   "metadata": {
    "vscode": {
     "languageId": "plaintext"
    }
   },
   "outputs": [],
   "source": []
  },
  {
   "cell_type": "code",
   "execution_count": null,
   "id": "40851323",
   "metadata": {
    "vscode": {
     "languageId": "plaintext"
    }
   },
   "outputs": [],
   "source": []
  }
 ],
 "metadata": {
  "language_info": {
   "name": "python"
  }
 },
 "nbformat": 4,
 "nbformat_minor": 5
}
