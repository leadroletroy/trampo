{
 "cells": [
  {
   "cell_type": "markdown",
   "id": "6a2203fc",
   "metadata": {},
   "source": []
  },
  {
   "cell_type": "code",
   "execution_count": 3,
   "id": "f4333594",
   "metadata": {},
   "outputs": [],
   "source": [
    "import numpy as np\n",
    "\n",
    "np.set_printoptions(precision=4, suppress=True)"
   ]
  },
  {
   "cell_type": "code",
   "execution_count": 7,
   "id": "de8389a0",
   "metadata": {},
   "outputs": [
    {
     "name": "stdout",
     "output_type": "stream",
     "text": [
      "[[    0.9386    -0.1866     0.2902 -1460.2304]\n",
      " [   -0.0991     0.6598     0.7448 -6434.0746]\n",
      " [   -0.3305    -0.7279     0.6008   600.2863]\n",
      " [    0.         0.         0.         1.    ]]\n",
      "[[   0.9386   -0.0991   -0.3305  931.5866]\n",
      " [  -0.1866    0.6598   -0.7279 4409.8595]\n",
      " [   0.2902    0.7448    0.6008 4855.4318]\n",
      " [   0.        0.        0.        1.    ]]\n",
      "[[   0.9386   -0.0991   -0.3305  931.5866]\n",
      " [  -0.1866    0.6598   -0.7279 4409.8595]\n",
      " [   0.2902    0.7448    0.6008 4855.4318]\n",
      " [   0.        0.        0.        1.    ]]\n"
     ]
    }
   ],
   "source": [
    "T = np.load('/mnt/D494C4CF94C4B4F0/Trampoline_avril2025/Calib_trampo_avril2025/results_calib/calib_0429/WorldTCam_opt.npz')['arr_0']\n",
    "\n",
    "#print(T)\n",
    "T12 = np.linalg.inv(T[0]) @ T[2]\n",
    "T21 = np.linalg.inv(T[2]) @ T[0]\n",
    "\n",
    "print(T12)\n",
    "print(np.linalg.inv(T12))\n",
    "print(T21)\n",
    "\n",
    "\n",
    "# FORMULA: 1T2 = inv(T1) @ T2"
   ]
  }
 ],
 "metadata": {
  "kernelspec": {
   "display_name": "vitpose",
   "language": "python",
   "name": "python3"
  },
  "language_info": {
   "codemirror_mode": {
    "name": "ipython",
    "version": 3
   },
   "file_extension": ".py",
   "mimetype": "text/x-python",
   "name": "python",
   "nbconvert_exporter": "python",
   "pygments_lexer": "ipython3",
   "version": "3.8.20"
  }
 },
 "nbformat": 4,
 "nbformat_minor": 5
}
