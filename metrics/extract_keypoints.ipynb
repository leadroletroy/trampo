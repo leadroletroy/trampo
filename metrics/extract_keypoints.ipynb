{
 "cells": [
  {
   "cell_type": "markdown",
   "id": "feed4375",
   "metadata": {},
   "source": [
    "## Notebook to extract and save 4DHumans keypoints (2D + 3D) as pickle file"
   ]
  },
  {
   "cell_type": "code",
   "execution_count": null,
   "id": "daa569e1",
   "metadata": {},
   "outputs": [],
   "source": [
    "import numpy as np\n",
    "import os\n",
    "import joblib\n",
    "import pickle"
   ]
  },
  {
   "cell_type": "code",
   "execution_count": null,
   "id": "ba8f0cea",
   "metadata": {},
   "outputs": [],
   "source": [
    "def project(joints_3d, cam_trans, size):\n",
    "    \"\"\"\n",
    "    Takes 3D keypoints and return 2D image coordinates\n",
    "    \"\"\"\n",
    "    f = 5000\n",
    "    K = np.array([[f/256, 0, 0],\n",
    "                [0, f/256, 0],\n",
    "                [0, 0, 1]])\n",
    "    R = np.eye(3)\n",
    "\n",
    "    points = joints_3d + cam_trans # (4,3)\n",
    "\n",
    "    proj = (K @ R @ points.T).T # (4,3)\n",
    "    proj_norm = proj[:,:2] / proj[:,2].reshape(-1,1)\n",
    "    proj_im = proj_norm * max(size)\n",
    "    proj_im += np.array(size[::-1])/2\n",
    "    return proj_im\n"
   ]
  },
  {
   "cell_type": "code",
   "execution_count": null,
   "id": "209ee984",
   "metadata": {},
   "outputs": [],
   "source": [
    "path = '/home/lea/trampo/4DHumans/outputs/results' # Path to model outputs .pkl\n",
    "\n",
    "for file in sorted(os.listdir(path)):\n",
    "    all_keypoints = {}\n",
    "    keypoint_pkl_path = None\n",
    "\n",
    "    results = joblib.load(os.path.join(path, file))\n",
    "\n",
    "    # Output setup\n",
    "    json_output_dir = os.path.join('Keypoints', file.replace('demo_', '').split('.')[0] + '_json')\n",
    "    pkl_output_dir = 'Keypoints'\n",
    "\n",
    "    # Loop on all frames\n",
    "    for frame in results: #['outputs//_DEMO/1_partie_0429-Camera1_M11139/img/000032.jpg']\n",
    "        frame_res = results[frame]\n",
    "        if len(frame_res['smpl']) == 0:\n",
    "            continue\n",
    "\n",
    "        keypoints = []\n",
    "        keypoints_per_frame = []\n",
    "        # Loop on detected ids\n",
    "        for i, output in enumerate(frame_res['smpl']):\n",
    "            try:\n",
    "                id = frame_res['tracked_ids'][i]\n",
    "            except IndexError:\n",
    "                id = -1\n",
    "            \n",
    "            bbox = frame_res['bbox'][i]\n",
    "            conf = frame_res['conf'][i]\n",
    "            conf = np.ones((45,1)) * conf\n",
    "\n",
    "            size = frame_res['size'][i]\n",
    "            cam_trans = frame_res['camera'][i]\n",
    "\n",
    "            joints_3d = frame_res['3d_joints'][i]           # Original 3D keypoints\n",
    "            pts2d = project(joints_3d, cam_trans, size)     # Projected 3D keypoints -> 2D keypoints\n",
    "\n",
    "            keypoints = np.hstack((pts2d, conf))            # Stack confidence score as ViTPose outputs\n",
    "\n",
    "            keypoints_per_frame.append({\"id\": id,\n",
    "                                        \"bbox\": bbox,\n",
    "                                        \"2d_keypoints\": keypoints,\n",
    "                                        \"3d_keypoints\": joints_3d})\n",
    "\n",
    "        image_file = frame.split('/')[-3]\n",
    "        frame_idx = frame.split('/')[-1].split('.')[0]\n",
    "\n",
    "        all_keypoints[frame_idx] = keypoints_per_frame\n",
    "\n",
    "        json_file_path = os.path.join(json_output_dir, f\"{os.path.splitext(os.path.basename(image_file))[0]}_{frame_idx}.json\")\n",
    "        keypoint_pkl_path = os.path.join(pkl_output_dir, f\"{os.path.splitext(os.path.basename(image_file))[0]}.pkl\")\n",
    "\n",
    "    # Save all keypoints as .pkl\n",
    "    if not os.path.isdir(pkl_output_dir): os.makedirs(pkl_output_dir)\n",
    "    if keypoint_pkl_path is not None and f\"{os.path.splitext(os.path.basename(image_file))[0]}.pkl\" not in os.listdir(pkl_output_dir):\n",
    "        with open(keypoint_pkl_path, 'wb') as f:\n",
    "            pickle.dump(all_keypoints, f)"
   ]
  }
 ],
 "metadata": {
  "kernelspec": {
   "display_name": "4D-humans",
   "language": "python",
   "name": "python3"
  },
  "language_info": {
   "codemirror_mode": {
    "name": "ipython",
    "version": 3
   },
   "file_extension": ".py",
   "mimetype": "text/x-python",
   "name": "python",
   "nbconvert_exporter": "python",
   "pygments_lexer": "ipython3",
   "version": "3.10.17"
  }
 },
 "nbformat": 4,
 "nbformat_minor": 5
}
