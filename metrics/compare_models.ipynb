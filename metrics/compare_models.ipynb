{
 "cells": [
  {
   "cell_type": "markdown",
   "id": "8a6d5cde",
   "metadata": {},
   "source": [
    "## Compare the triangulation obtained with Pose2Sim for various camera combinations\n",
    "\n",
    "By: Léa Drolet-Roy\n",
    "\n",
    "Last modification: 2025-07-25"
   ]
  },
  {
   "cell_type": "code",
   "execution_count": null,
   "id": "a514be8c",
   "metadata": {},
   "outputs": [],
   "source": [
    "import numpy as np\n",
    "import json\n",
    "import os\n",
    "\n",
    "import matplotlib.pyplot as plt\n",
    "import matplotlib.image as mpimg\n",
    "from matplotlib.patches import Rectangle, Patch\n",
    "\n",
    "import seaborn as sns\n",
    "import pandas as pd\n",
    "\n",
    "import joblib\n",
    "import itertools\n",
    "\n",
    "from compare_keypoints_3D import draw_skeleton"
   ]
  }
 ],
 "metadata": {
  "language_info": {
   "name": "python"
  }
 },
 "nbformat": 4,
 "nbformat_minor": 5
}
