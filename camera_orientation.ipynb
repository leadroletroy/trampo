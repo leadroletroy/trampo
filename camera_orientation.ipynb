{
 "cells": [
  {
   "cell_type": "markdown",
   "id": "98679021",
   "metadata": {},
   "source": []
  },
  {
   "cell_type": "code",
   "execution_count": null,
   "id": "622cd564",
   "metadata": {},
   "outputs": [],
   "source": [
    "import numpy as np\n",
    "import cv2\n",
    "import json\n",
    "from scipy.spatial.transform import Rotation as Rscipy\n",
    "\n",
    "with open('/home/lea/trampo/trampo/cameras_parameters.json', 'r') as f:\n",
    "    params = json.load(f)\n",
    "    camera_orientations = params['camera_orientation']\n",
    "\n",
    "rvec = camera_orientations['Camera_1']\n",
    "print(rvec)\n",
    "rvec = np.aray([ -0.048417275949024,0.752827332541209,2.27113483310729]) # Ton vecteur 3x1\n",
    "R, _ = cv2.Rodrigues(rvec)  # Matrice de rotation 3x3"
   ]
  },
  {
   "cell_type": "code",
   "execution_count": null,
   "id": "5de2422a",
   "metadata": {},
   "outputs": [],
   "source": [
    "camera_up = R[:, 1]  # Axe Y de la caméra\n",
    "world_up = np.array([0, 1, 0])\n",
    "\n",
    "dot = np.dot(camera_up, world_up)\n",
    "angle = np.arccos(dot) * 180 / np.pi  # En degrés\n",
    "print(f\"Inclinaison de la caméra par rapport à la verticale : {angle:.2f}°\")\n"
   ]
  },
  {
   "cell_type": "code",
   "execution_count": null,
   "id": "4508fa86",
   "metadata": {},
   "outputs": [],
   "source": [
    "\n",
    "rotation = Rscipy.from_matrix(R)\n",
    "euler_angles = rotation.as_euler('xyz', degrees=True)\n",
    "print(\"Angles de roulis, tangage, lacet :\", euler_angles)\n"
   ]
  }
 ],
 "metadata": {
  "kernelspec": {
   "display_name": ".venv",
   "language": "python",
   "name": "python3"
  },
  "language_info": {
   "name": "python",
   "version": "3.12.3"
  }
 },
 "nbformat": 4,
 "nbformat_minor": 5
}
